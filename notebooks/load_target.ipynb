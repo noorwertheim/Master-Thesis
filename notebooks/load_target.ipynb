{
 "cells": [
  {
   "cell_type": "code",
   "execution_count": 1,
   "metadata": {},
   "outputs": [],
   "source": [
    "import sys\n",
    "import os\n",
    "import numpy as np\n",
    "sys.path.insert(1, '../src/')\n",
    "from config import raw_data_path, univariate_data_path, processed_data_path, models_path\n",
    "from preprocessing_modules import EHGRecord, trim_target, filter_target\n",
    "import scipy.io\n",
    "import pandas as pd"
   ]
  },
  {
   "cell_type": "code",
   "execution_count": 32,
   "metadata": {},
   "outputs": [
    {
     "name": "stdout",
     "output_type": "stream",
     "text": [
      "Extracted 167 EHG records:\n",
      "<preprocessing_modules.EHGRecord object at 0x148db2049350>\n",
      "<preprocessing_modules.EHGRecord object at 0x148d8b0f5090>\n",
      "<preprocessing_modules.EHGRecord object at 0x148d866db8d0>\n",
      "<preprocessing_modules.EHGRecord object at 0x148d8aafff50>\n",
      "<preprocessing_modules.EHGRecord object at 0x148db2048fd0>\n"
     ]
    }
   ],
   "source": [
    "\n",
    "mat_files_dir = os.path.join('..', '..', '..', '..', '..', 'projects', 'prjs1386', 'mat_files')\n",
    "\n",
    "ehg_records = []\n",
    "for file_name in os.listdir(mat_files_dir):\n",
    "    if file_name.endswith(\".mat\"):  # Process only .mat files\n",
    "        file_path = os.path.join(mat_files_dir, file_name)  # Full path\n",
    "        \n",
    "        # Pass the full file path as record_name\n",
    "        ehg_record = EHGRecord(file_path)\n",
    "        ehg_records.append(ehg_record)\n",
    "\n",
    "# Print summary of extracted records\n",
    "print(f\"Extracted {len(ehg_records)} EHG records:\")\n",
    "for record in ehg_records[:5]:  # Print first 5 records as a preview\n",
    "    print(record)\n"
   ]
  },
  {
   "cell_type": "code",
   "execution_count": 33,
   "metadata": {},
   "outputs": [
    {
     "name": "stdout",
     "output_type": "stream",
     "text": [
      "167\n"
     ]
    }
   ],
   "source": [
    "print(len(ehg_records))"
   ]
  },
  {
   "cell_type": "code",
   "execution_count": 34,
   "metadata": {},
   "outputs": [
    {
     "name": "stdout",
     "output_type": "stream",
     "text": [
      "../../../../../projects/prjs1386/mat_files/Hopper-2023_05_25_12_03_38-0000010090-0003.mat\n",
      "[[-1.14440918e-01 -1.14440918e-01  0.00000000e+00  1.14440918e-01\n",
      "   0.00000000e+00  1.14440918e-01]\n",
      " [ 9.84191895e+00  9.95635986e+00 -1.00708008e+01 -1.99127197e+01\n",
      "   1.14440918e-01 -2.00271606e+01]\n",
      " [ 1.31607056e+01  1.32751465e+01 -1.33895874e+01 -2.65502930e+01\n",
      "   1.14440918e-01 -2.66647339e+01]\n",
      " ...\n",
      " [ 1.43051147e+02 -1.87088013e+03  1.58718115e+03  1.44413000e+03\n",
      "  -2.01393127e+03  3.45806128e+03]\n",
      " [ 1.82579041e+03 -1.36024475e+03 -1.47365576e+03 -3.29944629e+03\n",
      "  -3.18603516e+03 -1.13411011e+02]\n",
      " [ 1.91116333e+03 -9.61761475e+02 -1.79821021e+03 -3.70937354e+03\n",
      "  -2.87292480e+03 -8.36448730e+02]]\n"
     ]
    }
   ],
   "source": [
    "print(ehg_records[0].record_name)\n",
    "print(ehg_records[0].ehg_signals)"
   ]
  },
  {
   "cell_type": "code",
   "execution_count": 35,
   "metadata": {},
   "outputs": [
    {
     "name": "stdout",
     "output_type": "stream",
     "text": [
      "Saved 167 records to ../data/raw/target_data.npy\n",
      "Records with missing 'preterm': 24 (Expected: 27)\n"
     ]
    }
   ],
   "source": [
    "import os\n",
    "import numpy as np\n",
    "import pandas as pd\n",
    "\n",
    "# Path to clinical data CSV\n",
    "clinical_data_path = os.path.join('..', '..', '..', '..', '..', 'projects', 'prjs1386', 'clinical_data_cocoon.csv')\n",
    "\n",
    "# Load clinical data\n",
    "clinical_df = pd.read_csv(clinical_data_path)\n",
    "clinical_df.replace({'ga_weeks_at_birth': {'nan': np.nan, 'NaN': np.nan, '': np.nan}}, inplace=True)\n",
    "\n",
    "# Convert 'ga_weeks_at_birth' to preterm labels, ensuring None for missing values\n",
    "def get_preterm_label(ga_weeks):\n",
    "    if pd.isna(ga_weeks):  # Explicitly check for missing values\n",
    "        return None\n",
    "    return 1 if ga_weeks < 37 else 0\n",
    "\n",
    "# Fill missing sampling frequencies with 128\n",
    "clinical_df['fs'] = clinical_df['sampling_freq'].fillna(128)\n",
    "\n",
    "# Create mappings for lookup\n",
    "record_to_preterm = {row['sensor_record_id']: get_preterm_label(row['ga_weeks_at_birth']) for _, row in clinical_df.iterrows()}\n",
    "record_to_fs = {row['sensor_record_id']: row['fs'] for _, row in clinical_df.iterrows()}\n",
    "\n",
    "# Prepare data for .npy file\n",
    "ehg_data = []\n",
    "for record in ehg_records:\n",
    "    # Extract only the relevant part of the record name\n",
    "    record_name = os.path.basename(record.record_name).replace('.mat', '')\n",
    "\n",
    "    # Ensure missing preterm values are correctly assigned\n",
    "    preterm = record_to_preterm.get(record_name, None)  # Now properly assigns None\n",
    "    fs = record_to_fs.get(record_name, 128)  # Default to 128 if missing\n",
    "\n",
    "    # Append as a tuple\n",
    "    ehg_data.append((record_name, record.ehg_signals, preterm, fs))\n",
    "\n",
    "# Convert to structured NumPy array\n",
    "dtype = [('record_name', 'U100'), ('signal', 'O'), ('preterm', 'O'), ('fs', 'int')]\n",
    "structured_array = np.array(ehg_data, dtype=dtype)\n",
    "\n",
    "# Save the updated dataset\n",
    "output_path = os.path.join(raw_data_path, 'target_data.npy')\n",
    "np.save(output_path, structured_array)\n",
    "\n",
    "print(f\"Saved {len(ehg_data)} records to {output_path}\")\n",
    "\n",
    "# Check if missing preterm values match the expected count\n",
    "missing_preterm_records = [record for record in structured_array if record['preterm'] is None]\n",
    "print(f\"Records with missing 'preterm': {len(missing_preterm_records)} (Expected: 27)\")\n"
   ]
  },
  {
   "cell_type": "code",
   "execution_count": 5,
   "metadata": {},
   "outputs": [
    {
     "name": "stdout",
     "output_type": "stream",
     "text": [
      "<class 'numpy.ndarray'>\n",
      "('Hopper-2023_05_25_12_03_38-0000010090-0003', array([[-1.14440918e-01, -1.14440918e-01,  0.00000000e+00,\n",
      "         1.14440918e-01,  0.00000000e+00,  1.14440918e-01],\n",
      "       [ 9.84191895e+00,  9.95635986e+00, -1.00708008e+01,\n",
      "        -1.99127197e+01,  1.14440918e-01, -2.00271606e+01],\n",
      "       [ 1.31607056e+01,  1.32751465e+01, -1.33895874e+01,\n",
      "        -2.65502930e+01,  1.14440918e-01, -2.66647339e+01],\n",
      "       ...,\n",
      "       [ 1.43051147e+02, -1.87088013e+03,  1.58718115e+03,\n",
      "         1.44413000e+03, -2.01393127e+03,  3.45806128e+03],\n",
      "       [ 1.82579041e+03, -1.36024475e+03, -1.47365576e+03,\n",
      "        -3.29944629e+03, -3.18603516e+03, -1.13411011e+02],\n",
      "       [ 1.91116333e+03, -9.61761475e+02, -1.79821021e+03,\n",
      "        -3.70937354e+03, -2.87292480e+03, -8.36448730e+02]],\n",
      "      shape=(436608, 6), dtype=float32), 0, 128)\n"
     ]
    }
   ],
   "source": [
    "import numpy as np\n",
    "\n",
    "# Load the dataset\n",
    "ehg_dataset_path = os.path.join(raw_data_path, 'target_data.npy')\n",
    "ehg_data = np.load(ehg_dataset_path, allow_pickle=True)\n",
    "\n",
    "# Filter records where 'preterm' is None\n",
    "missing_preterm_records = [record for record in ehg_data if record['preterm'] is None]\n",
    "\n",
    "# Print results\n",
    "# print(f\"Total records with missing label: {len(missing_preterm_records)}\")\n",
    "\n",
    "# for record in missing_preterm_records:  # Show only first 5 for preview\n",
    "#     print(f\"Record Name: {record['record_name']}\")\n",
    "\n",
    "# print(f\"Missing values in 'ga_weeks_at_birth': {clinical_df['ga_weeks_at_birth'].isna().sum()}\")\n",
    "print(type(ehg_data))\n",
    "print(ehg_data[0])\n"
   ]
  },
  {
   "cell_type": "code",
   "execution_count": 37,
   "metadata": {},
   "outputs": [
    {
     "name": "stdout",
     "output_type": "stream",
     "text": [
      "Records in .mat files but NOT in CSV (4):\n",
      "- Hopper-2023_01_11_10_44_42-0000010090-0002\n",
      "- Hopper-2023_01_11_11_08_48-0000010090-0003\n",
      "- Hopper-2023_02_14_08_43_21-0000010090-0001\n",
      "- Hopper-2023_11_01_17_18_35-0000010181-0003\n",
      "\n",
      "Records in CSV but NOT in .mat files (0):\n"
     ]
    }
   ],
   "source": [
    "import os\n",
    "import pandas as pd\n",
    "\n",
    "# Paths\n",
    "mat_files_dir = os.path.join('..', '..', '..', '..', '..', 'projects', 'prjs1386', 'mat_files')\n",
    "clinical_data_path = os.path.join('..', '..', '..', '..', '..', 'projects', 'prjs1386', 'clinical_data_cocoon.csv')\n",
    "\n",
    "# Get record names from ehg_records (Extract only the filename without extension)\n",
    "mat_file_records = {os.path.basename(record.record_name).replace('.mat', '') for record in ehg_records}\n",
    "\n",
    "# Load CSV and extract record names\n",
    "clinical_df = pd.read_csv(clinical_data_path)\n",
    "\n",
    "csv_records = set(clinical_df['sensor_record_id'].dropna().astype(str))\n",
    "\n",
    "# Find mismatches\n",
    "mat_not_in_csv = mat_file_records - csv_records\n",
    "csv_not_in_mat = csv_records - mat_file_records\n",
    "\n",
    "# Print results\n",
    "print(f\"Records in .mat files but NOT in CSV ({len(mat_not_in_csv)}):\")\n",
    "for record in sorted(mat_not_in_csv):\n",
    "    print(f\"- {record}\")\n",
    "\n",
    "print(f\"\\nRecords in CSV but NOT in .mat files ({len(csv_not_in_mat)}):\")\n",
    "for record in sorted(csv_not_in_mat):\n",
    "    print(f\"- {record}\")\n"
   ]
  },
  {
   "cell_type": "code",
   "execution_count": null,
   "metadata": {},
   "outputs": [],
   "source": []
  }
 ],
 "metadata": {
  "kernelspec": {
   "display_name": "Python 3",
   "language": "python",
   "name": "python3"
  },
  "language_info": {
   "codemirror_mode": {
    "name": "ipython",
    "version": 3
   },
   "file_extension": ".py",
   "mimetype": "text/x-python",
   "name": "python",
   "nbconvert_exporter": "python",
   "pygments_lexer": "ipython3",
   "version": "3.11.7"
  }
 },
 "nbformat": 4,
 "nbformat_minor": 2
}
