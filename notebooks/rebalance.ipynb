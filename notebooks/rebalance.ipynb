{
 "cells": [
  {
   "cell_type": "code",
   "execution_count": 9,
   "metadata": {},
   "outputs": [],
   "source": [
    "import os\n",
    "import numpy as np\n",
    "import sys\n",
    "sys.path.insert(1, '../src/')\n",
    "from config import raw_data_path, univariate_data_path, processed_data_path, models_path\n",
    "import random\n",
    "\n"
   ]
  },
  {
   "cell_type": "code",
   "execution_count": 10,
   "metadata": {},
   "outputs": [],
   "source": [
    "dataset_name = 'target_univariate_train'\n",
    "save_dir = os.path.join(univariate_data_path, dataset_name + \".npy\")\n",
    "train_data = np.load(save_dir, allow_pickle=True)"
   ]
  },
  {
   "cell_type": "code",
   "execution_count": 11,
   "metadata": {},
   "outputs": [
    {
     "name": "stdout",
     "output_type": "stream",
     "text": [
      "{'record_name': np.str_('Hopper-2022_08_24_06_55_46-0000010181-0001'), 'signal': array([[ -8.77326634],\n",
      "       [-16.30170858],\n",
      "       [-12.15312614],\n",
      "       ...,\n",
      "       [  1.94513686],\n",
      "       [  0.52803341],\n",
      "       [  2.90890496]]), 'fs': 20, 'preterm': 1}\n"
     ]
    }
   ],
   "source": [
    "print(train_data[0])"
   ]
  },
  {
   "cell_type": "code",
   "execution_count": 12,
   "metadata": {},
   "outputs": [
    {
     "name": "stdout",
     "output_type": "stream",
     "text": [
      "Original class distribution: {1: 75, 0: 49}\n",
      "Balanced class distribution: {0: 75, 1: 75}\n"
     ]
    }
   ],
   "source": [
    "import numpy as np\n",
    "import os\n",
    "import random\n",
    "from collections import Counter\n",
    "\n",
    "# Set random seed for reproducibility\n",
    "random.seed(42)\n",
    "\n",
    "# Count class distribution\n",
    "labels = [item['preterm'] for item in train_data]\n",
    "counter = Counter(labels)\n",
    "print(f\"Original class distribution: {dict(counter)}\")\n",
    "\n",
    "# Separate into classes\n",
    "class_0 = [item for item in train_data if item['preterm'] == 0]\n",
    "class_1 = [item for item in train_data if item['preterm'] == 1]\n",
    "\n",
    "# Determine majority and minority\n",
    "if len(class_0) > len(class_1):\n",
    "    majority_class = class_0\n",
    "    minority_class = class_1\n",
    "else:\n",
    "    majority_class = class_1\n",
    "    minority_class = class_0\n",
    "\n",
    "# Upsample minority class\n",
    "upsampled_minority = random.choices(minority_class, k=len(majority_class))\n",
    "\n",
    "# Combine and shuffle\n",
    "balanced_data = majority_class + upsampled_minority\n",
    "random.shuffle(balanced_data)\n",
    "\n",
    "# Check new distribution\n",
    "new_labels = [item['preterm'] for item in balanced_data]\n",
    "new_counter = Counter(new_labels)\n",
    "print(f\"Balanced class distribution: {dict(new_counter)}\")\n",
    "\n",
    "# Save the balanced dataset\n",
    "save_dir = os.path.join(univariate_data_path, \"target_train_balanced.npy\")\n",
    "np.save(save_dir, balanced_data)\n"
   ]
  }
 ],
 "metadata": {
  "kernelspec": {
   "display_name": "base",
   "language": "python",
   "name": "python3"
  },
  "language_info": {
   "codemirror_mode": {
    "name": "ipython",
    "version": 3
   },
   "file_extension": ".py",
   "mimetype": "text/x-python",
   "name": "python",
   "nbconvert_exporter": "python",
   "pygments_lexer": "ipython3",
   "version": "3.12.9"
  }
 },
 "nbformat": 4,
 "nbformat_minor": 2
}
