{
 "cells": [
  {
   "cell_type": "markdown",
   "metadata": {},
   "source": [
    "CNN Baseline classifier using train/test split datasets"
   ]
  },
  {
   "cell_type": "code",
   "execution_count": 26,
   "metadata": {},
   "outputs": [
    {
     "name": "stderr",
     "output_type": "stream",
     "text": [
      "\u001b[34m\u001b[1mwandb\u001b[0m: \u001b[33mWARNING\u001b[0m Calling wandb.login() after wandb.init() has no effect.\n"
     ]
    },
    {
     "name": "stdout",
     "output_type": "stream",
     "text": [
      "/home/nwertheim/miniconda3/bin/python\n"
     ]
    },
    {
     "data": {
      "text/plain": [
       "True"
      ]
     },
     "execution_count": 26,
     "metadata": {},
     "output_type": "execute_result"
    }
   ],
   "source": [
    "import os\n",
    "import numpy as np\n",
    "import sys\n",
    "print(sys.executable)\n",
    "import sys\n",
    "sys.path.insert(1, '../src/')\n",
    "from CNN_classifier_model import CNNClassifier, train_model\n",
    "from config import raw_data_path, univariate_data_path, processed_data_path\n",
    "from preprocessing_modules import create_time_windows_with_labels\n",
    "from sklearn.ensemble import RandomForestClassifier\n",
    "from sklearn.model_selection import train_test_split\n",
    "from sklearn.metrics import classification_report\n",
    "import numpy as np\n",
    "from sklearn.metrics import classification_report, confusion_matrix, ConfusionMatrixDisplay\n",
    "from sklearn.metrics import roc_auc_score, average_precision_score\n",
    "import matplotlib.pyplot as plt\n",
    "from collections import Counter\n",
    "import torch.nn as nn\n",
    "import torch\n",
    "from torch.utils.data import Dataset, DataLoader\n",
    "import pandas as pd\n",
    "from sklearn.utils.class_weight import compute_class_weight\n",
    "import wandb\n",
    "wandb.login(key=\"5f15eb7efc1e0e939ccc83345338a0b8c24e2fbc\")\n"
   ]
  },
  {
   "cell_type": "code",
   "execution_count": 27,
   "metadata": {},
   "outputs": [
    {
     "data": {
      "text/html": [],
      "text/plain": [
       "<IPython.core.display.HTML object>"
      ]
     },
     "metadata": {},
     "output_type": "display_data"
    },
    {
     "data": {
      "text/html": [
       "<br>    <style><br>        .wandb-row {<br>            display: flex;<br>            flex-direction: row;<br>            flex-wrap: wrap;<br>            justify-content: flex-start;<br>            width: 100%;<br>        }<br>        .wandb-col {<br>            display: flex;<br>            flex-direction: column;<br>            flex-basis: 100%;<br>            flex: 1;<br>            padding: 10px;<br>        }<br>    </style><br><div class=\"wandb-row\"><div class=\"wandb-col\"><h3>Run history:</h3><br/><table class=\"wandb\"><tr><td>train_loss</td><td>▆▅▄█▃▄▂▃▄▅▄▃▃▅▄▁▂▅▄▆▆▃▇▅▂▆▆▅▅▃▂▃▂▇▂▂▆▄▄▄</td></tr></table><br/></div><div class=\"wandb-col\"><h3>Run summary:</h3><br/><table class=\"wandb\"><tr><td>train_loss</td><td>0.38567</td></tr></table><br/></div></div>"
      ],
      "text/plain": [
       "<IPython.core.display.HTML object>"
      ]
     },
     "metadata": {},
     "output_type": "display_data"
    },
    {
     "data": {
      "text/html": [
       " View run <strong style=\"color:#cdcd00\">run-with-class-weights2</strong> at: <a href='https://wandb.ai/noorwertheim/Baseline%20CNN%20classifier/runs/4tqji5fg' target=\"_blank\">https://wandb.ai/noorwertheim/Baseline%20CNN%20classifier/runs/4tqji5fg</a><br> View project at: <a href='https://wandb.ai/noorwertheim/Baseline%20CNN%20classifier' target=\"_blank\">https://wandb.ai/noorwertheim/Baseline%20CNN%20classifier</a><br>Synced 5 W&B file(s), 0 media file(s), 0 artifact file(s) and 0 other file(s)"
      ],
      "text/plain": [
       "<IPython.core.display.HTML object>"
      ]
     },
     "metadata": {},
     "output_type": "display_data"
    },
    {
     "data": {
      "text/html": [
       "Find logs at: <code>./wandb/run-20250429_110416-4tqji5fg/logs</code>"
      ],
      "text/plain": [
       "<IPython.core.display.HTML object>"
      ]
     },
     "metadata": {},
     "output_type": "display_data"
    },
    {
     "data": {
      "text/html": [
       "Tracking run with wandb version 0.19.9"
      ],
      "text/plain": [
       "<IPython.core.display.HTML object>"
      ]
     },
     "metadata": {},
     "output_type": "display_data"
    },
    {
     "data": {
      "text/html": [
       "Run data is saved locally in <code>/gpfs/home3/nwertheim/Master-Thesis/notebooks/wandb/run-20250429_110918-3o42m2ee</code>"
      ],
      "text/plain": [
       "<IPython.core.display.HTML object>"
      ]
     },
     "metadata": {},
     "output_type": "display_data"
    },
    {
     "data": {
      "text/html": [
       "Syncing run <strong><a href='https://wandb.ai/noorwertheim/Baseline%20CNN%20classifier/runs/3o42m2ee' target=\"_blank\">run-with-class-weights-correct</a></strong> to <a href='https://wandb.ai/noorwertheim/Baseline%20CNN%20classifier' target=\"_blank\">Weights & Biases</a> (<a href='https://wandb.me/developer-guide' target=\"_blank\">docs</a>)<br>"
      ],
      "text/plain": [
       "<IPython.core.display.HTML object>"
      ]
     },
     "metadata": {},
     "output_type": "display_data"
    },
    {
     "data": {
      "text/html": [
       " View project at <a href='https://wandb.ai/noorwertheim/Baseline%20CNN%20classifier' target=\"_blank\">https://wandb.ai/noorwertheim/Baseline%20CNN%20classifier</a>"
      ],
      "text/plain": [
       "<IPython.core.display.HTML object>"
      ]
     },
     "metadata": {},
     "output_type": "display_data"
    },
    {
     "data": {
      "text/html": [
       " View run at <a href='https://wandb.ai/noorwertheim/Baseline%20CNN%20classifier/runs/3o42m2ee' target=\"_blank\">https://wandb.ai/noorwertheim/Baseline%20CNN%20classifier/runs/3o42m2ee</a>"
      ],
      "text/plain": [
       "<IPython.core.display.HTML object>"
      ]
     },
     "metadata": {},
     "output_type": "display_data"
    },
    {
     "data": {
      "text/html": [
       "<button onClick=\"this.nextSibling.style.display='block';this.style.display='none';\">Display W&B run</button><iframe src='https://wandb.ai/noorwertheim/Baseline%20CNN%20classifier/runs/3o42m2ee?jupyter=true' style='border:none;width:100%;height:420px;display:none;'></iframe>"
      ],
      "text/plain": [
       "<wandb.sdk.wandb_run.Run at 0x1509abffd880>"
      ]
     },
     "execution_count": 27,
     "metadata": {},
     "output_type": "execute_result"
    }
   ],
   "source": [
    "import wandb\n",
    "\n",
    "import wandb\n",
    "\n",
    "# Optional: Define a project name and other metadata\n",
    "wandb.init(\n",
    "    project=\"Baseline CNN classifier\",\n",
    "    name=\"run-with-class-weights-correct\",  # Optional: to name the run\n",
    "    config={\n",
    "        \"learning_rate\": 0.00012403724372113712,\n",
    "        \"epochs\": 10,\n",
    "        \"batch_size\": 16,\n",
    "    }\n",
    ")\n"
   ]
  },
  {
   "cell_type": "code",
   "execution_count": 28,
   "metadata": {},
   "outputs": [
    {
     "name": "stdout",
     "output_type": "stream",
     "text": [
      "124\n",
      "32\n",
      "{'record_name': np.str_('Hopper-2022_08_24_06_55_46-0000010181-0001'), 'signal': array([[ -8.77326634],\n",
      "       [-16.30170858],\n",
      "       [-12.15312614],\n",
      "       ...,\n",
      "       [  1.94513686],\n",
      "       [  0.52803341],\n",
      "       [  2.90890496]]), 'fs': 20, 'preterm': 1}\n"
     ]
    }
   ],
   "source": [
    "train_dir = os.path.join(univariate_data_path, \"target_univariate_train.npy\")\n",
    "train_data = np.load(train_dir, allow_pickle=True)\n",
    "# train_data = pd.DataFrame(train_data)\n",
    "test_dir = os.path.join(univariate_data_path, \"target_univariate_test.npy\")\n",
    "test_data = np.load(test_dir, allow_pickle=True)\n",
    "# test_data = pd.DataFrame(test_data)\n",
    "print(len(train_data))\n",
    "print(len(test_data))\n",
    "print(train_data[0])\n",
    "\n",
    "train_windows = create_time_windows_with_labels(train_data)\n",
    "test_windows = create_time_windows_with_labels(test_data)"
   ]
  },
  {
   "cell_type": "code",
   "execution_count": 29,
   "metadata": {},
   "outputs": [],
   "source": [
    "learning_rate = 0.00012403724372113712\n",
    "epochs = 50\n",
    "batch_size = 16\n",
    "num_layers = 5\n",
    "base_channels = 32\n",
    "device = torch.device(device if torch.cuda.is_available() else \"cpu\")\n"
   ]
  },
  {
   "cell_type": "code",
   "execution_count": 30,
   "metadata": {},
   "outputs": [
    {
     "name": "stdout",
     "output_type": "stream",
     "text": [
      "Train label distribution:\n",
      "  Term (0): 319\n",
      "  Preterm (1): 752\n",
      "\n",
      "Test label distribution:\n",
      "  Term (0): 306\n",
      "  Preterm (1): 593\n"
     ]
    }
   ],
   "source": [
    "from torch.utils.data import DataLoader, TensorDataset, random_split\n",
    "from sklearn.utils.class_weight import compute_class_weight\n",
    "\n",
    "from collections import Counter\n",
    "\n",
    "# Example dataset with windows and labels\n",
    "train_windows, train_labels = create_time_windows_with_labels(train_data)\n",
    "test_windows, test_labels = create_time_windows_with_labels(test_data)\n",
    "\n",
    "# Count label distribution\n",
    "train_label_counts = Counter(train_labels)\n",
    "test_label_counts = Counter(test_labels)\n",
    "\n",
    "# Print the counts\n",
    "print(\"Train label distribution:\")\n",
    "print(f\"  Term (0): {train_label_counts[0]}\")\n",
    "print(f\"  Preterm (1): {train_label_counts[1]}\")\n",
    "\n",
    "print(\"\\nTest label distribution:\")\n",
    "print(f\"  Term (0): {test_label_counts[0]}\")\n",
    "print(f\"  Preterm (1): {test_label_counts[1]}\")\n",
    "\n",
    "# Convert to tensors\n",
    "train_windows_tensor = torch.tensor(train_windows, dtype=torch.float32)\n",
    "train_labels_tensor = torch.tensor(train_labels, dtype=torch.float32)\n",
    "test_windows_tensor = torch.tensor(test_windows, dtype=torch.float32)\n",
    "test_labels_tensor = torch.tensor(test_labels, dtype=torch.float32)\n",
    "\n",
    "train_dataset = TensorDataset(train_windows_tensor, train_labels_tensor)\n",
    "test_dataset = TensorDataset(test_windows_tensor, test_labels_tensor)\n",
    "\n",
    "# Create DataLoaders\n",
    "train_loader = DataLoader(train_dataset, batch_size=batch_size, shuffle=True)\n",
    "test_loader = DataLoader(test_dataset, batch_size=batch_size, shuffle=False)"
   ]
  },
  {
   "cell_type": "code",
   "execution_count": 31,
   "metadata": {},
   "outputs": [],
   "source": [
    "# def extract_windows_from_signal(signal, window_size):\n",
    "#     signal = signal.squeeze()  # (seq_len,)\n",
    "#     total_length = len(signal)\n",
    "#     n_windows = total_length // window_size\n",
    "#     windows = np.array([\n",
    "#         signal[i * window_size: (i + 1) * window_size]\n",
    "#         for i in range(n_windows)\n",
    "#     ])\n",
    "#     return windows  # shape (n_windows, window_size)\n",
    "\n",
    "# def create_windowed_dataset(df, window_size):\n",
    "#     windowed_data = []  \n",
    "\n",
    "#     for idx, row in df.iterrows():\n",
    "#         record_name = row[0]['record_name']\n",
    "#         label = row[0]['preterm']\n",
    "#         signal = row[0]['signal']  # shape (seq_len, 1)\n",
    "\n",
    "#         windows = extract_windows_from_signal(signal, window_size)\n",
    "\n",
    "#         for i, window in enumerate(windows):\n",
    "#             windowed_data.append({\n",
    "#                 'record_name': record_name,\n",
    "#                 'window_id': i,\n",
    "#                 'window': window.astype(np.float32),\n",
    "#                 'label': label\n",
    "#             })\n",
    "\n",
    "#     return pd.DataFrame(windowed_data)"
   ]
  },
  {
   "cell_type": "code",
   "execution_count": 32,
   "metadata": {},
   "outputs": [],
   "source": [
    "# class TimeSeriesWindowDataset(Dataset):\n",
    "#     def __init__(self, dataframe):\n",
    "#         self.data = dataframe\n",
    "\n",
    "#     def __len__(self):\n",
    "#         return len(self.data)\n",
    "\n",
    "#     def __getitem__(self, idx):\n",
    "#         row = self.data.iloc[idx]\n",
    "#         window = torch.tensor(row['window']).unsqueeze(0)  # shape (1, window_size)\n",
    "#         label = torch.tensor(row['label'], dtype=torch.float32)\n",
    "#         return window, label\n",
    "\n",
    "# def create_dataloaders(train_df, test_df, batch_size=32):\n",
    "#     train_loader = DataLoader(TimeSeriesWindowDataset(train_df), batch_size=batch_size, shuffle=True)\n",
    "#     test_loader = DataLoader(TimeSeriesWindowDataset(test_df), batch_size=batch_size, shuffle=False)\n",
    "#     return train_loader, test_loader\n"
   ]
  },
  {
   "cell_type": "code",
   "execution_count": 33,
   "metadata": {},
   "outputs": [],
   "source": [
    "# window_size = 12000\n",
    "\n",
    "# # 1. Create windows\n",
    "# train_windows = create_windowed_dataset(train_data, window_size=window_size)\n",
    "# test_windows = create_windowed_dataset(test_data, window_size=window_size)\n",
    "\n",
    "# # 3. Create DataLoaders\n",
    "# train_loader, test_loader = create_dataloaders(train_windows, test_windows)\n",
    "# print(len(train_loader), len(test_loader))\n",
    "\n",
    "# def print_class_distribution(df, name=\"Dataset\"):\n",
    "#     class_counts = df['label'].value_counts().sort_index()\n",
    "#     total_count = len(df)\n",
    "    \n",
    "#     term_count = class_counts.get(0, 0)  # count for term (0)\n",
    "#     preterm_count = class_counts.get(1, 0)  # count for preterm (1)\n",
    "    \n",
    "#     term_ratio = term_count / total_count\n",
    "#     preterm_ratio = preterm_count / total_count\n",
    "    \n",
    "#     print(f\"\\n{name} class distribution:\")\n",
    "#     print(f\"Term (0): {term_count} instances, {term_ratio:.2f} ratio\")\n",
    "#     print(f\"Preterm (1): {preterm_count} instances, {preterm_ratio:.2f} ratio\")\n",
    "#     print(f\"Total: {total_count} instances\")\n",
    "\n",
    "# # For train and test\n",
    "# print_class_distribution(train_windows, \"Train Set\")\n",
    "# print_class_distribution(test_windows, \"Test Set\")\n"
   ]
  },
  {
   "cell_type": "code",
   "execution_count": 34,
   "metadata": {},
   "outputs": [],
   "source": [
    "# import torch\n",
    "# import torch.nn as nn\n",
    "# import torch.nn.functional as F\n",
    "\n",
    "# class CNNClassifier(nn.Module):\n",
    "#     def __init__(self, input_length):\n",
    "#         super(CNNClassifier, self).__init__()\n",
    "        \n",
    "#         self.conv1 = nn.Conv1d(in_channels=1, out_channels=16, kernel_size=7, padding=3)\n",
    "#         self.bn1 = nn.BatchNorm1d(16)\n",
    "        \n",
    "#         self.conv2 = nn.Conv1d(16, 32, kernel_size=5, padding=2)\n",
    "#         self.bn2 = nn.BatchNorm1d(32)\n",
    "        \n",
    "#         self.conv3 = nn.Conv1d(32, 64, kernel_size=3, padding=1)\n",
    "#         self.bn3 = nn.BatchNorm1d(64)\n",
    "        \n",
    "#         self.pool = nn.AdaptiveAvgPool1d(1)\n",
    "#         self.classifier = nn.Linear(64, 1)\n",
    "\n",
    "#     def forward(self, x):\n",
    "#         x = F.relu(self.bn1(self.conv1(x)))  # (B, 16, L)\n",
    "#         x = F.relu(self.bn2(self.conv2(x)))  # (B, 32, L)\n",
    "#         x = F.relu(self.bn3(self.conv3(x)))  # (B, 64, L)\n",
    "        \n",
    "#         x = self.pool(x).squeeze(-1)         # (B, 64)\n",
    "#         x = self.classifier(x)               # (B, 1)\n",
    "#         return x\n"
   ]
  },
  {
   "cell_type": "code",
   "execution_count": 35,
   "metadata": {},
   "outputs": [],
   "source": [
    "from sklearn.metrics import roc_curve, auc, precision_recall_curve, average_precision_score\n",
    "import matplotlib.pyplot as plt\n",
    "import torch\n",
    "from sklearn.utils.class_weight import compute_class_weight\n",
    "import torch\n",
    "\n",
    "from sklearn.utils.class_weight import compute_class_weight\n",
    "import matplotlib.pyplot as plt\n",
    "import numpy as np\n",
    "import torch\n",
    "import torch.nn as nn\n",
    "\n",
    "# def train_model(model, train_loader, test_loader, epochs=10, lr=1e-3, device='cuda'):\n",
    "#     device = torch.device(device if torch.cuda.is_available() else \"cpu\")\n",
    "#     model = model.to(device)\n",
    "\n",
    "#     # Extract labels to compute class weights\n",
    "#     all_labels = []\n",
    "#     for _, y_batch in train_loader:\n",
    "#         all_labels.extend(y_batch.numpy())\n",
    "\n",
    "#     class_weights = compute_class_weight(\n",
    "#         class_weight='balanced',\n",
    "#         classes=np.array([0, 1]),\n",
    "#         y=np.array(all_labels)\n",
    "#     )\n",
    "    \n",
    "#     pos_weight = torch.tensor(class_weights[1] / class_weights[0], dtype=torch.float).to(device)\n",
    "#     # criterion = nn.BCEWithLogitsLoss(pos_weight=pos_weight)\n",
    "#     criterion = nn.BCEWithLogitsLoss()\n",
    "#     optimizer = torch.optim.Adam(model.parameters(), lr=lr)\n",
    "\n",
    "#     # Lists to store epoch-wise losses\n",
    "#     train_losses = []\n",
    "#     test_losses = []\n",
    "\n",
    "#     for epoch in range(epochs):\n",
    "#         model.train()\n",
    "#         epoch_train_loss = 0.0\n",
    "\n",
    "#         for x_batch, y_batch in train_loader:\n",
    "#             x_batch = x_batch.unsqueeze(1).to(device)  # Add channel dim: (B, 1, L)\n",
    "#             y_batch = y_batch.to(device).unsqueeze(1)  # (B,) → (B, 1)\n",
    "\n",
    "#             optimizer.zero_grad()\n",
    "#             outputs = model(x_batch)\n",
    "#             loss = criterion(outputs, y_batch)\n",
    "#             loss.backward()\n",
    "#             optimizer.step()\n",
    "\n",
    "#             epoch_train_loss += loss.item() * x_batch.size(0)\n",
    "\n",
    "#         avg_train_loss = epoch_train_loss / len(train_loader.dataset)\n",
    "#         train_losses.append(avg_train_loss)\n",
    "\n",
    "#         # Evaluate on test set\n",
    "#         model.eval()\n",
    "#         epoch_test_loss = 0.0\n",
    "#         with torch.no_grad():\n",
    "#             for x_batch, y_batch in test_loader:\n",
    "#                 x_batch = x_batch.unsqueeze(1).to(device)\n",
    "#                 y_batch = y_batch.to(device).unsqueeze(1)\n",
    "\n",
    "#                 outputs = model(x_batch)\n",
    "#                 loss = criterion(outputs, y_batch)\n",
    "#                 epoch_test_loss += loss.item() * x_batch.size(0)\n",
    "\n",
    "#         avg_test_loss = epoch_test_loss / len(test_loader.dataset)\n",
    "#         test_losses.append(avg_test_loss)\n",
    "\n",
    "#         print(f\"Epoch {epoch+1}/{epochs} | Train Loss: {avg_train_loss:.4f} | Test Loss: {avg_test_loss:.4f}\")\n",
    "\n",
    "#     # Plot loss curves\n",
    "#     plt.figure(figsize=(8, 5))\n",
    "#     plt.plot(train_losses, label=\"Train Loss\", marker='o')\n",
    "#     plt.plot(test_losses, label=\"Test Loss\", marker='s')\n",
    "#     plt.xlabel(\"Epoch\")\n",
    "#     plt.ylabel(\"Loss\")\n",
    "#     plt.title(\"Training and Test Loss per Epoch\")\n",
    "#     plt.legend()\n",
    "#     plt.grid(True)\n",
    "#     plt.tight_layout()\n",
    "#     plt.show()\n",
    "\n",
    "#     return model\n",
    "\n"
   ]
  },
  {
   "cell_type": "code",
   "execution_count": 36,
   "metadata": {},
   "outputs": [],
   "source": [
    "# from sklearn.metrics import roc_auc_score, average_precision_score, confusion_matrix, classification_report\n",
    "# import seaborn as sns\n",
    "# import matplotlib.pyplot as plt\n",
    "\n",
    "# def evaluate_model(model, dataloader, criterion, device='cuda'):\n",
    "#     model.eval()\n",
    "#     total_loss = 0.0\n",
    "#     all_preds = []\n",
    "#     all_probs = []\n",
    "#     all_labels = []\n",
    "#     device = torch.device(device if torch.cuda.is_available() else \"cpu\")\n",
    "\n",
    "#     with torch.no_grad():\n",
    "#         for x_batch, y_batch in dataloader:\n",
    "#             x_batch = x_batch.to(device)\n",
    "#             y_batch = y_batch.to(device).unsqueeze(1)\n",
    "\n",
    "#             outputs = model(x_batch)\n",
    "#             probs = torch.sigmoid(outputs)\n",
    "#             loss = criterion(outputs, y_batch)\n",
    "\n",
    "#             total_loss += loss.item() * x_batch.size(0)\n",
    "\n",
    "#             all_probs.append(probs.cpu())\n",
    "#             all_preds.append((probs >= 0.5).float().cpu())\n",
    "#             all_labels.append(y_batch.cpu())\n",
    "\n",
    "#     all_probs = torch.cat(all_probs).numpy().flatten()\n",
    "#     all_preds = torch.cat(all_preds).numpy().flatten()\n",
    "#     all_labels = torch.cat(all_labels).numpy().flatten()\n",
    "\n",
    "#     avg_loss = total_loss / len(dataloader.dataset)\n",
    "#     acc = (all_preds == all_labels).mean()\n",
    "#     auc = roc_auc_score(all_labels, all_probs)\n",
    "#     ap = average_precision_score(all_labels, all_probs)\n",
    "    \n",
    "#     print(f\"Loss: {avg_loss:.4f} | Acc: {acc:.4f} | AUC: {auc:.4f} | AP: {ap:.4f}\")\n",
    "    \n",
    "#     # Print classification report\n",
    "#     print(\"\\nClassification Report:\")\n",
    "#     print(classification_report(all_labels, all_preds, digits=4))\n",
    "\n",
    "#     # Plot confusion matrix\n",
    "#     cm = confusion_matrix(all_labels, all_preds)\n",
    "#     plot_confusion_matrix(cm, class_names=[\"Term\", \"Preterm\"])\n",
    "    \n",
    "#     return avg_loss, acc, auc, ap\n",
    "\n",
    "# def plot_confusion_matrix(cm, class_names):\n",
    "#     plt.figure(figsize=(6, 5))\n",
    "#     sns.heatmap(cm, annot=True, fmt=\"d\", cmap=\"Blues\", \n",
    "#                 xticklabels=class_names, yticklabels=class_names)\n",
    "#     plt.xlabel(\"Predicted\")\n",
    "#     plt.ylabel(\"True\")\n",
    "#     plt.title(\"Confusion Matrix\")\n",
    "#     plt.tight_layout()\n",
    "#     plt.show()\n"
   ]
  },
  {
   "cell_type": "code",
   "execution_count": 37,
   "metadata": {},
   "outputs": [
    {
     "name": "stdout",
     "output_type": "stream",
     "text": [
      "Epoch 1/10 | Test Loss (pre-update): 0.4317 | Train Loss: 0.4005\n",
      "Epoch 2/10 | Test Loss (pre-update): 0.4672 | Train Loss: 0.3912\n",
      "Epoch 3/10 | Test Loss (pre-update): 0.5246 | Train Loss: 0.3883\n",
      "Epoch 4/10 | Test Loss (pre-update): 0.5401 | Train Loss: 0.3863\n",
      "Epoch 5/10 | Test Loss (pre-update): 0.4966 | Train Loss: 0.3885\n",
      "Epoch 6/10 | Test Loss (pre-update): 0.5052 | Train Loss: 0.3849\n",
      "Epoch 7/10 | Test Loss (pre-update): 0.4923 | Train Loss: 0.3849\n",
      "Epoch 8/10 | Test Loss (pre-update): 0.5312 | Train Loss: 0.3871\n",
      "Epoch 9/10 | Test Loss (pre-update): 0.4720 | Train Loss: 0.3832\n",
      "Epoch 10/10 | Test Loss (pre-update): 0.5242 | Train Loss: 0.3881\n"
     ]
    },
    {
     "data": {
      "image/png": "[encoded data removed]",
      "text/plain": [
       "<Figure size 800x500 with 1 Axes>"
      ]
     },
     "metadata": {},
     "output_type": "display_data"
    }
   ],
   "source": [
    "# Hyperparameters\n",
    "\n",
    "\n",
    "\n",
    "input_length = 12000\n",
    "model = CNNClassifier(input_length=input_length, num_layers=num_layers, base_channels=base_channels)\n",
    "model = model.to(device)\n",
    "wandb.watch(model, log='all', log_freq=10)\n",
    "# print(model)\n",
    "# Train\n",
    "model = train_model(model, train_loader, test_loader, epochs=epochs, lr=learning_rate)\n"
   ]
  },
  {
   "cell_type": "code",
   "execution_count": 38,
   "metadata": {},
   "outputs": [
    {
     "name": "stdout",
     "output_type": "stream",
     "text": [
      "\n",
      " Evaluation Metrics:\n",
      "Accuracy:  0.6218\n",
      "Precision: 0.6774\n",
      "Recall:    0.8145\n",
      "F1 Score:  0.7397\n",
      "AUC:       0.6332\n",
      "AP:        0.7249\n"
     ]
    },
    {
     "data": {
      "image/png": "[encoded data removed]",
      "text/plain": [
       "<Figure size 640x480 with 2 Axes>"
      ]
     },
     "metadata": {},
     "output_type": "display_data"
    }
   ],
   "source": [
    "from sklearn.metrics import (\n",
    "    accuracy_score, precision_score, recall_score, f1_score,\n",
    "    confusion_matrix, roc_auc_score, average_precision_score, ConfusionMatrixDisplay\n",
    ")\n",
    "\n",
    "def evaluate_model(model, test_loader, device='cuda'):\n",
    "    device = torch.device(device if torch.cuda.is_available() else \"cpu\")\n",
    "    model = model.to(device)\n",
    "    model.eval()\n",
    "\n",
    "    all_preds = []\n",
    "    all_probs = []\n",
    "    all_labels = []\n",
    "\n",
    "    with torch.no_grad():\n",
    "        for x_batch, y_batch in test_loader:\n",
    "            x_batch = x_batch.unsqueeze(1).to(device)\n",
    "            y_batch = y_batch.to(device).unsqueeze(1)\n",
    "\n",
    "            logits = model(x_batch)\n",
    "            probs = torch.sigmoid(logits)\n",
    "\n",
    "            all_probs.extend(probs.cpu().numpy().flatten())\n",
    "            all_preds.extend((probs > 0.5).int().cpu().numpy().flatten())\n",
    "            all_labels.extend(y_batch.cpu().numpy().flatten())\n",
    "\n",
    "    # Convert to NumPy arrays\n",
    "    y_true = np.array(all_labels)\n",
    "    y_pred = np.array(all_preds)\n",
    "    y_score = np.array(all_probs)\n",
    "\n",
    "    # Compute metrics\n",
    "    acc = accuracy_score(y_true, y_pred)\n",
    "    prec = precision_score(y_true, y_pred, zero_division=0)\n",
    "    rec = recall_score(y_true, y_pred, zero_division=0)\n",
    "    f1 = f1_score(y_true, y_pred, zero_division=0)\n",
    "    auc = roc_auc_score(y_true, y_score)\n",
    "    ap = average_precision_score(y_true, y_score)\n",
    "\n",
    "    print(\"\\n Evaluation Metrics:\")\n",
    "    print(f\"Accuracy:  {acc:.4f}\")\n",
    "    print(f\"Precision: {prec:.4f}\")\n",
    "    print(f\"Recall:    {rec:.4f}\")\n",
    "    print(f\"F1 Score:  {f1:.4f}\")\n",
    "    print(f\"AUC:       {auc:.4f}\")\n",
    "    print(f\"AP:        {ap:.4f}\")\n",
    "\n",
    "    # Confusion matrix\n",
    "    cm = confusion_matrix(y_true, y_pred)\n",
    "    disp = ConfusionMatrixDisplay(confusion_matrix=cm, display_labels=[\"Term\", \"Preterm\"])\n",
    "    disp.plot(cmap=plt.cm.Blues)\n",
    "    plt.title(\"Confusion Matrix\")\n",
    "    plt.show()\n",
    "\n",
    "evaluate_model(model, test_loader)\n"
   ]
  },
  {
   "cell_type": "code",
   "execution_count": null,
   "metadata": {},
   "outputs": [],
   "source": []
  }
 ],
 "metadata": {
  "kernelspec": {
   "display_name": "thesisenv",
   "language": "python",
   "name": "python3"
  },
  "language_info": {
   "codemirror_mode": {
    "name": "ipython",
    "version": 3
   },
   "file_extension": ".py",
   "mimetype": "text/x-python",
   "name": "python",
   "nbconvert_exporter": "python",
   "pygments_lexer": "ipython3",
   "version": "3.12.9"
  }
 },
 "nbformat": 4,
 "nbformat_minor": 2
}
