{
 "cells": [
  {
   "cell_type": "markdown",
   "metadata": {},
   "source": [
    "CNN Baseline classifier using train/test split datasets"
   ]
  },
  {
   "cell_type": "code",
   "execution_count": 95,
   "metadata": {},
   "outputs": [
    {
     "name": "stdout",
     "output_type": "stream",
     "text": [
      "/home/nwertheim/miniconda3/bin/python\n"
     ]
    }
   ],
   "source": [
    "import os\n",
    "import numpy as np\n",
    "import sys\n",
    "print(sys.executable)\n",
    "import sys\n",
    "sys.path.insert(1, '../src/')\n",
    "from config import raw_data_path, univariate_data_path, processed_data_path\n",
    "from sklearn.ensemble import RandomForestClassifier\n",
    "from sklearn.model_selection import train_test_split\n",
    "from sklearn.metrics import classification_report\n",
    "import numpy as np\n",
    "from sklearn.metrics import classification_report, confusion_matrix, ConfusionMatrixDisplay\n",
    "from sklearn.metrics import roc_auc_score, average_precision_score\n",
    "import matplotlib.pyplot as plt\n",
    "from collections import Counter\n",
    "import torch.nn as nn\n",
    "from torch.utils.data import Dataset, DataLoader\n",
    "import pandas as pd\n",
    "from sklearn.utils.class_weight import compute_class_weight\n"
   ]
  },
  {
   "cell_type": "code",
   "execution_count": 96,
   "metadata": {},
   "outputs": [
    {
     "name": "stdout",
     "output_type": "stream",
     "text": [
      "124\n",
      "32\n",
      "0      {'record_name': 'Hopper-2022_08_24_06_55_46-00...\n",
      "1      {'record_name': 'Hopper-2023_03_30_08_51_04-00...\n",
      "2      {'record_name': 'Hopper-2022_12_02_13_27_01-00...\n",
      "3      {'record_name': 'Hopper-2024_11_23_09_26_03-00...\n",
      "4      {'record_name': 'Hopper-2024_01_11_11_11_00-00...\n",
      "                             ...                        \n",
      "119    {'record_name': 'Hopper-2023_09_12_06_32_28-00...\n",
      "120    {'record_name': 'Hopper-2024_06_13_12_33_15-00...\n",
      "121    {'record_name': 'Hopper-2023_11_01_14_06_02-00...\n",
      "122    {'record_name': 'Hopper-2022_06_30_07_51_11-00...\n",
      "123    {'record_name': 'Hopper-2024_11_03_14_13_16-00...\n",
      "Name: 0, Length: 124, dtype: object\n"
     ]
    }
   ],
   "source": [
    "train_dir = os.path.join(univariate_data_path, \"target_univariate_train.npy\")\n",
    "train_data = np.load(train_dir, allow_pickle=True)\n",
    "train_data = pd.DataFrame(train_data)\n",
    "test_dir = os.path.join(univariate_data_path, \"target_univariate_test.npy\")\n",
    "test_data = np.load(test_dir, allow_pickle=True)\n",
    "test_data = pd.DataFrame(test_data)\n",
    "print(len(train_data))\n",
    "print(len(test_data))\n",
    "print(train_data[0])"
   ]
  },
  {
   "cell_type": "code",
   "execution_count": 97,
   "metadata": {},
   "outputs": [],
   "source": [
    "def extract_windows_from_signal(signal, window_size):\n",
    "    signal = signal.squeeze()  # (seq_len,)\n",
    "    total_length = len(signal)\n",
    "    n_windows = total_length // window_size\n",
    "    windows = np.array([\n",
    "        signal[i * window_size: (i + 1) * window_size]\n",
    "        for i in range(n_windows)\n",
    "    ])\n",
    "    return windows  # shape (n_windows, window_size)\n",
    "\n",
    "def create_windowed_dataset(df, window_size):\n",
    "    windowed_data = []  \n",
    "\n",
    "    for idx, row in df.iterrows():\n",
    "        record_name = row[0]['record_name']\n",
    "        label = row[0]['preterm']\n",
    "        signal = row[0]['signal']  # shape (seq_len, 1)\n",
    "\n",
    "        windows = extract_windows_from_signal(signal, window_size)\n",
    "\n",
    "        for i, window in enumerate(windows):\n",
    "            windowed_data.append({\n",
    "                'record_name': record_name,\n",
    "                'window_id': i,\n",
    "                'window': window.astype(np.float32),\n",
    "                'label': label\n",
    "            })\n",
    "\n",
    "    return pd.DataFrame(windowed_data)"
   ]
  },
  {
   "cell_type": "code",
   "execution_count": 98,
   "metadata": {},
   "outputs": [],
   "source": [
    "class TimeSeriesWindowDataset(Dataset):\n",
    "    def __init__(self, dataframe):\n",
    "        self.data = dataframe\n",
    "\n",
    "    def __len__(self):\n",
    "        return len(self.data)\n",
    "\n",
    "    def __getitem__(self, idx):\n",
    "        row = self.data.iloc[idx]\n",
    "        window = torch.tensor(row['window']).unsqueeze(0)  # shape (1, window_size)\n",
    "        label = torch.tensor(row['label'], dtype=torch.float32)\n",
    "        return window, label\n",
    "\n",
    "def create_dataloaders(train_df, test_df, batch_size=32):\n",
    "    train_loader = DataLoader(TimeSeriesWindowDataset(train_df), batch_size=batch_size, shuffle=True)\n",
    "    test_loader = DataLoader(TimeSeriesWindowDataset(test_df), batch_size=batch_size, shuffle=False)\n",
    "    return train_loader, test_loader\n"
   ]
  },
  {
   "cell_type": "code",
   "execution_count": 99,
   "metadata": {},
   "outputs": [
    {
     "name": "stdout",
     "output_type": "stream",
     "text": [
      "34 29\n",
      "\n",
      "Train Set class distribution:\n",
      "Term (0): 319 instances, 0.30 ratio\n",
      "Preterm (1): 752 instances, 0.70 ratio\n",
      "Total: 1071 instances\n",
      "\n",
      "Test Set class distribution:\n",
      "Term (0): 306 instances, 0.34 ratio\n",
      "Preterm (1): 593 instances, 0.66 ratio\n",
      "Total: 899 instances\n"
     ]
    }
   ],
   "source": [
    "window_size = 12000\n",
    "\n",
    "# 1. Create windows\n",
    "train_windows = create_windowed_dataset(train_data, window_size=window_size)\n",
    "test_windows = create_windowed_dataset(test_data, window_size=window_size)\n",
    "\n",
    "# 3. Create DataLoaders\n",
    "train_loader, test_loader = create_dataloaders(train_windows, test_windows)\n",
    "print(len(train_loader), len(test_loader))\n",
    "\n",
    "def print_class_distribution(df, name=\"Dataset\"):\n",
    "    class_counts = df['label'].value_counts().sort_index()\n",
    "    total_count = len(df)\n",
    "    \n",
    "    term_count = class_counts.get(0, 0)  # count for term (0)\n",
    "    preterm_count = class_counts.get(1, 0)  # count for preterm (1)\n",
    "    \n",
    "    term_ratio = term_count / total_count\n",
    "    preterm_ratio = preterm_count / total_count\n",
    "    \n",
    "    print(f\"\\n{name} class distribution:\")\n",
    "    print(f\"Term (0): {term_count} instances, {term_ratio:.2f} ratio\")\n",
    "    print(f\"Preterm (1): {preterm_count} instances, {preterm_ratio:.2f} ratio\")\n",
    "    print(f\"Total: {total_count} instances\")\n",
    "\n",
    "# For train and test\n",
    "print_class_distribution(train_windows, \"Train Set\")\n",
    "print_class_distribution(test_windows, \"Test Set\")\n"
   ]
  },
  {
   "cell_type": "code",
   "execution_count": 100,
   "metadata": {},
   "outputs": [],
   "source": [
    "import torch\n",
    "import torch.nn as nn\n",
    "import torch.nn.functional as F\n",
    "\n",
    "class CNNClassifier(nn.Module):\n",
    "    def __init__(self, input_length):\n",
    "        super(CNNClassifier, self).__init__()\n",
    "        \n",
    "        self.conv1 = nn.Conv1d(in_channels=1, out_channels=16, kernel_size=7, padding=3)\n",
    "        self.bn1 = nn.BatchNorm1d(16)\n",
    "        \n",
    "        self.conv2 = nn.Conv1d(16, 32, kernel_size=5, padding=2)\n",
    "        self.bn2 = nn.BatchNorm1d(32)\n",
    "        \n",
    "        self.conv3 = nn.Conv1d(32, 64, kernel_size=3, padding=1)\n",
    "        self.bn3 = nn.BatchNorm1d(64)\n",
    "        \n",
    "        self.pool = nn.AdaptiveAvgPool1d(1)\n",
    "        self.classifier = nn.Linear(64, 1)\n",
    "\n",
    "    def forward(self, x):\n",
    "        x = F.relu(self.bn1(self.conv1(x)))  # (B, 16, L)\n",
    "        x = F.relu(self.bn2(self.conv2(x)))  # (B, 32, L)\n",
    "        x = F.relu(self.bn3(self.conv3(x)))  # (B, 64, L)\n",
    "        \n",
    "        x = self.pool(x).squeeze(-1)         # (B, 64)\n",
    "        x = self.classifier(x)               # (B, 1)\n",
    "        return x\n"
   ]
  },
  {
   "cell_type": "code",
   "execution_count": 101,
   "metadata": {},
   "outputs": [],
   "source": [
    "from sklearn.metrics import roc_curve, auc, precision_recall_curve, average_precision_score\n",
    "import matplotlib.pyplot as plt\n",
    "import torch\n",
    "from sklearn.utils.class_weight import compute_class_weight\n",
    "import torch\n",
    "\n",
    "from sklearn.utils.class_weight import compute_class_weight\n",
    "import matplotlib.pyplot as plt\n",
    "import numpy as np\n",
    "import torch\n",
    "import torch.nn as nn\n",
    "\n",
    "def train_model(model, train_loader, test_loader, epochs=10, lr=1e-3, device='cuda'):\n",
    "    device = torch.device(device if torch.cuda.is_available() else \"cpu\")\n",
    "    model = model.to(device)\n",
    "\n",
    "    # Extract labels to compute class weights\n",
    "    all_labels = []\n",
    "    for _, y_batch in train_loader:\n",
    "        all_labels.extend(y_batch.numpy())\n",
    "\n",
    "    class_weights = compute_class_weight(\n",
    "        class_weight='balanced',\n",
    "        classes=np.array([0, 1]),\n",
    "        y=np.array(all_labels)\n",
    "    )\n",
    "    \n",
    "    pos_weight = torch.tensor(class_weights[1] / class_weights[0], dtype=torch.float).to(device)\n",
    "    criterion = nn.BCEWithLogitsLoss(pos_weight=pos_weight)\n",
    "    # criterion = nn.BCEWithLogitsLoss()\n",
    "    optimizer = torch.optim.Adam(model.parameters(), lr=lr)\n",
    "\n",
    "    # Lists to store epoch-wise losses\n",
    "    train_losses = []\n",
    "    test_losses = []\n",
    "\n",
    "    for epoch in range(epochs):\n",
    "        model.train()\n",
    "        epoch_train_loss = 0.0\n",
    "\n",
    "        for x_batch, y_batch in train_loader:\n",
    "            x_batch = x_batch.to(device)\n",
    "            y_batch = y_batch.to(device).unsqueeze(1)\n",
    "\n",
    "            optimizer.zero_grad()\n",
    "            outputs = model(x_batch)\n",
    "            loss = criterion(outputs, y_batch)\n",
    "            loss.backward()\n",
    "            optimizer.step()\n",
    "\n",
    "            epoch_train_loss += loss.item() * x_batch.size(0)\n",
    "\n",
    "        avg_train_loss = epoch_train_loss / len(train_loader.dataset)\n",
    "        train_losses.append(avg_train_loss)\n",
    "\n",
    "        # Evaluate on test set\n",
    "        model.eval()\n",
    "        epoch_test_loss = 0.0\n",
    "        with torch.no_grad():\n",
    "            for x_batch, y_batch in test_loader:\n",
    "                x_batch = x_batch.to(device)\n",
    "                y_batch = y_batch.to(device).unsqueeze(1)\n",
    "\n",
    "                outputs = model(x_batch)\n",
    "                loss = criterion(outputs, y_batch)\n",
    "                epoch_test_loss += loss.item() * x_batch.size(0)\n",
    "\n",
    "        avg_test_loss = epoch_test_loss / len(test_loader.dataset)\n",
    "        test_losses.append(avg_test_loss)\n",
    "\n",
    "        print(f\"Epoch {epoch+1}/{epochs} | Train Loss: {avg_train_loss:.4f} | Test Loss: {avg_test_loss:.4f}\")\n",
    "\n",
    "    # Plot loss curves\n",
    "    plt.figure(figsize=(8, 5))\n",
    "    plt.plot(train_losses, label=\"Train Loss\", marker='o')\n",
    "    plt.plot(test_losses, label=\"Test Loss\", marker='s')\n",
    "    plt.xlabel(\"Epoch\")\n",
    "    plt.ylabel(\"Loss\")\n",
    "    plt.title(\"Training and Test Loss per Epoch\")\n",
    "    plt.legend()\n",
    "    plt.grid(True)\n",
    "    plt.tight_layout()\n",
    "    plt.show()\n",
    "\n",
    "    return model\n"
   ]
  },
  {
   "cell_type": "code",
   "execution_count": 102,
   "metadata": {},
   "outputs": [],
   "source": [
    "from sklearn.metrics import roc_auc_score, average_precision_score, confusion_matrix, classification_report\n",
    "import seaborn as sns\n",
    "import matplotlib.pyplot as plt\n",
    "\n",
    "def evaluate_model(model, dataloader, criterion, device='cuda'):\n",
    "    model.eval()\n",
    "    total_loss = 0.0\n",
    "    all_preds = []\n",
    "    all_probs = []\n",
    "    all_labels = []\n",
    "    device = torch.device(device if torch.cuda.is_available() else \"cpu\")\n",
    "\n",
    "    with torch.no_grad():\n",
    "        for x_batch, y_batch in dataloader:\n",
    "            x_batch = x_batch.to(device)\n",
    "            y_batch = y_batch.to(device).unsqueeze(1)\n",
    "\n",
    "            outputs = model(x_batch)\n",
    "            probs = torch.sigmoid(outputs)\n",
    "            loss = criterion(outputs, y_batch)\n",
    "\n",
    "            total_loss += loss.item() * x_batch.size(0)\n",
    "\n",
    "            all_probs.append(probs.cpu())\n",
    "            all_preds.append((probs >= 0.5).float().cpu())\n",
    "            all_labels.append(y_batch.cpu())\n",
    "\n",
    "    all_probs = torch.cat(all_probs).numpy().flatten()\n",
    "    all_preds = torch.cat(all_preds).numpy().flatten()\n",
    "    all_labels = torch.cat(all_labels).numpy().flatten()\n",
    "\n",
    "    avg_loss = total_loss / len(dataloader.dataset)\n",
    "    acc = (all_preds == all_labels).mean()\n",
    "    auc = roc_auc_score(all_labels, all_probs)\n",
    "    ap = average_precision_score(all_labels, all_probs)\n",
    "    \n",
    "    print(f\"Loss: {avg_loss:.4f} | Acc: {acc:.4f} | AUC: {auc:.4f} | AP: {ap:.4f}\")\n",
    "    \n",
    "    # Print classification report\n",
    "    print(\"\\nClassification Report:\")\n",
    "    print(classification_report(all_labels, all_preds, digits=4))\n",
    "\n",
    "    # Plot confusion matrix\n",
    "    cm = confusion_matrix(all_labels, all_preds)\n",
    "    plot_confusion_matrix(cm, class_names=[\"Term\", \"Preterm\"])\n",
    "    \n",
    "    return avg_loss, acc, auc, ap\n",
    "\n",
    "def plot_confusion_matrix(cm, class_names):\n",
    "    plt.figure(figsize=(6, 5))\n",
    "    sns.heatmap(cm, annot=True, fmt=\"d\", cmap=\"Blues\", \n",
    "                xticklabels=class_names, yticklabels=class_names)\n",
    "    plt.xlabel(\"Predicted\")\n",
    "    plt.ylabel(\"True\")\n",
    "    plt.title(\"Confusion Matrix\")\n",
    "    plt.tight_layout()\n",
    "    plt.show()\n"
   ]
  },
  {
   "cell_type": "code",
   "execution_count": 103,
   "metadata": {},
   "outputs": [
    {
     "name": "stdout",
     "output_type": "stream",
     "text": [
      "Epoch 1/10 | Train Loss: 0.4013 | Test Loss: 0.4562\n",
      "Epoch 2/10 | Train Loss: 0.3945 | Test Loss: 0.5056\n"
     ]
    }
   ],
   "source": [
    "# Initialize model\n",
    "input_length = 12000\n",
    "model = CNNClassifier(input_length=input_length)\n",
    "\n",
    "# Train\n",
    "model = train_model(model, train_loader, test_loader, epochs=10, lr=1e-3)\n"
   ]
  },
  {
   "cell_type": "code",
   "execution_count": 85,
   "metadata": {},
   "outputs": [
    {
     "name": "stdout",
     "output_type": "stream",
     "text": [
      "Loss: 0.7026 | Acc: 0.6596 | AUC: 0.6326 | AP: 0.7187\n",
      "\n",
      "Classification Report:\n",
      "              precision    recall  f1-score   support\n",
      "\n",
      "         0.0     0.0000    0.0000    0.0000       306\n",
      "         1.0     0.6596    1.0000    0.7949       593\n",
      "\n",
      "    accuracy                         0.6596       899\n",
      "   macro avg     0.3298    0.5000    0.3975       899\n",
      "weighted avg     0.4351    0.6596    0.5243       899\n",
      "\n"
     ]
    },
    {
     "name": "stderr",
     "output_type": "stream",
     "text": [
      "/home/nwertheim/.local/lib/python3.12/site-packages/sklearn/metrics/_classification.py:1565: UndefinedMetricWarning: Precision is ill-defined and being set to 0.0 in labels with no predicted samples. Use `zero_division` parameter to control this behavior.\n",
      "  _warn_prf(average, modifier, f\"{metric.capitalize()} is\", len(result))\n",
      "/home/nwertheim/.local/lib/python3.12/site-packages/sklearn/metrics/_classification.py:1565: UndefinedMetricWarning: Precision is ill-defined and being set to 0.0 in labels with no predicted samples. Use `zero_division` parameter to control this behavior.\n",
      "  _warn_prf(average, modifier, f\"{metric.capitalize()} is\", len(result))\n",
      "/home/nwertheim/.local/lib/python3.12/site-packages/sklearn/metrics/_classification.py:1565: UndefinedMetricWarning: Precision is ill-defined and being set to 0.0 in labels with no predicted samples. Use `zero_division` parameter to control this behavior.\n",
      "  _warn_prf(average, modifier, f\"{metric.capitalize()} is\", len(result))\n"
     ]
    },
    {
     "data": {
      "image/png": "[encoded data removed]",
      "text/plain": [
       "<Figure size 600x500 with 2 Axes>"
      ]
     },
     "metadata": {},
     "output_type": "display_data"
    }
   ],
   "source": [
    "test_loss, test_acc, test_auc, test_ap = evaluate_model(model, test_loader, nn.BCEWithLogitsLoss())\n"
   ]
  }
 ],
 "metadata": {
  "kernelspec": {
   "display_name": "thesisenv",
   "language": "python",
   "name": "python3"
  },
  "language_info": {
   "codemirror_mode": {
    "name": "ipython",
    "version": 3
   },
   "file_extension": ".py",
   "mimetype": "text/x-python",
   "name": "python",
   "nbconvert_exporter": "python",
   "pygments_lexer": "ipython3",
   "version": "3.12.9"
  }
 },
 "nbformat": 4,
 "nbformat_minor": 2
}
