{
 "cells": [
  {
   "cell_type": "code",
   "execution_count": 1,
   "metadata": {},
   "outputs": [
    {
     "name": "stderr",
     "output_type": "stream",
     "text": [
      "2025-04-10 10:35:35.306042: I tensorflow/core/util/port.cc:153] oneDNN custom operations are on. You may see slightly different numerical results due to floating-point round-off errors from different computation orders. To turn them off, set the environment variable `TF_ENABLE_ONEDNN_OPTS=0`.\n"
     ]
    },
    {
     "name": "stdout",
     "output_type": "stream",
     "text": [
      "/home/nwertheim/Master-Thesis/thesisenv/bin/python\n"
     ]
    },
    {
     "name": "stderr",
     "output_type": "stream",
     "text": [
      "2025-04-10 10:35:35.321908: E external/local_xla/xla/stream_executor/cuda/cuda_fft.cc:467] Unable to register cuFFT factory: Attempting to register factory for plugin cuFFT when one has already been registered\n",
      "WARNING: All log messages before absl::InitializeLog() is called are written to STDERR\n",
      "E0000 00:00:1744274135.335815 1293903 cuda_dnn.cc:8579] Unable to register cuDNN factory: Attempting to register factory for plugin cuDNN when one has already been registered\n",
      "E0000 00:00:1744274135.340042 1293903 cuda_blas.cc:1407] Unable to register cuBLAS factory: Attempting to register factory for plugin cuBLAS when one has already been registered\n",
      "W0000 00:00:1744274135.351745 1293903 computation_placer.cc:177] computation placer already registered. Please check linkage and avoid linking the same target more than once.\n",
      "W0000 00:00:1744274135.351762 1293903 computation_placer.cc:177] computation placer already registered. Please check linkage and avoid linking the same target more than once.\n",
      "W0000 00:00:1744274135.351763 1293903 computation_placer.cc:177] computation placer already registered. Please check linkage and avoid linking the same target more than once.\n",
      "W0000 00:00:1744274135.351765 1293903 computation_placer.cc:177] computation placer already registered. Please check linkage and avoid linking the same target more than once.\n",
      "2025-04-10 10:35:35.355799: I tensorflow/core/platform/cpu_feature_guard.cc:210] This TensorFlow binary is optimized to use available CPU instructions in performance-critical operations.\n",
      "To enable the following instructions: AVX2 AVX512F AVX512_VNNI AVX512_BF16 FMA, in other operations, rebuild TensorFlow with the appropriate compiler flags.\n"
     ]
    }
   ],
   "source": [
    "import os\n",
    "import numpy as np\n",
    "import sys\n",
    "print(sys.executable)\n",
    "import tensorflow as tf\n",
    "from tensorflow.keras import layers, models\n",
    "import sys\n",
    "sys.path.insert(1, '../src/')\n",
    "from config import raw_data_path, univariate_data_path, processed_data_path\n",
    "from sklearn.ensemble import RandomForestClassifier\n",
    "from sklearn.model_selection import train_test_split\n",
    "from sklearn.metrics import classification_report\n",
    "import numpy as np\n",
    "from sklearn.metrics import classification_report, confusion_matrix, ConfusionMatrixDisplay\n"
   ]
  },
  {
   "cell_type": "code",
   "execution_count": 2,
   "metadata": {},
   "outputs": [
    {
     "name": "stdout",
     "output_type": "stream",
     "text": [
      "1002\n",
      "{'fs': 20, 'signal': array([-1.70318809, -3.4187089 , -2.48396297, ...,  0.73115951,\n",
      "        0.40952615,  0.95038211]), 'record_name': 'Hopper-2023_05_25_12_03_38-0000010090-0003-chan0', 'preterm': 0}\n",
      "Number of instances with None in 'preterm': 144\n",
      "Remaining instances after deletion: 858\n"
     ]
    }
   ],
   "source": [
    "save_dir = os.path.join(univariate_data_path, \"target_univariate_no_PCA.npy\")\n",
    "target_data = np.load(save_dir, allow_pickle=True)\n",
    "print(len(target_data))\n",
    "print(target_data[0])\n",
    "num_none_preterm = sum(1 for item in target_data if item['preterm'] is None)\n",
    "print(f\"Number of instances with None in 'preterm': {num_none_preterm}\")\n",
    "target_data = [item for item in target_data if item['preterm'] is not None]\n",
    "print(f\"Remaining instances after deletion: {len(target_data)}\")\n",
    "import matplotlib.pyplot as plt\n",
    "from collections import Counter\n",
    "\n"
   ]
  },
  {
   "cell_type": "code",
   "execution_count": 3,
   "metadata": {},
   "outputs": [],
   "source": [
    "def create_windows(data, window_size):\n",
    "    windowed_data = []\n",
    "    for item in data:\n",
    "        signal = item['signal']\n",
    "        label = item['preterm']\n",
    "        record_name = item['record_name']\n",
    "        \n",
    "        num_windows = len(signal) // window_size\n",
    "        for i in range(num_windows):\n",
    "            start = i * window_size\n",
    "            end = start + window_size\n",
    "            window = signal[start:end]\n",
    "            windowed_data.append({\n",
    "                'signal': window,\n",
    "                'label': label,\n",
    "                'record_name': record_name\n",
    "            })\n",
    "    return windowed_data\n",
    "\n",
    "WINDOW_SIZE = 12000\n",
    "windowed_data = create_windows(target_data, WINDOW_SIZE)\n"
   ]
  },
  {
   "cell_type": "code",
   "execution_count": 4,
   "metadata": {},
   "outputs": [],
   "source": [
    "X = np.stack([d['signal'] for d in windowed_data])\n",
    "y = np.array([d['label'] for d in windowed_data])\n",
    "record_names = [d['record_name'] for d in windowed_data]  # for aggregation later\n",
    "from sklearn.model_selection import train_test_split\n",
    "\n",
    "X_train, X_test, y_train, y_test, rn_train, rn_test = train_test_split(\n",
    "    X, y, record_names, stratify=y, test_size=0.3, random_state=42\n",
    ")\n"
   ]
  },
  {
   "cell_type": "code",
   "execution_count": 5,
   "metadata": {},
   "outputs": [],
   "source": [
    "from sklearn.ensemble import RandomForestClassifier\n",
    "\n",
    "clf = RandomForestClassifier(random_state=42)\n",
    "clf.fit(X_train, y_train)\n",
    "y_pred = clf.predict(X_test)\n"
   ]
  },
  {
   "cell_type": "code",
   "execution_count": 6,
   "metadata": {},
   "outputs": [],
   "source": [
    "from collections import defaultdict, Counter\n",
    "import numpy as np\n",
    "\n",
    "# Group predictions by record name\n",
    "record_pred_dict = defaultdict(list)\n",
    "record_true_dict = {}\n",
    "\n",
    "for pred, true, rec in zip(y_pred, y_test, rn_test):\n",
    "    record_pred_dict[rec].append(pred)\n",
    "    record_true_dict[rec] = true  # same label for all windows in a record\n",
    "\n",
    "# Majority vote\n",
    "final_preds = []\n",
    "final_truths = []\n",
    "\n",
    "for rec in record_pred_dict:\n",
    "    votes = record_pred_dict[rec]\n",
    "    majority_vote = Counter(votes).most_common(1)[0][0]\n",
    "    final_preds.append(majority_vote)\n",
    "    final_truths.append(record_true_dict[rec])\n"
   ]
  },
  {
   "cell_type": "code",
   "execution_count": 7,
   "metadata": {},
   "outputs": [
    {
     "name": "stdout",
     "output_type": "stream",
     "text": [
      "              precision    recall  f1-score   support\n",
      "\n",
      "           0       0.94      0.21      0.34       287\n",
      "           1       0.68      0.99      0.80       480\n",
      "\n",
      "    accuracy                           0.70       767\n",
      "   macro avg       0.81      0.60      0.57       767\n",
      "weighted avg       0.77      0.70      0.63       767\n",
      "\n"
     ]
    },
    {
     "data": {
      "image/png": "[encoded data removed]",
      "text/plain": [
       "<Figure size 640x480 with 2 Axes>"
      ]
     },
     "metadata": {},
     "output_type": "display_data"
    }
   ],
   "source": [
    "from sklearn.metrics import classification_report, confusion_matrix, ConfusionMatrixDisplay\n",
    "import matplotlib.pyplot as plt\n",
    "\n",
    "print(classification_report(final_truths, final_preds))\n",
    "\n",
    "cm = confusion_matrix(final_truths, final_preds)\n",
    "disp = ConfusionMatrixDisplay(confusion_matrix=cm, display_labels=[\"Term (0)\", \"Preterm (1)\"])\n",
    "disp.plot(cmap=\"Blues\", values_format=\"d\")\n",
    "plt.title(\"Confusion Matrix - Record-level (Majority Vote)\")\n",
    "plt.show()\n"
   ]
  }
 ],
 "metadata": {
  "kernelspec": {
   "display_name": "thesisenv",
   "language": "python",
   "name": "python3"
  },
  "language_info": {
   "codemirror_mode": {
    "name": "ipython",
    "version": 3
   },
   "file_extension": ".py",
   "mimetype": "text/x-python",
   "name": "python",
   "nbconvert_exporter": "python",
   "pygments_lexer": "ipython3",
   "version": "3.11.3"
  }
 },
 "nbformat": 4,
 "nbformat_minor": 2
}
