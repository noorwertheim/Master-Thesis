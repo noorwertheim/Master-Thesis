{
 "cells": [
  {
   "cell_type": "code",
   "execution_count": 29,
   "metadata": {},
   "outputs": [
    {
     "name": "stderr",
     "output_type": "stream",
     "text": [
      "\u001b[34m\u001b[1mwandb\u001b[0m: \u001b[33mWARNING\u001b[0m If you're specifying your api key in code, ensure this code is not shared publicly.\n",
      "\u001b[34m\u001b[1mwandb\u001b[0m: \u001b[33mWARNING\u001b[0m Consider setting the WANDB_API_KEY environment variable, or running `wandb login` from the command line.\n",
      "\u001b[34m\u001b[1mwandb\u001b[0m: Appending key for api.wandb.ai to your netrc file: /home/nwertheim/.netrc\n"
     ]
    },
    {
     "name": "stdout",
     "output_type": "stream",
     "text": [
      "/home/nwertheim/miniconda3/bin/python\n"
     ]
    }
   ],
   "source": [
    "from tsai.models import InceptionTime, TST, ResNet\n",
    "# from tsai.data.core import get_UCR_data\n",
    "# from tsai.learner import TSClassifier\n",
    "import os\n",
    "import numpy as np\n",
    "import sys\n",
    "print(sys.executable)\n",
    "import sys\n",
    "sys.path.insert(1, '../src/')\n",
    "from CNN_classifier_model import CNNClassifier, train_model, evaluate_model\n",
    "from config import raw_data_path, univariate_data_path, processed_data_path\n",
    "from preprocessing_modules import create_time_windows_with_labels, create_time_windows_with_metadata\n",
    "from sklearn.ensemble import RandomForestClassifier\n",
    "from sklearn.model_selection import train_test_split\n",
    "from sklearn.metrics import classification_report\n",
    "import numpy as np\n",
    "from sklearn.metrics import classification_report, confusion_matrix, ConfusionMatrixDisplay\n",
    "from sklearn.metrics import roc_auc_score, average_precision_score\n",
    "import matplotlib.pyplot as plt\n",
    "from collections import Counter\n",
    "import torch.nn as nn\n",
    "import torch\n",
    "from torch.utils.data import Dataset, DataLoader\n",
    "import pandas as pd\n",
    "from sklearn.utils.class_weight import compute_class_weight\n",
    "import wandb\n",
    "wandb.login(key=\"5f15eb7efc1e0e939ccc83345338a0b8c24e2fbc\")\n",
    "from fastai.data.core import DataLoaders\n",
    "\n",
    "\n"
   ]
  },
  {
   "cell_type": "code",
   "execution_count": 30,
   "metadata": {},
   "outputs": [],
   "source": [
    "# Final Hyperparameters \n",
    "batch_size = 16\n",
    "learning_rate = 4.6239536595593786e-04\n",
    "# SPECIFY OPTIMIZER"
   ]
  },
  {
   "cell_type": "code",
   "execution_count": 31,
   "metadata": {},
   "outputs": [
    {
     "name": "stdout",
     "output_type": "stream",
     "text": [
      "744\n",
      "192\n",
      "{'record_name': 'Hopper-2024_11_03_14_13_16-0000010179-0002-chan0', 'signal': array([[ 0.70569938],\n",
      "       [ 1.58579907],\n",
      "       [ 1.22047813],\n",
      "       ...,\n",
      "       [-0.30476434],\n",
      "       [-0.16021862],\n",
      "       [-0.40381152]]), 'fs': 20, 'preterm': 1}\n",
      "torch.Size([3030])\n",
      "batch size 16\n"
     ]
    }
   ],
   "source": [
    "\n",
    "'''MY DATA + class weights'''\n",
    "train_dir = os.path.join(univariate_data_path, \"target_univariate_no_PCA_train_2.npy\")\n",
    "train_data = np.load(train_dir, allow_pickle=True)\n",
    "# train_data = pd.DataFrame(train_data)\n",
    "test_dir = os.path.join(univariate_data_path, \"target_univariate_no_PCA_test_2.npy\")\n",
    "test_data = np.load(test_dir, allow_pickle=True)\n",
    "# test_data = pd.DataFrame(test_data)\n",
    "print(len(train_data))\n",
    "print(len(test_data))\n",
    "print(train_data[0])\n",
    "from torch.utils.data import DataLoader, TensorDataset, random_split\n",
    "from sklearn.utils.class_weight import compute_class_weight\n",
    "from fastai.losses import CrossEntropyLossFlat\n",
    "from fastai.optimizer import SGD\n",
    "from torch.optim import AdamW\n",
    "from functools import partial\n",
    "from fastai.optimizer import OptimWrapper\n",
    "device = torch.device(\"cuda\" if torch.cuda.is_available() else \"cpu\")\n",
    "from fastai.data.core import DataLoaders\n",
    "\n",
    "\n",
    "\n",
    "from collections import Counter\n",
    "\n",
    "train_windows, train_labels, train_meta = create_time_windows_with_metadata(train_data)\n",
    "test_windows, test_labels, test_meta = create_time_windows_with_metadata(test_data)\n",
    "\n",
    "# Convert to tensors\n",
    "train_windows_tensor = torch.tensor(train_windows, dtype=torch.float32)\n",
    "train_labels_tensor = torch.tensor(train_labels, dtype=torch.float32)\n",
    "test_windows_tensor = torch.tensor(test_windows, dtype=torch.float32)\n",
    "test_labels_tensor = torch.tensor(test_labels, dtype=torch.float32)\n",
    "\n",
    "train_windows_tensor = train_windows_tensor.unsqueeze(1)  # (1071, 1, 12000)\n",
    "test_windows_tensor = test_windows_tensor.unsqueeze(1)    # (899, 1, 12000)\n",
    "\n",
    "train_labels_tensor = train_labels_tensor.long()\n",
    "test_labels_tensor = test_labels_tensor.long()\n",
    "\n",
    "\n",
    "print(train_labels_tensor.shape)\n",
    "\n",
    "train_dataset = TensorDataset(train_windows_tensor, train_labels_tensor)\n",
    "test_dataset = TensorDataset(test_windows_tensor, test_labels_tensor)\n",
    "\n",
    "train_loader = DataLoader(train_dataset, batch_size=batch_size, shuffle=True)\n",
    "test_loader = DataLoader(test_dataset, batch_size=batch_size, shuffle=False)\n",
    "# Test metadata for reference\n",
    "test_meta = test_meta\n",
    "print('batch size', batch_size)\n",
    "dls = DataLoaders(train_loader, test_loader)\n",
    "\n",
    "\n",
    "# Calculate class weights\n",
    "class_weights = compute_class_weight(class_weight='balanced', classes=np.unique(train_labels), y=train_labels)\n",
    "class_weights_tensor = torch.tensor(class_weights, dtype=torch.float32).to(device)"
   ]
  },
  {
   "cell_type": "code",
   "execution_count": 32,
   "metadata": {},
   "outputs": [
    {
     "name": "stdout",
     "output_type": "stream",
     "text": [
      "\n",
      "🌀 Run 1/1\n"
     ]
    },
    {
     "data": {
      "text/html": [
       "creating run (0.2s)"
      ],
      "text/plain": [
       "<IPython.core.display.HTML object>"
      ]
     },
     "metadata": {},
     "output_type": "display_data"
    },
    {
     "data": {
      "text/html": [
       "Tracking run with wandb version 0.19.9"
      ],
      "text/plain": [
       "<IPython.core.display.HTML object>"
      ]
     },
     "metadata": {},
     "output_type": "display_data"
    },
    {
     "data": {
      "text/html": [
       "Run data is saved locally in <code>/gpfs/home3/nwertheim/Master-Thesis/notebooks/wandb/run-20250514_134947-wjknbkci</code>"
      ],
      "text/plain": [
       "<IPython.core.display.HTML object>"
      ]
     },
     "metadata": {},
     "output_type": "display_data"
    },
    {
     "data": {
      "text/html": [
       "Syncing run <strong><a href='https://wandb.ai/noorwertheim/time-series-resnet/runs/wjknbkci' target=\"_blank\">resnet_run_WINDOWSIZE36000_1</a></strong> to <a href='https://wandb.ai/noorwertheim/time-series-resnet' target=\"_blank\">Weights & Biases</a> (<a href='https://wandb.me/developer-guide' target=\"_blank\">docs</a>)<br>"
      ],
      "text/plain": [
       "<IPython.core.display.HTML object>"
      ]
     },
     "metadata": {},
     "output_type": "display_data"
    },
    {
     "data": {
      "text/html": [
       " View project at <a href='https://wandb.ai/noorwertheim/time-series-resnet' target=\"_blank\">https://wandb.ai/noorwertheim/time-series-resnet</a>"
      ],
      "text/plain": [
       "<IPython.core.display.HTML object>"
      ]
     },
     "metadata": {},
     "output_type": "display_data"
    },
    {
     "data": {
      "text/html": [
       " View run at <a href='https://wandb.ai/noorwertheim/time-series-resnet/runs/wjknbkci' target=\"_blank\">https://wandb.ai/noorwertheim/time-series-resnet/runs/wjknbkci</a>"
      ],
      "text/plain": [
       "<IPython.core.display.HTML object>"
      ]
     },
     "metadata": {},
     "output_type": "display_data"
    },
    {
     "name": "stdout",
     "output_type": "stream",
     "text": [
      "Could not gather input dimensions\n",
      "WandbCallback was not able to prepare a DataLoader for logging prediction samples -> 'TensorDataset' object has no attribute 'items'\n"
     ]
    },
    {
     "data": {
      "text/html": [
       "\n",
       "<style>\n",
       "    /* Turns off some styling */\n",
       "    progress {\n",
       "        /* gets rid of default border in Firefox and Opera. */\n",
       "        border: none;\n",
       "        /* Needs to be in here for Safari polyfill so background images work as expected. */\n",
       "        background-size: auto;\n",
       "    }\n",
       "    progress:not([value]), progress:not([value])::-webkit-progress-bar {\n",
       "        background: repeating-linear-gradient(45deg, #7e7e7e, #7e7e7e 10px, #5c5c5c 10px, #5c5c5c 20px);\n",
       "    }\n",
       "    .progress-bar-interrupted, .progress-bar-interrupted::-webkit-progress-bar {\n",
       "        background: #F44336;\n",
       "    }\n",
       "</style>\n"
      ],
      "text/plain": [
       "<IPython.core.display.HTML object>"
      ]
     },
     "metadata": {},
     "output_type": "display_data"
    },
    {
     "data": {
      "text/html": [
       "<table border=\"1\" class=\"dataframe\">\n",
       "  <thead>\n",
       "    <tr style=\"text-align: left;\">\n",
       "      <th>epoch</th>\n",
       "      <th>train_loss</th>\n",
       "      <th>valid_loss</th>\n",
       "      <th>accuracy</th>\n",
       "      <th>time</th>\n",
       "    </tr>\n",
       "  </thead>\n",
       "  <tbody>\n",
       "    <tr>\n",
       "      <td>0</td>\n",
       "      <td>0.700532</td>\n",
       "      <td>0.696947</td>\n",
       "      <td>0.318681</td>\n",
       "      <td>00:15</td>\n",
       "    </tr>\n",
       "    <tr>\n",
       "      <td>1</td>\n",
       "      <td>0.692290</td>\n",
       "      <td>0.674738</td>\n",
       "      <td>0.695971</td>\n",
       "      <td>00:15</td>\n",
       "    </tr>\n",
       "    <tr>\n",
       "      <td>2</td>\n",
       "      <td>0.688555</td>\n",
       "      <td>0.661039</td>\n",
       "      <td>0.699634</td>\n",
       "      <td>00:15</td>\n",
       "    </tr>\n",
       "    <tr>\n",
       "      <td>3</td>\n",
       "      <td>0.688300</td>\n",
       "      <td>0.666606</td>\n",
       "      <td>0.672161</td>\n",
       "      <td>00:15</td>\n",
       "    </tr>\n",
       "    <tr>\n",
       "      <td>4</td>\n",
       "      <td>0.690115</td>\n",
       "      <td>0.651947</td>\n",
       "      <td>0.686813</td>\n",
       "      <td>00:15</td>\n",
       "    </tr>\n",
       "    <tr>\n",
       "      <td>5</td>\n",
       "      <td>0.687632</td>\n",
       "      <td>0.656410</td>\n",
       "      <td>0.686813</td>\n",
       "      <td>00:15</td>\n",
       "    </tr>\n",
       "    <tr>\n",
       "      <td>6</td>\n",
       "      <td>0.686997</td>\n",
       "      <td>0.645750</td>\n",
       "      <td>0.677656</td>\n",
       "      <td>00:15</td>\n",
       "    </tr>\n",
       "    <tr>\n",
       "      <td>7</td>\n",
       "      <td>0.681521</td>\n",
       "      <td>0.655256</td>\n",
       "      <td>0.670330</td>\n",
       "      <td>00:15</td>\n",
       "    </tr>\n",
       "    <tr>\n",
       "      <td>8</td>\n",
       "      <td>0.687015</td>\n",
       "      <td>0.652018</td>\n",
       "      <td>0.670330</td>\n",
       "      <td>00:15</td>\n",
       "    </tr>\n",
       "    <tr>\n",
       "      <td>9</td>\n",
       "      <td>0.684636</td>\n",
       "      <td>0.656368</td>\n",
       "      <td>0.670330</td>\n",
       "      <td>00:15</td>\n",
       "    </tr>\n",
       "  </tbody>\n",
       "</table>"
      ],
      "text/plain": [
       "<IPython.core.display.HTML object>"
      ]
     },
     "metadata": {},
     "output_type": "display_data"
    },
    {
     "name": "stdout",
     "output_type": "stream",
     "text": [
      "Better model found at epoch 0 with valid_loss value: 0.6969470977783203.\n",
      "Better model found at epoch 1 with valid_loss value: 0.6747384071350098.\n",
      "Better model found at epoch 2 with valid_loss value: 0.6610385775566101.\n",
      "Better model found at epoch 4 with valid_loss value: 0.6519474387168884.\n",
      "Better model found at epoch 6 with valid_loss value: 0.6457504034042358.\n"
     ]
    },
    {
     "data": {
      "text/html": [
       "\n",
       "<style>\n",
       "    /* Turns off some styling */\n",
       "    progress {\n",
       "        /* gets rid of default border in Firefox and Opera. */\n",
       "        border: none;\n",
       "        /* Needs to be in here for Safari polyfill so background images work as expected. */\n",
       "        background-size: auto;\n",
       "    }\n",
       "    progress:not([value]), progress:not([value])::-webkit-progress-bar {\n",
       "        background: repeating-linear-gradient(45deg, #7e7e7e, #7e7e7e 10px, #5c5c5c 10px, #5c5c5c 20px);\n",
       "    }\n",
       "    .progress-bar-interrupted, .progress-bar-interrupted::-webkit-progress-bar {\n",
       "        background: #F44336;\n",
       "    }\n",
       "</style>\n"
      ],
      "text/plain": [
       "<IPython.core.display.HTML object>"
      ]
     },
     "metadata": {},
     "output_type": "display_data"
    },
    {
     "data": {
      "text/html": [],
      "text/plain": [
       "<IPython.core.display.HTML object>"
      ]
     },
     "metadata": {},
     "output_type": "display_data"
    },
    {
     "data": {
      "text/html": [],
      "text/plain": [
       "<IPython.core.display.HTML object>"
      ]
     },
     "metadata": {},
     "output_type": "display_data"
    },
    {
     "data": {
      "text/html": [
       "<br>    <style><br>        .wandb-row {<br>            display: flex;<br>            flex-direction: row;<br>            flex-wrap: wrap;<br>            justify-content: flex-start;<br>            width: 100%;<br>        }<br>        .wandb-col {<br>            display: flex;<br>            flex-direction: column;<br>            flex-basis: 100%;<br>            flex: 1;<br>            padding: 10px;<br>        }<br>    </style><br><div class=\"wandb-row\"><div class=\"wandb-col\"><h3>Run history:</h3><br/><table class=\"wandb\"><tr><td>accuracy</td><td>▁██▇███▇▇▇</td></tr><tr><td>epoch</td><td>▁▁▁▁▁▂▂▂▂▂▂▃▃▃▃▄▄▄▄▅▅▅▅▆▆▆▆▇▇▇▇▇▇▇▇▇▇▇██</td></tr><tr><td>final_accuracy</td><td>▁</td></tr><tr><td>final_auc</td><td>▁</td></tr><tr><td>final_average_precision</td><td>▁</td></tr><tr><td>final_f1</td><td>▁</td></tr><tr><td>final_precision</td><td>▁</td></tr><tr><td>final_recall</td><td>▁</td></tr><tr><td>lr_0</td><td>▂▂▂▃▄▆▆█████▇▇▇▇▇▇▇▆▆▆▆▆▅▄▄▄▄▄▄▃▃▃▃▃▁▁▁▁</td></tr><tr><td>mom_0</td><td>█▇▇▆▄▂▂▁▁▁▁▁▁▁▁▂▃▃▃▄▄▅▅▅▅▅▅▅▅▆▇▇▇▇▇█████</td></tr><tr><td>raw_loss</td><td>█▆▆▆▇▆▇▇▅▃▂▅▆██▆▇▆▄▇▆▆▆▇▅▁▆▂▃▆▆▆▄▆▄█▃▆▇▅</td></tr><tr><td>train_loss</td><td>█▇▇▆▆▄▄▃▂▃▃▃▃▃▃▁▃▃▂▂▂▂▂▂▂▃▃▂▂▁▁▁▁▂▂▁▁▃▂▁</td></tr><tr><td>train_samples_per_sec</td><td>▇▇▆▇▅█▅▆▅▅▄▆▅▆▅▅▆▄▆▅▇▆▆▆▁▅▆▇▆▄▆▄▆▆▆▅▆▇▆▅</td></tr><tr><td>valid_loss</td><td>█▅▃▄▂▂▁▂▂▂</td></tr><tr><td>wd_0</td><td>▁▁▁▁▁▁▁▁▁▁▁▁▁▁▁▁▁▁▁▁▁▁▁▁▁▁▁▁▁▁▁▁▁▁▁▁▁▁▁▁</td></tr></table><br/></div><div class=\"wandb-col\"><h3>Run summary:</h3><br/><table class=\"wandb\"><tr><td>accuracy</td><td>0.67033</td></tr><tr><td>epoch</td><td>10</td></tr><tr><td>final_accuracy</td><td>0.67766</td></tr><tr><td>final_auc</td><td>0.80037</td></tr><tr><td>final_average_precision</td><td>0.95367</td></tr><tr><td>final_f1</td><td>0.76022</td></tr><tr><td>final_precision</td><td>0.96207</td></tr><tr><td>final_recall</td><td>0.62838</td></tr><tr><td>lr_0</td><td>0.0</td></tr><tr><td>mom_0</td><td>0.95</td></tr><tr><td>raw_loss</td><td>0.73675</td></tr><tr><td>train_loss</td><td>0.68464</td></tr><tr><td>train_samples_per_sec</td><td>148.4197</td></tr><tr><td>valid_loss</td><td>0.65637</td></tr><tr><td>wd_0</td><td>0</td></tr></table><br/></div></div>"
      ],
      "text/plain": [
       "<IPython.core.display.HTML object>"
      ]
     },
     "metadata": {},
     "output_type": "display_data"
    },
    {
     "data": {
      "text/html": [
       " View run <strong style=\"color:#cdcd00\">resnet_run_WINDOWSIZE36000_1</strong> at: <a href='https://wandb.ai/noorwertheim/time-series-resnet/runs/wjknbkci' target=\"_blank\">https://wandb.ai/noorwertheim/time-series-resnet/runs/wjknbkci</a><br> View project at: <a href='https://wandb.ai/noorwertheim/time-series-resnet' target=\"_blank\">https://wandb.ai/noorwertheim/time-series-resnet</a><br>Synced 5 W&B file(s), 0 media file(s), 2 artifact file(s) and 0 other file(s)"
      ],
      "text/plain": [
       "<IPython.core.display.HTML object>"
      ]
     },
     "metadata": {},
     "output_type": "display_data"
    },
    {
     "data": {
      "text/html": [
       "Find logs at: <code>./wandb/run-20250514_134947-wjknbkci/logs</code>"
      ],
      "text/plain": [
       "<IPython.core.display.HTML object>"
      ]
     },
     "metadata": {},
     "output_type": "display_data"
    }
   ],
   "source": [
    "import numpy as np\n",
    "import torch\n",
    "from sklearn.metrics import (\n",
    "    accuracy_score, precision_score, recall_score,\n",
    "    f1_score, average_precision_score, roc_auc_score,\n",
    "    confusion_matrix\n",
    ")\n",
    "import matplotlib.pyplot as plt\n",
    "import seaborn as sns\n",
    "from tsai.models.ResNet import ResNet\n",
    "from fastai.learner import Learner\n",
    "from tsai.models import ResNet\n",
    "from tsai.models.ResNet import ResNet\n",
    "from fastai.metrics import accuracy\n",
    "from fastai.data.core import DataLoaders\n",
    "from fastai.learner import Learner\n",
    "import torch\n",
    "from fastai.optimizer import SGD\n",
    "from fastai.callback.wandb import WandbCallback\n",
    "from fastai.callback.tracker import SaveModelCallback, EarlyStoppingCallback\n",
    "\n",
    "\n",
    "# Fix seeds for reproducibility\n",
    "def seed_everything(seed):\n",
    "    import random, os\n",
    "    random.seed(seed)\n",
    "    np.random.seed(seed)\n",
    "    torch.manual_seed(seed)\n",
    "    torch.cuda.manual_seed_all(seed)\n",
    "    \n",
    "num_epochs = 10\n",
    "num_runs = 1\n",
    "all_train_losses = []\n",
    "all_valid_losses = []\n",
    "all_metrics = []\n",
    "\n",
    "best_ap = -1\n",
    "best_preds = None\n",
    "best_targs = None\n",
    "\n",
    "all_pred_labels = []\n",
    "all_pred_probs = []\n",
    "\n",
    "\n",
    "for run in range(num_runs):\n",
    "    print(f\"\\n🌀 Run {run+1}/{num_runs}\")\n",
    "\n",
    "    wandb.init(\n",
    "        project=\"time-series-resnet\",\n",
    "        name=f\"resnet_run_{run+1}\",\n",
    "        config={\n",
    "            \"architecture\": \"ResNet\",\n",
    "            \"epochs\": num_epochs,\n",
    "            \"batch_size\": batch_size,\n",
    "            \"learning_rate\": learning_rate,\n",
    "            \"run\": run + 1\n",
    "        }\n",
    "    )\n",
    "    seed_everything(run)\n",
    "\n",
    "    # Model\n",
    "    model = ResNet(1, 2).to(device)\n",
    "\n",
    "    # Loss with class weights\n",
    "    class_weights_tensor = torch.tensor(class_weights, dtype=torch.float32).to(device)\n",
    "    loss_func = torch.nn.CrossEntropyLoss(weight=class_weights_tensor)\n",
    "\n",
    "    # Learner\n",
    "    learn = Learner(\n",
    "        dls,\n",
    "        model,\n",
    "        loss_func=loss_func,\n",
    "        metrics=accuracy,\n",
    "        cbs=[\n",
    "            EarlyStoppingCallback(monitor='valid_loss', patience=3),\n",
    "            SaveModelCallback(monitor='valid_loss', fname=f'best_resnet_run_{run}'),\n",
    "            WandbCallback(log='all', log_model=True, log_preds=True)\n",
    "        ]\n",
    "    )\n",
    "    # test\n",
    "\n",
    "    learn.model.to(device)\n",
    "\n",
    "    # no weight decay\n",
    "    learn.fit_one_cycle(num_epochs, learning_rate)    \n",
    "\n",
    "    # Record losses\n",
    "    losses = np.array(learn.recorder.losses)\n",
    "    iters_per_epoch = len(train_loader)\n",
    "    train_loss = losses[::2][:num_epochs]\n",
    "    valid_loss = losses[1::2][:num_epochs]\n",
    "    all_train_losses.append(train_loss)\n",
    "    all_valid_losses.append(valid_loss)\n",
    "\n",
    "    # Get predictions\n",
    "    preds, targs = learn.get_preds(dl=learn.dls.valid)\n",
    "    pred_labels = preds.argmax(dim=1)\n",
    "    pred_probs = preds[:, 1].cpu().numpy()\n",
    "    true_labels = targs.cpu().numpy()\n",
    "    pred_labels_np = pred_labels.cpu().numpy()\n",
    "    all_pred_labels.append(pred_labels_np)  # shape (n_samples,)\n",
    "    all_pred_probs.append(pred_probs)       # shape (n_samples,)\n",
    "\n",
    "\n",
    "    # Metrics\n",
    "    acc = accuracy_score(true_labels, pred_labels_np)\n",
    "    prec = precision_score(true_labels, pred_labels_np, zero_division=0)\n",
    "    rec = recall_score(true_labels, pred_labels_np, zero_division=0)\n",
    "    f1 = f1_score(true_labels, pred_labels_np, zero_division=0)\n",
    "    ap = average_precision_score(true_labels, pred_probs)\n",
    "    auc = roc_auc_score(true_labels, pred_probs)\n",
    "    all_metrics.append([acc, prec, rec, f1, ap, auc])\n",
    "\n",
    "    wandb.log({\n",
    "        \"final_accuracy\": acc,\n",
    "        \"final_precision\": prec,\n",
    "        \"final_recall\": rec,\n",
    "        \"final_f1\": f1,\n",
    "        \"final_average_precision\": ap,\n",
    "        \"final_auc\": auc\n",
    "    })\n",
    "\n",
    "    wandb.finish()\n",
    "\n",
    "    if ap > best_ap:\n",
    "        best_ap = ap\n",
    "        best_preds = preds\n",
    "        best_targs = true_labels\n",
    "\n",
    "    \n",
    "\n",
    "# Convert to arrays for easy processing\n",
    "all_train_losses = np.stack(all_train_losses)\n",
    "all_valid_losses = np.stack(all_valid_losses)\n",
    "all_metrics = np.stack(all_metrics)\n"
   ]
  },
  {
   "cell_type": "code",
   "execution_count": 33,
   "metadata": {},
   "outputs": [
    {
     "name": "stdout",
     "output_type": "stream",
     "text": [
      "tensor([[-0.0718, -0.1559],\n",
      "        [-0.0446, -0.1755],\n",
      "        [-0.0915, -0.1703],\n",
      "        ...,\n",
      "        [ 0.0132, -0.1592],\n",
      "        [-0.1049, -0.2359],\n",
      "        [ 0.0472, -0.1623]])\n",
      "[0.47897667 0.4673163  0.48032606 0.47941658 0.47559884 0.48028234\n",
      " 0.4738002  0.49739397 0.48500222 0.46394774 0.46085915 0.44922864\n",
      " 0.47207388 0.45561624 0.4757651  0.49035615 0.47607222 0.45531833\n",
      " 0.43611455 0.45446184 0.4521919  0.44111297 0.44147876 0.45085838\n",
      " 0.471329   0.44219488 0.47000682 0.4409355  0.46453676 0.44805926\n",
      " 0.45763785 0.44922543 0.45766848 0.44366565 0.457562   0.4509587\n",
      " 0.48046818 0.48284832 0.47830907 0.44109803 0.45801747 0.46066326\n",
      " 0.4681859  0.48690933 0.46164897 0.45782134 0.4800262  0.4589549\n",
      " 0.44443905 0.44295555 0.44434676 0.4509351  0.4399044  0.43854845\n",
      " 0.4830982  0.4605659  0.46539557 0.487443   0.49202183 0.48578376\n",
      " 0.45524353 0.46389958 0.45767    0.4586522  0.45843378 0.46714377\n",
      " 0.47132695 0.46454403 0.46678442 0.47864944 0.48135558 0.48002854\n",
      " 0.4774307  0.46847254 0.47003487 0.48491025 0.4802381  0.47637403\n",
      " 0.5388907  0.524335   0.49374956 0.5060178  0.5377985  0.53404975\n",
      " 0.55118144 0.5504876  0.5164483  0.51339114 0.54583347 0.54339296\n",
      " 0.51800466 0.5403977  0.48062962 0.49263224 0.45836547 0.45242622\n",
      " 0.51738745 0.52215683 0.46797207 0.47567117 0.46604073 0.4999288\n",
      " 0.4751396  0.47526827 0.4505995  0.44754478 0.46601307 0.4802348\n",
      " 0.46869025 0.47762322 0.45059738 0.4485092  0.4488632  0.445737\n",
      " 0.46854204 0.46690583 0.46770647 0.47501814 0.48316315 0.48533157\n",
      " 0.45534974 0.45402077 0.45448217 0.47212163 0.4597191  0.45608366\n",
      " 0.44876775 0.44460806 0.44701245 0.44520974 0.4441059  0.44677\n",
      " 0.45826253 0.47158784 0.46003938 0.45661113 0.4648253  0.48173547\n",
      " 0.49988618 0.4776322  0.45344305 0.5088792  0.57217574 0.57262206\n",
      " 0.5721157  0.5701555  0.57063484 0.57173014 0.5729557  0.5720991\n",
      " 0.57212496 0.57305914 0.57305574 0.57277703 0.57200307 0.57322615\n",
      " 0.5726319  0.57289374 0.5730507  0.5729403  0.57315093 0.5716839\n",
      " 0.5732179  0.5719149  0.57286066 0.5718622  0.57319134 0.5721326\n",
      " 0.57305306 0.5718048  0.57101464 0.5729058  0.5724738  0.5724814\n",
      " 0.572982   0.5733144  0.57223356 0.5728511  0.5731012  0.57215273\n",
      " 0.5731187  0.57224566 0.5722434  0.57168305 0.5731608  0.57151985\n",
      " 0.5730187  0.49588823 0.4797497  0.4617715  0.51880527 0.5729818\n",
      " 0.57249844 0.57211536 0.57028013 0.5710221  0.5719138  0.5732032\n",
      " 0.57199347 0.5726583  0.57356393 0.5730437  0.573261   0.5724355\n",
      " 0.5735331  0.5731024  0.57328093 0.5732113  0.573319   0.57331866\n",
      " 0.5720615  0.5735743  0.5720694  0.57319236 0.5723206  0.5734485\n",
      " 0.5723904  0.5730379  0.5716656  0.5707673  0.5731933  0.57266206\n",
      " 0.57276267 0.57331717 0.57339936 0.572623   0.5731559  0.57344544\n",
      " 0.57253623 0.57322884 0.572219   0.5723416  0.57175636 0.5734084\n",
      " 0.57149756 0.5734593  0.49912187 0.4800518  0.45314893 0.5045465\n",
      " 0.54872024 0.55620605 0.5500079  0.54838204 0.5533481  0.55112404\n",
      " 0.5514201  0.55385834 0.5539261  0.55330104 0.5565064  0.5538699\n",
      " 0.55563295 0.55859447 0.5540987  0.55492175 0.5553757  0.5523641\n",
      " 0.5540549  0.555405   0.5548052  0.5520477  0.5520329  0.553518\n",
      " 0.5519592  0.5523726  0.5513208  0.55232716 0.54787225 0.55674326\n",
      " 0.5549049  0.55350477 0.55922955 0.5557279  0.55723923 0.55923504\n",
      " 0.5562876  0.5584187  0.557621   0.5564557  0.55909085 0.5573736\n",
      " 0.5575379  0.556841   0.55686724 0.44313365 0.44737697 0.44817445\n",
      " 0.4997545  0.5300131  0.54092103 0.5329999  0.5333556  0.5383747\n",
      " 0.53654796 0.5347753  0.5406945  0.53933007 0.53759474 0.5418672\n",
      " 0.5387117  0.54322153 0.5468508  0.5377898  0.5373425  0.53927577\n",
      " 0.5368089  0.53881913 0.5422504  0.53912026 0.5373324  0.5348942\n",
      " 0.5394975  0.535329   0.5396272  0.5317777  0.5361548  0.5339872\n",
      " 0.5428551  0.53912807 0.5394629  0.54643506 0.5416222  0.54498297\n",
      " 0.547705   0.54149026 0.54538894 0.5445759  0.5417672  0.5476183\n",
      " 0.5442597  0.54128176 0.54274845 0.540893   0.44772846 0.45707235\n",
      " 0.4538382  0.5116674  0.5609517  0.5647082  0.56515783 0.56503206\n",
      " 0.56436175 0.5641676  0.5667789  0.5658439  0.5665833  0.5664127\n",
      " 0.56591946 0.56631917 0.56696075 0.5669074  0.56742436 0.56648993\n",
      " 0.56686336 0.566618   0.56595975 0.565073   0.56598264 0.5669678\n",
      " 0.5675943  0.56677014 0.5683338  0.56688523 0.56687677 0.5669388\n",
      " 0.56794715 0.56710213 0.56818277 0.5681778  0.5686215  0.56825596\n",
      " 0.5676712  0.5684913  0.56792533 0.5670578  0.5676501  0.5672341\n",
      " 0.5678066  0.56764215 0.5675265  0.56697243 0.56830627 0.4420332\n",
      " 0.44682494 0.44972733 0.5065183  0.52861255 0.5412863  0.533272\n",
      " 0.5353705  0.53679585 0.53884983 0.53468466 0.54177576 0.5396166\n",
      " 0.5368608  0.5429871  0.538979   0.5429262  0.54591155 0.5383714\n",
      " 0.5364943  0.5392329  0.5356229  0.53932977 0.5418437  0.53848237\n",
      " 0.53777695 0.5353707  0.5389091  0.53474665 0.5388819  0.5320772\n",
      " 0.534841   0.5342905  0.54288536 0.539225   0.54048634 0.54583824\n",
      " 0.54028046 0.54445565 0.54614687 0.5410535  0.54507047 0.5440807\n",
      " 0.5412249  0.5480003  0.544554   0.54259384 0.5438181  0.5402557\n",
      " 0.46786678 0.43755093 0.46169898 0.44441098 0.46045643 0.43629178\n",
      " 0.46830252 0.43751863 0.46632695 0.45111504 0.465907   0.45579407\n",
      " 0.46174157 0.45294905 0.4551188  0.46014    0.46042904 0.45534116\n",
      " 0.48959747 0.48085505 0.49085143 0.45566    0.4905285  0.4563892\n",
      " 0.47118497 0.45226586 0.46834937 0.4444289  0.46962285 0.44786352\n",
      " 0.45771194 0.45826262 0.4494846  0.44338495 0.4592803  0.46712363\n",
      " 0.4538539  0.4561181  0.45242053 0.447952   0.45044425 0.44331005\n",
      " 0.4446836  0.4421047  0.44153786 0.47889787 0.48001382 0.47671404\n",
      " 0.47500995 0.464515   0.46878323 0.46556735 0.44878444 0.45415428\n",
      " 0.49126497 0.43178022 0.4995421  0.43674195 0.49042714 0.4388224\n",
      " 0.49568745 0.45956758 0.48649198 0.43069616 0.4912081  0.430341\n",
      " 0.47660294 0.44283667 0.4638786  0.45817724 0.44128197 0.44478106\n",
      " 0.4755703  0.4514115  0.45154563 0.48031303 0.452326   0.45886084\n",
      " 0.46979538 0.44395652 0.47408393 0.47164378 0.45127818 0.45206642\n",
      " 0.47481075 0.48178098 0.4609974  0.47076696 0.48039344 0.46614176\n",
      " 0.48377886 0.45795935 0.45408157 0.44451895 0.483683   0.45561913\n",
      " 0.47271356 0.48345816 0.47088033 0.48216733 0.4827254  0.4688151\n",
      " 0.4644275  0.4562269  0.4691283  0.44574142 0.46703616 0.4517094\n",
      " 0.46101347 0.455863   0.46121472 0.45700756 0.46729448 0.44782516]\n",
      "546 546 546\n"
     ]
    }
   ],
   "source": [
    "# preds, targs = learn.get_preds(dl=test_loader)\n",
    "\n",
    "print(best_preds)\n",
    "# For multi-class classification, select the class with the highest probability\n",
    "pred_labels = best_preds.argmax(dim=1).numpy()  # Get the class label with the highest probability\n",
    "pred_probs = torch.softmax(best_preds, dim=1)[:, 1].cpu().numpy()  # now each row sums to 1\n",
    "print(pred_probs)\n",
    "# Convert true labels to numpy array\n",
    "# best_targs = best_targs.numpy()\n",
    "\n",
    "# Ensure lengths match\n",
    "print(len(pred_labels), len(targs), len(test_meta))\n",
    "\n",
    "# Create the DataFrame\n",
    "window_ids = [entry['record_name'] + '-' + str(entry['window_index']) for entry in test_meta]\n",
    "final_df = pd.DataFrame({\n",
    "    'window_id': window_ids,\n",
    "    'best_pred_label': pred_labels,  # Save class labels instead of probabilities\n",
    "    'best_pred_prob': pred_probs,\n",
    "    'target': best_targs\n",
    "})\n",
    "\n",
    "#  Add predictions from each run\n",
    "for run_idx, (labels, probs) in enumerate(zip(all_pred_labels, all_pred_probs), start=1):\n",
    "    final_df[f'pred_label{run_idx}'] = labels\n",
    "    final_df[f'pred_prob{run_idx}'] = probs\n",
    "\n",
    "# Save to CSV\n",
    "final_df.to_csv(\"results_ResNet_SGD_all_runs.csv\", index=False)\n",
    "\n"
   ]
  },
  {
   "cell_type": "code",
   "execution_count": 34,
   "metadata": {},
   "outputs": [
    {
     "data": {
      "image/png": "[encoded data removed]",
      "text/plain": [
       "<Figure size 1000x500 with 1 Axes>"
      ]
     },
     "metadata": {},
     "output_type": "display_data"
    }
   ],
   "source": [
    "epochs = np.arange(1, num_epochs+1)\n",
    "plt.figure(figsize=(10, 5))\n",
    "\n",
    "# Train loss\n",
    "mean_train = all_train_losses.mean(axis=0)\n",
    "std_train = all_train_losses.std(axis=0)\n",
    "plt.plot(epochs, mean_train, label='Train Loss')\n",
    "plt.fill_between(epochs, mean_train - std_train, mean_train + std_train, alpha=0.3)\n",
    "\n",
    "# Valid loss\n",
    "mean_valid = all_valid_losses.mean(axis=0)\n",
    "std_valid = all_valid_losses.std(axis=0)\n",
    "plt.plot(epochs, mean_valid, label='Valid Loss')\n",
    "plt.fill_between(epochs, mean_valid - std_valid, mean_valid + std_valid, alpha=0.3)\n",
    "\n",
    "plt.xlabel('Epoch')\n",
    "plt.ylabel('Loss')\n",
    "plt.title('Average Loss Curves Over Five Runs')\n",
    "plt.legend()\n",
    "plt.grid(True)\n",
    "plt.tight_layout()\n",
    "plt.show()\n"
   ]
  },
  {
   "cell_type": "code",
   "execution_count": 35,
   "metadata": {},
   "outputs": [
    {
     "name": "stdout",
     "output_type": "stream",
     "text": [
      "Accuracy: 0.6777 ± 0.0000\n",
      "Precision: 0.9621 ± 0.0000\n",
      "Recall: 0.6284 ± 0.0000\n",
      "F1 Score: 0.7602 ± 0.0000\n",
      "AP: 0.9537 ± 0.0000\n",
      "AUC: 0.8004 ± 0.0000\n"
     ]
    },
    {
     "data": {
      "image/png": "[encoded data removed]",
      "text/plain": [
       "<Figure size 1000x500 with 1 Axes>"
      ]
     },
     "metadata": {},
     "output_type": "display_data"
    },
    {
     "data": {
      "image/png": "[encoded data removed]",
      "text/plain": [
       "<Figure size 800x600 with 1 Axes>"
      ]
     },
     "metadata": {},
     "output_type": "display_data"
    }
   ],
   "source": [
    "metric_names = ['Accuracy', 'Precision', 'Recall', 'F1 Score', 'AP', 'AUC']\n",
    "mean_metrics = all_metrics.mean(axis=0)\n",
    "std_metrics = all_metrics.std(axis=0)\n",
    "\n",
    "for name, mean, std in zip(metric_names, mean_metrics, std_metrics):\n",
    "    print(f\"{name}: {mean:.4f} ± {std:.4f}\")\n",
    "\n",
    "# Bar plot\n",
    "plt.figure(figsize=(10, 5))\n",
    "plt.bar(metric_names, mean_metrics, yerr=std_metrics, capsize=5)\n",
    "plt.title('Average Performance Over Five Runs')\n",
    "plt.ylabel('Score')\n",
    "plt.ylim(0, 1)\n",
    "plt.grid(axis='y')\n",
    "plt.tight_layout()\n",
    "plt.show()\n",
    "\n",
    "cm = confusion_matrix(best_targs, pred_labels)\n",
    "plt.figure(figsize=(8, 6))\n",
    "sns.heatmap(cm, annot=True, fmt=\"d\", cmap=\"Blues\", cbar=False,\n",
    "            xticklabels=['Class 0', 'Class 1'], yticklabels=['Class 0', 'Class 1'])\n",
    "plt.title('Best Performing Model Confusion Matrix')\n",
    "plt.xlabel('Predicted Label')\n",
    "plt.ylabel('True Label')\n",
    "plt.show()\n"
   ]
  },
  {
   "cell_type": "code",
   "execution_count": null,
   "metadata": {},
   "outputs": [],
   "source": []
  },
  {
   "cell_type": "code",
   "execution_count": null,
   "metadata": {},
   "outputs": [],
   "source": []
  }
 ],
 "metadata": {
  "kernelspec": {
   "display_name": "base",
   "language": "python",
   "name": "python3"
  },
  "language_info": {
   "codemirror_mode": {
    "name": "ipython",
    "version": 3
   },
   "file_extension": ".py",
   "mimetype": "text/x-python",
   "name": "python",
   "nbconvert_exporter": "python",
   "pygments_lexer": "ipython3",
   "version": "3.12.9"
  }
 },
 "nbformat": 4,
 "nbformat_minor": 2
}
