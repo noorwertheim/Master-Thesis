{
 "cells": [
  {
   "cell_type": "code",
   "execution_count": 9,
   "metadata": {},
   "outputs": [],
   "source": [
    "from sklearn.model_selection import StratifiedKFold\n",
    "import optuna\n",
    "from torch.utils.data import DataLoader, Subset\n",
    "import sys\n",
    "sys.path.insert(1, '../src/')\n",
    "from config import raw_data_path, univariate_data_path, processed_data_path, models_path\n",
    "from preprocessing_modules import create_time_windows_with_labels\n",
    "from CNN_classifier_model import CNNClassifier, train_model\n",
    "import os\n",
    "from torch.utils.data import DataLoader, TensorDataset, random_split\n",
    "from sklearn.utils.class_weight import compute_class_weight\n",
    "from collections import Counter\n",
    "import torch\n",
    "import numpy as np"
   ]
  },
  {
   "cell_type": "code",
   "execution_count": 10,
   "metadata": {},
   "outputs": [
    {
     "name": "stdout",
     "output_type": "stream",
     "text": [
      "Train label distribution:\n",
      "  Term (0): 319\n",
      "  Preterm (1): 752\n",
      "torch.Size([1071, 12000])\n",
      "torch.Size([1071])\n"
     ]
    }
   ],
   "source": [
    "\n",
    "train_dir = os.path.join(univariate_data_path, \"target_univariate_train.npy\")\n",
    "train_data = np.load(train_dir, allow_pickle=True)\n",
    "# train_data = pd.DataFrame(train_data)\n",
    "\n",
    "train_windows = create_time_windows_with_labels(train_data)\n",
    "\n",
    "\n",
    "\n",
    "# Example dataset with windows and labels\n",
    "train_windows, train_labels = create_time_windows_with_labels(train_data)\n",
    "\n",
    "# Count label distribution\n",
    "train_label_counts = Counter(train_labels)\n",
    "\n",
    "# Print the counts\n",
    "print(\"Train label distribution:\")\n",
    "print(f\"  Term (0): {train_label_counts[0]}\")\n",
    "print(f\"  Preterm (1): {train_label_counts[1]}\")\n",
    "\n",
    "\n",
    "\n",
    "# Convert to tensors\n",
    "train_windows_tensor = torch.tensor(train_windows, dtype=torch.float32)\n",
    "train_labels_tensor = torch.tensor(train_labels, dtype=torch.float32)\n",
    "train_dataset = TensorDataset(train_windows_tensor, train_labels_tensor)\n",
    "print(train_windows_tensor.shape)  \n",
    "print(train_labels_tensor.shape)  \n",
    "\n"
   ]
  },
  {
   "cell_type": "code",
   "execution_count": 11,
   "metadata": {},
   "outputs": [],
   "source": [
    "from sklearn.metrics import average_precision_score\n",
    "from torch.utils.data import DataLoader, Subset\n",
    "from sklearn.model_selection import StratifiedKFold\n",
    "\n",
    "def objective(trial):\n",
    "    device = torch.device(\"cuda\" if torch.cuda.is_available() else \"cpu\")\n",
    "\n",
    "    # Hyperparameter suggestions\n",
    "    lr = trial.suggest_loguniform(\"lr\", 1e-5, 1e-3)\n",
    "    num_layers = trial.suggest_int(\"num_layers\", 2, 5)\n",
    "    base_channels = trial.suggest_categorical(\"base_channels\", [8, 16, 32])\n",
    "\n",
    "    batch_size = trial.suggest_categorical(\"batch_size\", [16, 32, 64])\n",
    "    epochs = 5 \n",
    "\n",
    "    kfold = StratifiedKFold(n_splits=5, shuffle=True, random_state=42)\n",
    "    fold_ap_scores = []\n",
    "\n",
    "    for train_idx, val_idx in kfold.split(train_windows_tensor, train_labels_tensor):\n",
    "        # Create data loaders\n",
    "        train_subset = Subset(train_dataset, train_idx)\n",
    "        val_subset = Subset(train_dataset, val_idx)\n",
    "\n",
    "        train_loader = DataLoader(train_subset, batch_size=batch_size, shuffle=True)\n",
    "        val_loader = DataLoader(val_subset, batch_size=batch_size, shuffle=False)\n",
    "\n",
    "        # Instantiate model\n",
    "        model = CNNClassifier(input_length=12000, num_layers=num_layers, base_channels=base_channels)\n",
    "\n",
    "        # Train model\n",
    "        trained_model = train_model(model, train_loader, val_loader, epochs=epochs, lr=lr, device=device)\n",
    "\n",
    "        # Evaluate on validation set using AP\n",
    "        y_true_all = []\n",
    "        y_probs_all = []\n",
    "        trained_model.eval()\n",
    "        with torch.no_grad():\n",
    "            for x_batch, y_batch in val_loader:\n",
    "                x_batch = x_batch.unsqueeze(1).to(device)\n",
    "                y_batch = y_batch.to(device)\n",
    "\n",
    "                outputs = trained_model(x_batch)\n",
    "                probs = torch.sigmoid(outputs).squeeze().cpu().numpy()\n",
    "\n",
    "                y_true_all.extend(y_batch.cpu().numpy())\n",
    "                y_probs_all.extend(probs)\n",
    "\n",
    "        ap = average_precision_score(y_true_all, y_probs_all)\n",
    "        fold_ap_scores.append(ap)\n",
    "\n",
    "    return np.mean(fold_ap_scores)\n"
   ]
  },
  {
   "cell_type": "code",
   "execution_count": 8,
   "metadata": {},
   "outputs": [
    {
     "name": "stderr",
     "output_type": "stream",
     "text": [
      "[I 2025-04-28 09:11:37,704] A new study created in memory with name: no-name-f3f9edb0-3f47-4c74-8356-44c19a11bec5\n",
      "/scratch-local/nwertheim.11417819/ipykernel_1375003/312563275.py:9: FutureWarning: suggest_loguniform has been deprecated in v3.0.0. This feature will be removed in v6.0.0. See https://github.com/optuna/optuna/releases/tag/v3.0.0. Use suggest_float(..., log=True) instead.\n",
      "  lr = trial.suggest_loguniform(\"lr\", 1e-5, 1e-3)\n",
      "[I 2025-04-28 09:22:05,981] Trial 0 finished with value: 0.825085733666692 and parameters: {'lr': 2.2958725751657965e-05, 'num_layers': 4, 'base_channels': 16, 'batch_size': 32}. Best is trial 0 with value: 0.825085733666692.\n",
      "/scratch-local/nwertheim.11417819/ipykernel_1375003/312563275.py:9: FutureWarning: suggest_loguniform has been deprecated in v3.0.0. This feature will be removed in v6.0.0. See https://github.com/optuna/optuna/releases/tag/v3.0.0. Use suggest_float(..., log=True) instead.\n",
      "  lr = trial.suggest_loguniform(\"lr\", 1e-5, 1e-3)\n",
      "[I 2025-04-28 09:30:23,375] Trial 1 finished with value: 0.823446048679261 and parameters: {'lr': 0.00042780603159772333, 'num_layers': 3, 'base_channels': 8, 'batch_size': 32}. Best is trial 0 with value: 0.825085733666692.\n",
      "/scratch-local/nwertheim.11417819/ipykernel_1375003/312563275.py:9: FutureWarning: suggest_loguniform has been deprecated in v3.0.0. This feature will be removed in v6.0.0. See https://github.com/optuna/optuna/releases/tag/v3.0.0. Use suggest_float(..., log=True) instead.\n",
      "  lr = trial.suggest_loguniform(\"lr\", 1e-5, 1e-3)\n",
      "[I 2025-04-28 09:45:59,340] Trial 2 finished with value: 0.8277301173667038 and parameters: {'lr': 8.840859248775155e-05, 'num_layers': 4, 'base_channels': 32, 'batch_size': 16}. Best is trial 2 with value: 0.8277301173667038.\n",
      "/scratch-local/nwertheim.11417819/ipykernel_1375003/312563275.py:9: FutureWarning: suggest_loguniform has been deprecated in v3.0.0. This feature will be removed in v6.0.0. See https://github.com/optuna/optuna/releases/tag/v3.0.0. Use suggest_float(..., log=True) instead.\n",
      "  lr = trial.suggest_loguniform(\"lr\", 1e-5, 1e-3)\n",
      "[I 2025-04-28 09:58:22,664] Trial 3 finished with value: 0.8269252569044971 and parameters: {'lr': 0.0002358475272794167, 'num_layers': 5, 'base_channels': 32, 'batch_size': 32}. Best is trial 2 with value: 0.8277301173667038.\n",
      "/scratch-local/nwertheim.11417819/ipykernel_1375003/312563275.py:9: FutureWarning: suggest_loguniform has been deprecated in v3.0.0. This feature will be removed in v6.0.0. See https://github.com/optuna/optuna/releases/tag/v3.0.0. Use suggest_float(..., log=True) instead.\n",
      "  lr = trial.suggest_loguniform(\"lr\", 1e-5, 1e-3)\n",
      "[I 2025-04-28 10:00:24,567] Trial 4 finished with value: 0.824360938751924 and parameters: {'lr': 0.00023820345878674482, 'num_layers': 2, 'base_channels': 32, 'batch_size': 64}. Best is trial 2 with value: 0.8277301173667038.\n",
      "/scratch-local/nwertheim.11417819/ipykernel_1375003/312563275.py:9: FutureWarning: suggest_loguniform has been deprecated in v3.0.0. This feature will be removed in v6.0.0. See https://github.com/optuna/optuna/releases/tag/v3.0.0. Use suggest_float(..., log=True) instead.\n",
      "  lr = trial.suggest_loguniform(\"lr\", 1e-5, 1e-3)\n",
      "[I 2025-04-28 10:09:13,093] Trial 5 finished with value: 0.8243715942350706 and parameters: {'lr': 5.982763481538708e-05, 'num_layers': 5, 'base_channels': 32, 'batch_size': 64}. Best is trial 2 with value: 0.8277301173667038.\n",
      "/scratch-local/nwertheim.11417819/ipykernel_1375003/312563275.py:9: FutureWarning: suggest_loguniform has been deprecated in v3.0.0. This feature will be removed in v6.0.0. See https://github.com/optuna/optuna/releases/tag/v3.0.0. Use suggest_float(..., log=True) instead.\n",
      "  lr = trial.suggest_loguniform(\"lr\", 1e-5, 1e-3)\n",
      "[I 2025-04-28 10:14:21,093] Trial 6 finished with value: 0.8232971956711896 and parameters: {'lr': 8.080141010251781e-05, 'num_layers': 5, 'base_channels': 8, 'batch_size': 64}. Best is trial 2 with value: 0.8277301173667038.\n",
      "/scratch-local/nwertheim.11417819/ipykernel_1375003/312563275.py:9: FutureWarning: suggest_loguniform has been deprecated in v3.0.0. This feature will be removed in v6.0.0. See https://github.com/optuna/optuna/releases/tag/v3.0.0. Use suggest_float(..., log=True) instead.\n",
      "  lr = trial.suggest_loguniform(\"lr\", 1e-5, 1e-3)\n",
      "[I 2025-04-28 10:23:13,814] Trial 7 finished with value: 0.8233825427398493 and parameters: {'lr': 0.00018147239243939423, 'num_layers': 2, 'base_channels': 16, 'batch_size': 16}. Best is trial 2 with value: 0.8277301173667038.\n",
      "/scratch-local/nwertheim.11417819/ipykernel_1375003/312563275.py:9: FutureWarning: suggest_loguniform has been deprecated in v3.0.0. This feature will be removed in v6.0.0. See https://github.com/optuna/optuna/releases/tag/v3.0.0. Use suggest_float(..., log=True) instead.\n",
      "  lr = trial.suggest_loguniform(\"lr\", 1e-5, 1e-3)\n",
      "[I 2025-04-28 10:33:02,397] Trial 8 finished with value: 0.8211495688478758 and parameters: {'lr': 1.6556551636327406e-05, 'num_layers': 5, 'base_channels': 16, 'batch_size': 32}. Best is trial 2 with value: 0.8277301173667038.\n",
      "/scratch-local/nwertheim.11417819/ipykernel_1375003/312563275.py:9: FutureWarning: suggest_loguniform has been deprecated in v3.0.0. This feature will be removed in v6.0.0. See https://github.com/optuna/optuna/releases/tag/v3.0.0. Use suggest_float(..., log=True) instead.\n",
      "  lr = trial.suggest_loguniform(\"lr\", 1e-5, 1e-3)\n"
     ]
    }
   ],
   "source": [
    "study = optuna.create_study(direction=\"maximize\")\n",
    "study.optimize(objective, n_trials=25)\n",
    "\n",
    "print(\"Best trial:\")\n",
    "print(study.best_trial)\n"
   ]
  },
  {
   "cell_type": "code",
   "execution_count": 4,
   "metadata": {},
   "outputs": [
    {
     "ename": "NameError",
     "evalue": "name 'study' is not defined",
     "output_type": "error",
     "traceback": [
      "\u001b[31m---------------------------------------------------------------------------\u001b[39m",
      "\u001b[31mNameError\u001b[39m                                 Traceback (most recent call last)",
      "\u001b[36mCell\u001b[39m\u001b[36m \u001b[39m\u001b[32mIn[4]\u001b[39m\u001b[32m, line 4\u001b[39m\n\u001b[32m      2\u001b[39m \u001b[38;5;28;01mimport\u001b[39;00m \u001b[34;01mjoblib\u001b[39;00m\n\u001b[32m      3\u001b[39m path = os.path.join(models_path, \u001b[33m\"\u001b[39m\u001b[33mcnn_baseline_optuna.pkl\u001b[39m\u001b[33m\"\u001b[39m)\n\u001b[32m----> \u001b[39m\u001b[32m4\u001b[39m joblib.dump(\u001b[43mstudy\u001b[49m, path)\n\u001b[32m      5\u001b[39m \u001b[38;5;28mprint\u001b[39m(\u001b[33mf\u001b[39m\u001b[33m\"\u001b[39m\u001b[33mSaved Optuna study to \u001b[39m\u001b[38;5;132;01m{\u001b[39;00mpath\u001b[38;5;132;01m}\u001b[39;00m\u001b[33m\"\u001b[39m)\n",
      "\u001b[31mNameError\u001b[39m: name 'study' is not defined"
     ]
    }
   ],
   "source": [
    "import os\n",
    "import joblib\n",
    "path = os.path.join(models_path, \"cnn_baseline_optuna.pkl\")\n",
    "joblib.dump(study, path)\n",
    "print(f\"Saved Optuna study to {path}\")"
   ]
  },
  {
   "cell_type": "code",
   "execution_count": null,
   "metadata": {},
   "outputs": [],
   "source": []
  }
 ],
 "metadata": {
  "kernelspec": {
   "display_name": "base",
   "language": "python",
   "name": "python3"
  },
  "language_info": {
   "codemirror_mode": {
    "name": "ipython",
    "version": 3
   },
   "file_extension": ".py",
   "mimetype": "text/x-python",
   "name": "python",
   "nbconvert_exporter": "python",
   "pygments_lexer": "ipython3",
   "version": "3.12.9"
  }
 },
 "nbformat": 4,
 "nbformat_minor": 2
}
