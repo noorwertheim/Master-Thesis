{
 "cells": [
  {
   "cell_type": "code",
   "execution_count": 1,
   "metadata": {},
   "outputs": [
    {
     "name": "stderr",
     "output_type": "stream",
     "text": [
      "/home/nwertheim/miniconda3/lib/python3.12/site-packages/tqdm/auto.py:21: TqdmWarning: IProgress not found. Please update jupyter and ipywidgets. See https://ipywidgets.readthedocs.io/en/stable/user_install.html\n",
      "  from .autonotebook import tqdm as notebook_tqdm\n"
     ]
    }
   ],
   "source": [
    "from sklearn.model_selection import StratifiedKFold\n",
    "import optuna\n",
    "from torch.utils.data import DataLoader, Subset\n",
    "import sys\n",
    "sys.path.insert(1, '../src/')\n",
    "from config import raw_data_path, univariate_data_path, processed_data_path, models_path\n",
    "from preprocessing_modules import create_time_windows_with_labels\n",
    "from CNN_classifier_model import CNNClassifier, train_model\n",
    "import os\n",
    "from torch.utils.data import DataLoader, TensorDataset, random_split\n",
    "from sklearn.utils.class_weight import compute_class_weight\n",
    "from collections import Counter\n",
    "import torch\n",
    "import numpy as np"
   ]
  },
  {
   "cell_type": "code",
   "execution_count": 2,
   "metadata": {},
   "outputs": [
    {
     "name": "stdout",
     "output_type": "stream",
     "text": [
      "Train label distribution:\n",
      "  Term (0): 319\n",
      "  Preterm (1): 752\n",
      "torch.Size([1071, 12000])\n",
      "torch.Size([1071])\n"
     ]
    }
   ],
   "source": [
    "\n",
    "train_dir = os.path.join(univariate_data_path, \"target_univariate_train.npy\")\n",
    "train_data = np.load(train_dir, allow_pickle=True)\n",
    "# train_data = pd.DataFrame(train_data)\n",
    "\n",
    "train_windows = create_time_windows_with_labels(train_data)\n",
    "\n",
    "\n",
    "\n",
    "# Example dataset with windows and labels\n",
    "train_windows, train_labels = create_time_windows_with_labels(train_data)\n",
    "\n",
    "# Count label distribution\n",
    "train_label_counts = Counter(train_labels)\n",
    "\n",
    "# Print the counts\n",
    "print(\"Train label distribution:\")\n",
    "print(f\"  Term (0): {train_label_counts[0]}\")\n",
    "print(f\"  Preterm (1): {train_label_counts[1]}\")\n",
    "\n",
    "\n",
    "\n",
    "# Convert to tensors\n",
    "train_windows_tensor = torch.tensor(train_windows, dtype=torch.float32)\n",
    "train_labels_tensor = torch.tensor(train_labels, dtype=torch.float32)\n",
    "train_dataset = TensorDataset(train_windows_tensor, train_labels_tensor)\n",
    "print(train_windows_tensor.shape)  \n",
    "print(train_labels_tensor.shape)  \n",
    "\n"
   ]
  },
  {
   "cell_type": "code",
   "execution_count": 3,
   "metadata": {},
   "outputs": [],
   "source": [
    "from sklearn.metrics import average_precision_score\n",
    "from torch.utils.data import DataLoader, Subset\n",
    "from sklearn.model_selection import StratifiedKFold\n",
    "\n",
    "def objective(trial):\n",
    "    device = torch.device(\"cuda\" if torch.cuda.is_available() else \"cpu\")\n",
    "\n",
    "    # Hyperparameter suggestions\n",
    "    lr = trial.suggest_loguniform(\"lr\", 1e-5, 1e-3)\n",
    "    num_layers = trial.suggest_int(\"num_layers\", 2, 5)\n",
    "    base_channels = trial.suggest_categorical(\"base_channels\", [8, 16, 32])\n",
    "\n",
    "    batch_size = trial.suggest_categorical(\"batch_size\", [16, 32, 64])\n",
    "    epochs = 5 \n",
    "\n",
    "    kfold = StratifiedKFold(n_splits=5, shuffle=True, random_state=42)\n",
    "    fold_ap_scores = []\n",
    "\n",
    "    for train_idx, val_idx in kfold.split(train_windows_tensor, train_labels_tensor):\n",
    "        # Create data loaders\n",
    "        train_subset = Subset(train_dataset, train_idx)\n",
    "        val_subset = Subset(train_dataset, val_idx)\n",
    "\n",
    "        train_loader = DataLoader(train_subset, batch_size=batch_size, shuffle=True)\n",
    "        val_loader = DataLoader(val_subset, batch_size=batch_size, shuffle=False)\n",
    "\n",
    "        # Instantiate model\n",
    "        model = CNNClassifier(input_length=12000, num_layers=num_layers, base_channels=base_channels)\n",
    "\n",
    "        # Train model\n",
    "        trained_model = train_model(model, train_loader, val_loader, epochs=epochs, lr=lr, device=device)\n",
    "\n",
    "        # Evaluate on validation set using AP\n",
    "        y_true_all = []\n",
    "        y_probs_all = []\n",
    "        trained_model.eval()\n",
    "        with torch.no_grad():\n",
    "            for x_batch, y_batch in val_loader:\n",
    "                x_batch = x_batch.unsqueeze(1).to(device)\n",
    "                y_batch = y_batch.to(device)\n",
    "\n",
    "                outputs = trained_model(x_batch)\n",
    "                probs = torch.sigmoid(outputs).squeeze().cpu().numpy()\n",
    "\n",
    "                y_true_all.extend(y_batch.cpu().numpy())\n",
    "                y_probs_all.extend(probs)\n",
    "\n",
    "        ap = average_precision_score(y_true_all, y_probs_all)\n",
    "        fold_ap_scores.append(ap)\n",
    "\n",
    "    return np.mean(fold_ap_scores)\n"
   ]
  },
  {
   "cell_type": "code",
   "execution_count": 4,
   "metadata": {},
   "outputs": [
    {
     "name": "stderr",
     "output_type": "stream",
     "text": [
      "[I 2025-04-27 19:03:16,489] A new study created in memory with name: no-name-aefb6f36-86ef-4484-9492-55e83a36e497\n",
      "/scratch-local/nwertheim.11412200/ipykernel_1801254/312563275.py:9: FutureWarning: suggest_loguniform has been deprecated in v3.0.0. This feature will be removed in v6.0.0. See https://github.com/optuna/optuna/releases/tag/v3.0.0. Use suggest_float(..., log=True) instead.\n",
      "  lr = trial.suggest_loguniform(\"lr\", 1e-5, 1e-3)\n",
      "[I 2025-04-27 19:25:17,693] Trial 0 finished with value: 0.8250486162981343 and parameters: {'lr': 1.200562482298385e-05, 'num_layers': 4, 'base_channels': 8, 'batch_size': 16}. Best is trial 0 with value: 0.8250486162981343.\n",
      "/scratch-local/nwertheim.11412200/ipykernel_1801254/312563275.py:9: FutureWarning: suggest_loguniform has been deprecated in v3.0.0. This feature will be removed in v6.0.0. See https://github.com/optuna/optuna/releases/tag/v3.0.0. Use suggest_float(..., log=True) instead.\n",
      "  lr = trial.suggest_loguniform(\"lr\", 1e-5, 1e-3)\n",
      "[I 2025-04-27 19:33:52,471] Trial 1 finished with value: 0.8228251795690709 and parameters: {'lr': 2.3150364791089724e-05, 'num_layers': 3, 'base_channels': 16, 'batch_size': 32}. Best is trial 0 with value: 0.8250486162981343.\n",
      "/scratch-local/nwertheim.11412200/ipykernel_1801254/312563275.py:9: FutureWarning: suggest_loguniform has been deprecated in v3.0.0. This feature will be removed in v6.0.0. See https://github.com/optuna/optuna/releases/tag/v3.0.0. Use suggest_float(..., log=True) instead.\n",
      "  lr = trial.suggest_loguniform(\"lr\", 1e-5, 1e-3)\n",
      "[I 2025-04-27 19:39:18,314] Trial 2 finished with value: 0.8235084680631608 and parameters: {'lr': 8.521168793806752e-05, 'num_layers': 4, 'base_channels': 16, 'batch_size': 64}. Best is trial 0 with value: 0.8250486162981343.\n",
      "/scratch-local/nwertheim.11412200/ipykernel_1801254/312563275.py:9: FutureWarning: suggest_loguniform has been deprecated in v3.0.0. This feature will be removed in v6.0.0. See https://github.com/optuna/optuna/releases/tag/v3.0.0. Use suggest_float(..., log=True) instead.\n",
      "  lr = trial.suggest_loguniform(\"lr\", 1e-5, 1e-3)\n",
      "[I 2025-04-27 19:50:19,180] Trial 3 finished with value: 0.8184068389428351 and parameters: {'lr': 2.5865183505816215e-05, 'num_layers': 4, 'base_channels': 8, 'batch_size': 32}. Best is trial 0 with value: 0.8250486162981343.\n",
      "/scratch-local/nwertheim.11412200/ipykernel_1801254/312563275.py:9: FutureWarning: suggest_loguniform has been deprecated in v3.0.0. This feature will be removed in v6.0.0. See https://github.com/optuna/optuna/releases/tag/v3.0.0. Use suggest_float(..., log=True) instead.\n",
      "  lr = trial.suggest_loguniform(\"lr\", 1e-5, 1e-3)\n",
      "[I 2025-04-27 20:06:14,832] Trial 4 finished with value: 0.823509624164025 and parameters: {'lr': 0.0007073584232926091, 'num_layers': 5, 'base_channels': 32, 'batch_size': 32}. Best is trial 0 with value: 0.8250486162981343.\n",
      "/scratch-local/nwertheim.11412200/ipykernel_1801254/312563275.py:9: FutureWarning: suggest_loguniform has been deprecated in v3.0.0. This feature will be removed in v6.0.0. See https://github.com/optuna/optuna/releases/tag/v3.0.0. Use suggest_float(..., log=True) instead.\n",
      "  lr = trial.suggest_loguniform(\"lr\", 1e-5, 1e-3)\n",
      "[I 2025-04-27 20:12:05,631] Trial 5 finished with value: 0.8232979420846844 and parameters: {'lr': 0.00010896760301576326, 'num_layers': 2, 'base_channels': 16, 'batch_size': 32}. Best is trial 0 with value: 0.8250486162981343.\n",
      "/scratch-local/nwertheim.11412200/ipykernel_1801254/312563275.py:9: FutureWarning: suggest_loguniform has been deprecated in v3.0.0. This feature will be removed in v6.0.0. See https://github.com/optuna/optuna/releases/tag/v3.0.0. Use suggest_float(..., log=True) instead.\n",
      "  lr = trial.suggest_loguniform(\"lr\", 1e-5, 1e-3)\n",
      "[I 2025-04-27 20:27:44,177] Trial 6 finished with value: 0.8241139419832754 and parameters: {'lr': 1.0120137162761751e-05, 'num_layers': 5, 'base_channels': 32, 'batch_size': 32}. Best is trial 0 with value: 0.8250486162981343.\n",
      "/scratch-local/nwertheim.11412200/ipykernel_1801254/312563275.py:9: FutureWarning: suggest_loguniform has been deprecated in v3.0.0. This feature will be removed in v6.0.0. See https://github.com/optuna/optuna/releases/tag/v3.0.0. Use suggest_float(..., log=True) instead.\n",
      "  lr = trial.suggest_loguniform(\"lr\", 1e-5, 1e-3)\n",
      "[I 2025-04-27 20:48:25,469] Trial 7 finished with value: 0.8243568236548082 and parameters: {'lr': 0.00013245782982648508, 'num_layers': 4, 'base_channels': 16, 'batch_size': 16}. Best is trial 0 with value: 0.8250486162981343.\n",
      "/scratch-local/nwertheim.11412200/ipykernel_1801254/312563275.py:9: FutureWarning: suggest_loguniform has been deprecated in v3.0.0. This feature will be removed in v6.0.0. See https://github.com/optuna/optuna/releases/tag/v3.0.0. Use suggest_float(..., log=True) instead.\n",
      "  lr = trial.suggest_loguniform(\"lr\", 1e-5, 1e-3)\n",
      "[I 2025-04-27 20:59:54,393] Trial 8 finished with value: 0.8266434820113708 and parameters: {'lr': 0.0002187212012229851, 'num_layers': 4, 'base_channels': 32, 'batch_size': 32}. Best is trial 8 with value: 0.8266434820113708.\n",
      "/scratch-local/nwertheim.11412200/ipykernel_1801254/312563275.py:9: FutureWarning: suggest_loguniform has been deprecated in v3.0.0. This feature will be removed in v6.0.0. See https://github.com/optuna/optuna/releases/tag/v3.0.0. Use suggest_float(..., log=True) instead.\n",
      "  lr = trial.suggest_loguniform(\"lr\", 1e-5, 1e-3)\n",
      "[I 2025-04-27 21:03:55,351] Trial 9 finished with value: 0.8230556574851804 and parameters: {'lr': 0.00039275550880769195, 'num_layers': 3, 'base_channels': 32, 'batch_size': 64}. Best is trial 8 with value: 0.8266434820113708.\n",
      "/scratch-local/nwertheim.11412200/ipykernel_1801254/312563275.py:9: FutureWarning: suggest_loguniform has been deprecated in v3.0.0. This feature will be removed in v6.0.0. See https://github.com/optuna/optuna/releases/tag/v3.0.0. Use suggest_float(..., log=True) instead.\n",
      "  lr = trial.suggest_loguniform(\"lr\", 1e-5, 1e-3)\n",
      "[I 2025-04-27 21:15:53,517] Trial 10 finished with value: 0.823175708164799 and parameters: {'lr': 0.00027991414699329214, 'num_layers': 2, 'base_channels': 32, 'batch_size': 16}. Best is trial 8 with value: 0.8266434820113708.\n",
      "/scratch-local/nwertheim.11412200/ipykernel_1801254/312563275.py:9: FutureWarning: suggest_loguniform has been deprecated in v3.0.0. This feature will be removed in v6.0.0. See https://github.com/optuna/optuna/releases/tag/v3.0.0. Use suggest_float(..., log=True) instead.\n",
      "  lr = trial.suggest_loguniform(\"lr\", 1e-5, 1e-3)\n",
      "[I 2025-04-27 21:38:15,545] Trial 11 finished with value: 0.8232703449189428 and parameters: {'lr': 4.144547665611709e-05, 'num_layers': 4, 'base_channels': 8, 'batch_size': 16}. Best is trial 8 with value: 0.8266434820113708.\n",
      "/scratch-local/nwertheim.11412200/ipykernel_1801254/312563275.py:9: FutureWarning: suggest_loguniform has been deprecated in v3.0.0. This feature will be removed in v6.0.0. See https://github.com/optuna/optuna/releases/tag/v3.0.0. Use suggest_float(..., log=True) instead.\n",
      "  lr = trial.suggest_loguniform(\"lr\", 1e-5, 1e-3)\n",
      "[I 2025-04-27 22:03:44,644] Trial 12 finished with value: 0.8268408777156047 and parameters: {'lr': 0.0002278642900383801, 'num_layers': 5, 'base_channels': 8, 'batch_size': 16}. Best is trial 12 with value: 0.8268408777156047.\n",
      "/scratch-local/nwertheim.11412200/ipykernel_1801254/312563275.py:9: FutureWarning: suggest_loguniform has been deprecated in v3.0.0. This feature will be removed in v6.0.0. See https://github.com/optuna/optuna/releases/tag/v3.0.0. Use suggest_float(..., log=True) instead.\n",
      "  lr = trial.suggest_loguniform(\"lr\", 1e-5, 1e-3)\n",
      "[I 2025-04-27 22:27:06,872] Trial 13 finished with value: 0.8280105317488248 and parameters: {'lr': 0.0001949447147754833, 'num_layers': 5, 'base_channels': 8, 'batch_size': 16}. Best is trial 13 with value: 0.8280105317488248.\n",
      "/scratch-local/nwertheim.11412200/ipykernel_1801254/312563275.py:9: FutureWarning: suggest_loguniform has been deprecated in v3.0.0. This feature will be removed in v6.0.0. See https://github.com/optuna/optuna/releases/tag/v3.0.0. Use suggest_float(..., log=True) instead.\n",
      "  lr = trial.suggest_loguniform(\"lr\", 1e-5, 1e-3)\n",
      "[I 2025-04-27 22:45:41,527] Trial 14 finished with value: 0.8294120538947773 and parameters: {'lr': 0.0009917778465885396, 'num_layers': 5, 'base_channels': 8, 'batch_size': 16}. Best is trial 14 with value: 0.8294120538947773.\n",
      "/scratch-local/nwertheim.11412200/ipykernel_1801254/312563275.py:9: FutureWarning: suggest_loguniform has been deprecated in v3.0.0. This feature will be removed in v6.0.0. See https://github.com/optuna/optuna/releases/tag/v3.0.0. Use suggest_float(..., log=True) instead.\n",
      "  lr = trial.suggest_loguniform(\"lr\", 1e-5, 1e-3)\n",
      "[I 2025-04-27 23:03:53,209] Trial 15 finished with value: 0.8250144350554756 and parameters: {'lr': 0.0009608709878391248, 'num_layers': 5, 'base_channels': 8, 'batch_size': 16}. Best is trial 14 with value: 0.8294120538947773.\n",
      "/scratch-local/nwertheim.11412200/ipykernel_1801254/312563275.py:9: FutureWarning: suggest_loguniform has been deprecated in v3.0.0. This feature will be removed in v6.0.0. See https://github.com/optuna/optuna/releases/tag/v3.0.0. Use suggest_float(..., log=True) instead.\n",
      "  lr = trial.suggest_loguniform(\"lr\", 1e-5, 1e-3)\n",
      "[I 2025-04-27 23:22:12,637] Trial 16 finished with value: 0.8284799386902939 and parameters: {'lr': 0.0005276841025573104, 'num_layers': 5, 'base_channels': 8, 'batch_size': 16}. Best is trial 14 with value: 0.8294120538947773.\n",
      "/scratch-local/nwertheim.11412200/ipykernel_1801254/312563275.py:9: FutureWarning: suggest_loguniform has been deprecated in v3.0.0. This feature will be removed in v6.0.0. See https://github.com/optuna/optuna/releases/tag/v3.0.0. Use suggest_float(..., log=True) instead.\n",
      "  lr = trial.suggest_loguniform(\"lr\", 1e-5, 1e-3)\n"
     ]
    }
   ],
   "source": [
    "study = optuna.create_study(direction=\"maximize\")\n",
    "study.optimize(objective, n_trials=25)\n",
    "\n",
    "print(\"Best trial:\")\n",
    "print(study.best_trial)\n"
   ]
  },
  {
   "cell_type": "code",
   "execution_count": 5,
   "metadata": {},
   "outputs": [
    {
     "ename": "NameError",
     "evalue": "name 'models_path' is not defined",
     "output_type": "error",
     "traceback": [
      "\u001b[31m---------------------------------------------------------------------------\u001b[39m",
      "\u001b[31mNameError\u001b[39m                                 Traceback (most recent call last)",
      "\u001b[36mCell\u001b[39m\u001b[36m \u001b[39m\u001b[32mIn[5]\u001b[39m\u001b[32m, line 1\u001b[39m\n\u001b[32m----> \u001b[39m\u001b[32m1\u001b[39m path = os.path.join(\u001b[43mmodels_path\u001b[49m, \u001b[33m\"\u001b[39m\u001b[33mcnn_baseline_optuna.pkl\u001b[39m\u001b[33m\"\u001b[39m)\n\u001b[32m      2\u001b[39m joblib.dump(study, path)\n\u001b[32m      3\u001b[39m \u001b[38;5;28mprint\u001b[39m(\u001b[33mf\u001b[39m\u001b[33m\"\u001b[39m\u001b[33mSaved Optuna study to \u001b[39m\u001b[38;5;132;01m{\u001b[39;00mpath\u001b[38;5;132;01m}\u001b[39;00m\u001b[33m\"\u001b[39m)\n",
      "\u001b[31mNameError\u001b[39m: name 'models_path' is not defined"
     ]
    }
   ],
   "source": [
    "path = os.path.join(models_path, \"cnn_baseline_optuna.pkl\")\n",
    "joblib.dump(study, path)\n",
    "print(f\"Saved Optuna study to {path}\")"
   ]
  }
 ],
 "metadata": {
  "kernelspec": {
   "display_name": "base",
   "language": "python",
   "name": "python3"
  },
  "language_info": {
   "codemirror_mode": {
    "name": "ipython",
    "version": 3
   },
   "file_extension": ".py",
   "mimetype": "text/x-python",
   "name": "python",
   "nbconvert_exporter": "python",
   "pygments_lexer": "ipython3",
   "version": "3.12.9"
  }
 },
 "nbformat": 4,
 "nbformat_minor": 2
}
