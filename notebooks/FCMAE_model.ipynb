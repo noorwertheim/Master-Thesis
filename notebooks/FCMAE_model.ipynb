{
 "cells": [
  {
   "cell_type": "code",
   "execution_count": 4,
   "metadata": {},
   "outputs": [
    {
     "name": "stdout",
     "output_type": "stream",
     "text": [
      "/home/nwertheim/miniconda3/bin/python\n"
     ]
    }
   ],
   "source": [
    "import os\n",
    "import numpy as np\n",
    "import torch\n",
    "import torch.nn as nn\n",
    "import torch.optim as optim\n",
    "import sys\n",
    "print(sys.executable)\n",
    "sys.path.insert(1, '../src/')\n",
    "from config import raw_data_path, univariate_data_path, processed_data_path, models_path\n",
    "from skopt import gp_minimize\n",
    "from skopt.space import Real, Integer, Categorical\n",
    "from skopt.utils import use_named_args\n",
    "from skopt import gp_minimize\n",
    "from skopt.space import Real, Integer\n",
    "from skopt.utils import use_named_args\n",
    "import matplotlib.pyplot as plt\n"
   ]
  },
  {
   "cell_type": "code",
   "execution_count": 5,
   "metadata": {},
   "outputs": [],
   "source": [
    "class ConvNeXtBlock1D(nn.Module):\n",
    "    def __init__(self, dim):\n",
    "        super().__init__()\n",
    "        # Modify groups dynamically to match the input channels\n",
    "        self.dwconv = nn.Conv1d(dim, dim, kernel_size=7, padding=3, groups=dim)  # Depthwise conv\n",
    "        self.norm = nn.LayerNorm(dim)\n",
    "        self.pwconv1 = nn.Linear(dim, 4 * dim)  # Pointwise conv1 (expand)\n",
    "        self.act = nn.GELU()\n",
    "        self.pwconv2 = nn.Linear(4 * dim, dim)  # Pointwise conv2 (project)\n",
    "\n",
    "    def forward(self, x):\n",
    "        shortcut = x\n",
    "        x = self.dwconv(x)  # (B, C, L)\n",
    "        x = x.permute(0, 2, 1)  # (B, L, C) for LayerNorm\n",
    "        x = self.norm(x)\n",
    "        x = self.pwconv1(x)\n",
    "        x = self.act(x)\n",
    "        x = self.pwconv2(x)\n",
    "        x = x + shortcut.permute(0, 2, 1)\n",
    "        return x.permute(0, 2, 1)  # (B, C, L)\n"
   ]
  },
  {
   "cell_type": "code",
   "execution_count": 6,
   "metadata": {},
   "outputs": [],
   "source": [
    "import torch\n",
    "import torch.nn as nn\n",
    "import torch.nn.functional as F\n",
    "\n",
    "import torch\n",
    "import torch.nn as nn\n",
    "import torch.nn.functional as F\n",
    "\n",
    "class FCMAE(nn.Module):\n",
    "    def __init__(self, in_channels=1, base_dim=64, num_blocks=3, kernel_size=7):\n",
    "        super(FCMAE, self).__init__()\n",
    "\n",
    "        self.encoder = nn.Sequential()\n",
    "        self.decoder = nn.Sequential()\n",
    "\n",
    "        # Encoder blocks: reduce sequence length\n",
    "        current_channels = in_channels\n",
    "        for i in range(num_blocks):\n",
    "            out_channels = base_dim * (2 ** i)\n",
    "            self.encoder.append(nn.Conv1d(current_channels, out_channels, kernel_size=kernel_size, stride=2, padding=kernel_size // 2))\n",
    "            self.encoder.append(nn.BatchNorm1d(out_channels))\n",
    "            self.encoder.append(nn.ReLU())\n",
    "            current_channels = out_channels\n",
    "\n",
    "        # Decoder blocks: upsample back to original length\n",
    "        for i in reversed(range(num_blocks)):\n",
    "            out_channels = base_dim * (2 ** i)\n",
    "            self.decoder.append(nn.ConvTranspose1d(current_channels, out_channels, kernel_size=kernel_size, stride=2, padding=kernel_size // 2, output_padding=1))\n",
    "            self.decoder.append(nn.BatchNorm1d(out_channels))\n",
    "            self.decoder.append(nn.ReLU())\n",
    "            current_channels = out_channels\n",
    "\n",
    "        # Final layer to return to original number of input channels\n",
    "        self.output_layer = nn.Conv1d(current_channels, in_channels, kernel_size=1)\n",
    "\n",
    "    def forward(self, x):\n",
    "        x = self.encoder(x)\n",
    "        x = self.decoder(x)\n",
    "        x = self.output_layer(x)\n",
    "        return x"
   ]
  }
 ],
 "metadata": {
  "kernelspec": {
   "display_name": "base",
   "language": "python",
   "name": "python3"
  },
  "language_info": {
   "codemirror_mode": {
    "name": "ipython",
    "version": 3
   },
   "file_extension": ".py",
   "mimetype": "text/x-python",
   "name": "python",
   "nbconvert_exporter": "python",
   "pygments_lexer": "ipython3",
   "version": "3.12.9"
  }
 },
 "nbformat": 4,
 "nbformat_minor": 2
}
