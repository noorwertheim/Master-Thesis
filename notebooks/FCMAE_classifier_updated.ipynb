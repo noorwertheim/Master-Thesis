{
 "cells": [
  {
   "cell_type": "code",
   "execution_count": 10,
   "metadata": {},
   "outputs": [
    {
     "name": "stdout",
     "output_type": "stream",
     "text": [
      "/home/nwertheim/miniconda3/bin/python\n"
     ]
    },
    {
     "ename": "ModuleNotFoundError",
     "evalue": "No module named 'FCMAE_pytorch_updated'",
     "output_type": "error",
     "traceback": [
      "\u001b[31m---------------------------------------------------------------------------\u001b[39m",
      "\u001b[31mModuleNotFoundError\u001b[39m                       Traceback (most recent call last)",
      "\u001b[36mCell\u001b[39m\u001b[36m \u001b[39m\u001b[32mIn[10]\u001b[39m\u001b[32m, line 17\u001b[39m\n\u001b[32m     15\u001b[39m \u001b[38;5;28;01mfrom\u001b[39;00m \u001b[34;01mskopt\u001b[39;00m\u001b[34;01m.\u001b[39;00m\u001b[34;01mutils\u001b[39;00m \u001b[38;5;28;01mimport\u001b[39;00m use_named_args\n\u001b[32m     16\u001b[39m \u001b[38;5;28;01mimport\u001b[39;00m \u001b[34;01mmatplotlib\u001b[39;00m\u001b[34;01m.\u001b[39;00m\u001b[34;01mpyplot\u001b[39;00m \u001b[38;5;28;01mas\u001b[39;00m \u001b[34;01mplt\u001b[39;00m\n\u001b[32m---> \u001b[39m\u001b[32m17\u001b[39m \u001b[38;5;28;01mfrom\u001b[39;00m \u001b[34;01mFCMAE_pytorch_updated\u001b[39;00m \u001b[38;5;28;01mimport\u001b[39;00m FCMAE\n",
      "\u001b[31mModuleNotFoundError\u001b[39m: No module named 'FCMAE_pytorch_updated'"
     ]
    }
   ],
   "source": [
    "import os\n",
    "import numpy as np\n",
    "import torch\n",
    "import torch.nn as nn\n",
    "import torch.optim as optim\n",
    "import sys\n",
    "print(sys.executable)\n",
    "sys.path.insert(1, '../src/')\n",
    "from config import raw_data_path, univariate_data_path, processed_data_path, models_path\n",
    "from skopt import gp_minimize\n",
    "from skopt.space import Real, Integer, Categorical\n",
    "from skopt.utils import use_named_args\n",
    "from skopt import gp_minimize\n",
    "from skopt.space import Real, Integer\n",
    "from skopt.utils import use_named_args\n",
    "import matplotlib.pyplot as plt\n",
    "from FCMAE_pytorch_updated import FCMAE\n"
   ]
  },
  {
   "cell_type": "code",
   "execution_count": 4,
   "metadata": {},
   "outputs": [],
   "source": [
    "save_dir = os.path.join(univariate_data_path, \"target_univariate.npy\")\n",
    "target_data = np.load(save_dir, allow_pickle=True)\n",
    "target_data = [item for item in target_data if item['preterm'] is not None]\n",
    "\n"
   ]
  },
  {
   "cell_type": "code",
   "execution_count": 5,
   "metadata": {},
   "outputs": [
    {
     "name": "stdout",
     "output_type": "stream",
     "text": [
      "{'record_name': np.str_('Hopper-2023_05_25_12_03_38-0000010090-0003'), 'signal': array([[-0.70613831],\n",
      "       [-0.9054771 ],\n",
      "       [-0.7669727 ],\n",
      "       ...,\n",
      "       [-0.4010203 ],\n",
      "       [-0.44152144],\n",
      "       [-0.37364218]]), 'fs': 20, 'preterm': 0}\n"
     ]
    }
   ],
   "source": [
    "print(target_data[0])"
   ]
  },
  {
   "cell_type": "code",
   "execution_count": 6,
   "metadata": {},
   "outputs": [],
   "source": [
    "import torch\n",
    "import torch.nn as nn\n",
    "import torch.optim as optim\n",
    "\n",
    "class ClassifierWithEncoder(nn.Module):\n",
    "    def __init__(self, encoder, input_dim, hidden_dim, output_dim):\n",
    "        super(ClassifierWithEncoder, self).__init__()\n",
    "        self.encoder = encoder  # Pre-trained encoder (frozen)\n",
    "        self.mlp = nn.Sequential(\n",
    "            nn.Linear(input_dim, hidden_dim),\n",
    "            nn.ReLU(),\n",
    "            nn.Linear(hidden_dim, output_dim)\n",
    "        )\n",
    "\n",
    "    def forward(self, x):\n",
    "        # Pass input through the frozen encoder\n",
    "        with torch.no_grad():\n",
    "            encoded_features = self.encoder(x)  # Freeze encoder during training\n",
    "\n",
    "        # Pass the encoded features through the classification head (MLP)\n",
    "        output = self.mlp(encoded_features)\n",
    "        return output\n"
   ]
  },
  {
   "cell_type": "code",
   "execution_count": 7,
   "metadata": {},
   "outputs": [],
   "source": [
    "import numpy as np\n",
    "\n",
    "def create_time_windows_with_labels(data, window_length=12000, step_size=12000):\n",
    "    \"\"\"\n",
    "    Create sliding windows of a specified length and step size from a list of signals,\n",
    "    along with their associated labels (preterm).\n",
    "\n",
    "    Args:\n",
    "        data: list of dicts, each containing a 'signal' array of shape (seq_len, 1)\n",
    "        window_length: number of time steps in each window\n",
    "        step_size: number of time steps to move between windows (for overlap)\n",
    "\n",
    "    Returns:\n",
    "        windows: np.ndarray of shape (num_windows, window_length), univariate windows\n",
    "        labels: np.ndarray of shape (num_windows,), preterm labels (0 or 1)\n",
    "    \"\"\"\n",
    "    windows = []\n",
    "    labels = []\n",
    "\n",
    "    for entry in data:\n",
    "        signal = entry['signal'].flatten()  # shape: (seq_len,)\n",
    "        label = entry['preterm']  # Preterm label\n",
    "        signal_length = len(signal)\n",
    "\n",
    "        if signal_length < window_length:\n",
    "            continue\n",
    "\n",
    "        for start_idx in range(0, signal_length - window_length + 1, step_size):\n",
    "            end_idx = start_idx + window_length\n",
    "            window = signal[start_idx:end_idx]\n",
    "            windows.append(window)\n",
    "            labels.append(label)\n",
    "\n",
    "    return np.array(windows), np.array(labels)\n"
   ]
  },
  {
   "cell_type": "code",
   "execution_count": 9,
   "metadata": {},
   "outputs": [
    {
     "ename": "NameError",
     "evalue": "name 'FCMAE' is not defined",
     "output_type": "error",
     "traceback": [
      "\u001b[31m---------------------------------------------------------------------------\u001b[39m",
      "\u001b[31mNameError\u001b[39m                                 Traceback (most recent call last)",
      "\u001b[36mCell\u001b[39m\u001b[36m \u001b[39m\u001b[32mIn[9]\u001b[39m\u001b[32m, line 19\u001b[39m\n\u001b[32m     16\u001b[39m train_loader = DataLoader(train_dataset, batch_size=batch_size, shuffle=\u001b[38;5;28;01mTrue\u001b[39;00m)\n\u001b[32m     18\u001b[39m \u001b[38;5;66;03m# Load the pre-trained encoder\u001b[39;00m\n\u001b[32m---> \u001b[39m\u001b[32m19\u001b[39m encoder = \u001b[43mFCMAE\u001b[49m(dim=\u001b[32m1\u001b[39m, num_blocks=\u001b[32m3\u001b[39m)  \u001b[38;5;66;03m# Ensure to match the encoder architecture\u001b[39;00m\n\u001b[32m     20\u001b[39m encoder.load_state_dict(torch.load(path))  \u001b[38;5;66;03m# Load the pre-trained encoder's weights\u001b[39;00m\n\u001b[32m     21\u001b[39m encoder.eval()  \u001b[38;5;66;03m# Set encoder to eval mode (no gradients)\u001b[39;00m\n",
      "\u001b[31mNameError\u001b[39m: name 'FCMAE' is not defined"
     ]
    }
   ],
   "source": [
    "import torch\n",
    "import torch.nn as nn\n",
    "import torch.optim as optim\n",
    "from torch.utils.data import DataLoader, TensorDataset\n",
    "\n",
    "# Example dataset with windows and labels\n",
    "windows, labels = create_time_windows_with_labels(target_data)\n",
    "\n",
    "# Convert to tensors\n",
    "windows_tensor = torch.tensor(windows, dtype=torch.float32)\n",
    "labels_tensor = torch.tensor(labels, dtype=torch.long)\n",
    "\n",
    "# Create DataLoader\n",
    "batch_size = 32\n",
    "train_dataset = TensorDataset(windows_tensor, labels_tensor)\n",
    "train_loader = DataLoader(train_dataset, batch_size=batch_size, shuffle=True)\n",
    "\n",
    "# Load the pre-trained encoder\n",
    "encoder = FCMAE(dim=1, num_blocks=3)  # Ensure to match the encoder architecture\n",
    "encoder.load_state_dict(torch.load(path))  # Load the pre-trained encoder's weights\n",
    "encoder.eval()  # Set encoder to eval mode (no gradients)\n",
    "\n",
    "# Freeze the encoder weights\n",
    "for param in encoder.parameters():\n",
    "    param.requires_grad = False\n",
    "\n",
    "# Define the classifier model\n",
    "model = ClassifierWithEncoder(encoder, input_dim=12000, hidden_dim=256, output_dim=2)\n",
    "\n",
    "# Move the model to the device\n",
    "model.to(device)\n",
    "\n",
    "# Define loss and optimizer\n",
    "criterion = nn.CrossEntropyLoss()  # For binary classification (0 vs. 1)\n",
    "optimizer = optim.Adam(model.mlp.parameters(), lr=1e-3)  # Only optimize the MLP\n",
    "\n",
    "# Training loop\n",
    "num_epochs = 10\n",
    "for epoch in range(num_epochs):\n",
    "    model.train()\n",
    "    epoch_loss = 0.0\n",
    "\n",
    "    for batch in train_loader:\n",
    "        batch_input, batch_labels = batch\n",
    "        batch_input, batch_labels = batch_input.to(device), batch_labels.to(device)\n",
    "\n",
    "        optimizer.zero_grad()\n",
    "\n",
    "        # Forward pass\n",
    "        output = model(batch_input)\n",
    "        \n",
    "        # Compute the loss\n",
    "        loss = criterion(output, batch_labels)\n",
    "\n",
    "        loss.backward()\n",
    "        optimizer.step()\n",
    "\n",
    "        epoch_loss += loss.item()\n",
    "\n",
    "    # Print average loss every epoch\n",
    "    avg_loss = epoch_loss / len(train_loader)\n",
    "    print(f\"Epoch [{epoch+1}/{num_epochs}], Loss: {avg_loss:.4f}\")\n"
   ]
  },
  {
   "cell_type": "code",
   "execution_count": null,
   "metadata": {},
   "outputs": [],
   "source": []
  }
 ],
 "metadata": {
  "kernelspec": {
   "display_name": "base",
   "language": "python",
   "name": "python3"
  },
  "language_info": {
   "codemirror_mode": {
    "name": "ipython",
    "version": 3
   },
   "file_extension": ".py",
   "mimetype": "text/x-python",
   "name": "python",
   "nbconvert_exporter": "python",
   "pygments_lexer": "ipython3",
   "version": "3.12.9"
  }
 },
 "nbformat": 4,
 "nbformat_minor": 2
}
