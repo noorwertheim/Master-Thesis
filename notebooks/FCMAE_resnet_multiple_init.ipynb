{
 "cells": [
  {
   "cell_type": "code",
   "execution_count": 41,
   "metadata": {},
   "outputs": [
    {
     "name": "stderr",
     "output_type": "stream",
     "text": [
      "\u001b[34m\u001b[1mwandb\u001b[0m: \u001b[33mWARNING\u001b[0m If you're specifying your api key in code, ensure this code is not shared publicly.\n",
      "\u001b[34m\u001b[1mwandb\u001b[0m: \u001b[33mWARNING\u001b[0m Consider setting the WANDB_API_KEY environment variable, or running `wandb login` from the command line.\n",
      "\u001b[34m\u001b[1mwandb\u001b[0m: Appending key for api.wandb.ai to your netrc file: /home/nwertheim/.netrc\n"
     ]
    },
    {
     "name": "stdout",
     "output_type": "stream",
     "text": [
      "/home/nwertheim/miniconda3/bin/python\n"
     ]
    }
   ],
   "source": [
    "import os\n",
    "import numpy as np\n",
    "import torch\n",
    "import torch.nn as nn\n",
    "import torch.optim as optim\n",
    "import sys\n",
    "print(sys.executable)\n",
    "sys.path.insert(1, '../src/')\n",
    "from config import raw_data_path, univariate_data_path, processed_data_path, models_path, results_path\n",
    "from preprocessing_modules import create_time_windows_with_labels, create_time_windows_with_metadata\n",
    "from skopt import gp_minimize\n",
    "from skopt.space import Real, Integer, Categorical\n",
    "from skopt.utils import use_named_args\n",
    "from skopt import gp_minimize\n",
    "from skopt.space import Real, Integer\n",
    "from skopt.utils import use_named_args\n",
    "import matplotlib.pyplot as plt\n",
    "from FCMAE_model import FCMAE\n",
    "from tsai.models.ResNet import ResNet\n",
    "from tsai.models import ResNet\n",
    "from tsai.models.ResNet import ResNet\n",
    "from fastai.metrics import accuracy\n",
    "from fastai.data.core import DataLoaders\n",
    "from fastai.learner import Learner\n",
    "import csv\n",
    "\n",
    "import torch\n",
    "import wandb\n",
    "wandb.login(key=\"5f15eb7efc1e0e939ccc83345338a0b8c24e2fbc\")\n",
    "from fastai.optimizer import SGD, Adam"
   ]
  },
  {
   "cell_type": "code",
   "execution_count": 42,
   "metadata": {},
   "outputs": [],
   "source": [
    "# Define FCMAE Hyperparameters (DON'T CHANGE):\n",
    "batch_size = 16\n",
    "num_blocks = 5\n",
    "kernel_size = 7\n",
    "base_dim = 32\n",
    "learning_rate_FCMAE = 0.00016938000495408888\n",
    "input_dimension = 512\n",
    "\n",
    "# Specify hyperparameters (CHANGE) \n",
    "learning_rate = 3.1262471855603347e-07\n",
    "optimizer_name = 'SGD' # or 'SGD'\n",
    "data_subset = 100 # choose: 20, 40, 60, 80, 100\n",
    "\n",
    "opt_func_map = {\n",
    "'SGD': SGD,\n",
    "'Adam': Adam,\n",
    "}\n",
    "opt_func = opt_func_map[optimizer_name]"
   ]
  },
  {
   "cell_type": "code",
   "execution_count": 43,
   "metadata": {},
   "outputs": [],
   "source": [
    "results_csv_path = os.path.join(results_path, \"FCMAE_resnet_subset_runs.csv\")\n",
    "\n",
    "if not os.path.isfile(results_csv_path):\n",
    "    with open(results_csv_path, mode=\"w\", newline=\"\") as file:\n",
    "        writer = csv.writer(file)\n",
    "        writer.writerow([\n",
    "            \"run\",\n",
    "            \"data_subset\",\n",
    "            \"accuracy\",\n",
    "            \"precision\",\n",
    "            \"recall\",\n",
    "            \"f1\",\n",
    "            \"average_precision\",\n",
    "            \"roc_auc\"\n",
    "        ])"
   ]
  },
  {
   "cell_type": "code",
   "execution_count": 44,
   "metadata": {},
   "outputs": [
    {
     "name": "stdout",
     "output_type": "stream",
     "text": [
      "744\n",
      "192\n",
      "{'record_name': 'Hopper-2024_11_03_14_13_16-0000010179-0002-chan0', 'signal': array([[ 0.70569938],\n",
      "       [ 1.58579907],\n",
      "       [ 1.22047813],\n",
      "       ...,\n",
      "       [-0.30476434],\n",
      "       [-0.16021862],\n",
      "       [-0.40381152]]), 'fs': 20, 'preterm': 1}\n",
      "torch.Size([9900])\n",
      "batch size 16\n"
     ]
    }
   ],
   "source": [
    "\n",
    "'''MY DATA + class weights'''\n",
    "train_dir = os.path.join(univariate_data_path, \"target_univariate_no_PCA_train_2_\" + str(data_subset) + \".npy\")\n",
    "train_data = np.load(train_dir, allow_pickle=True)\n",
    "# train_data = pd.DataFrame(train_data)\n",
    "test_dir = os.path.join(univariate_data_path, \"target_univariate_no_PCA_test_2.npy\")\n",
    "test_data = np.load(test_dir, allow_pickle=True)\n",
    "# test_data = pd.DataFrame(test_data)\n",
    "print(len(train_data))\n",
    "print(len(test_data))\n",
    "print(train_data[0])\n",
    "from torch.utils.data import DataLoader, TensorDataset, random_split\n",
    "from sklearn.utils.class_weight import compute_class_weight\n",
    "from fastai.losses import CrossEntropyLossFlat\n",
    "from fastai.optimizer import SGD\n",
    "from torch.optim import AdamW\n",
    "from functools import partial\n",
    "from fastai.optimizer import OptimWrapper\n",
    "device = torch.device(\"cuda\" if torch.cuda.is_available() else \"cpu\")\n",
    "from fastai.data.core import DataLoaders\n",
    "\n",
    "\n",
    "\n",
    "from collections import Counter\n",
    "\n",
    "train_windows, train_labels, train_meta = create_time_windows_with_metadata(train_data)\n",
    "test_windows, test_labels, test_meta = create_time_windows_with_metadata(test_data)\n",
    "\n",
    "# Convert to tensors\n",
    "train_windows_tensor = torch.tensor(train_windows, dtype=torch.float32)\n",
    "train_labels_tensor = torch.tensor(train_labels, dtype=torch.float32)\n",
    "test_windows_tensor = torch.tensor(test_windows, dtype=torch.float32)\n",
    "test_labels_tensor = torch.tensor(test_labels, dtype=torch.float32)\n",
    "\n",
    "train_windows_tensor = train_windows_tensor.unsqueeze(1)  # (1071, 1, 12000)\n",
    "test_windows_tensor = test_windows_tensor.unsqueeze(1)    # (899, 1, 12000)\n",
    "\n",
    "train_labels_tensor = train_labels_tensor.long()\n",
    "test_labels_tensor = test_labels_tensor.long()\n",
    "\n",
    "\n",
    "print(train_labels_tensor.shape)\n",
    "\n",
    "train_dataset = TensorDataset(train_windows_tensor, train_labels_tensor)\n",
    "test_dataset = TensorDataset(test_windows_tensor, test_labels_tensor)\n",
    "\n",
    "train_loader = DataLoader(train_dataset, batch_size=batch_size, shuffle=True)\n",
    "test_loader = DataLoader(test_dataset, batch_size=batch_size, shuffle=False)\n",
    "# Test metadata for reference\n",
    "test_meta = test_meta\n",
    "print('batch size', batch_size)\n",
    "dls = DataLoaders(train_loader, test_loader)\n",
    "\n",
    "\n",
    "# Calculate class weights\n",
    "class_weights = compute_class_weight(class_weight='balanced', classes=np.unique(train_labels), y=train_labels)\n",
    "class_weights_tensor = torch.tensor(class_weights, dtype=torch.float32).to(device)"
   ]
  },
  {
   "cell_type": "code",
   "execution_count": 45,
   "metadata": {},
   "outputs": [
    {
     "name": "stdout",
     "output_type": "stream",
     "text": [
      "Sequential(\n",
      "  (0): Conv1d(1, 32, kernel_size=(7,), stride=(2,), padding=(3,))\n",
      "  (1): BatchNorm1d(32, eps=1e-05, momentum=0.1, affine=True, track_running_stats=True)\n",
      "  (2): ReLU()\n",
      "  (3): Conv1d(32, 64, kernel_size=(7,), stride=(2,), padding=(3,))\n",
      "  (4): BatchNorm1d(64, eps=1e-05, momentum=0.1, affine=True, track_running_stats=True)\n",
      "  (5): ReLU()\n",
      "  (6): Conv1d(64, 128, kernel_size=(7,), stride=(2,), padding=(3,))\n",
      "  (7): BatchNorm1d(128, eps=1e-05, momentum=0.1, affine=True, track_running_stats=True)\n",
      "  (8): ReLU()\n",
      "  (9): Conv1d(128, 256, kernel_size=(7,), stride=(2,), padding=(3,))\n",
      "  (10): BatchNorm1d(256, eps=1e-05, momentum=0.1, affine=True, track_running_stats=True)\n",
      "  (11): ReLU()\n",
      "  (12): Conv1d(256, 512, kernel_size=(7,), stride=(2,), padding=(3,))\n",
      "  (13): BatchNorm1d(512, eps=1e-05, momentum=0.1, affine=True, track_running_stats=True)\n",
      "  (14): ReLU()\n",
      ")\n"
     ]
    }
   ],
   "source": [
    "\n",
    "\n",
    "\n",
    "# Load the pre-trained encoder\n",
    "path = os.path.join(models_path, 'FCMAE_encoder_no_PCA_gpu_normalized_correct.pth')\n",
    "\n",
    "\n",
    "# Load the full FCMAE model\n",
    "fcmae = FCMAE(in_channels=1, base_dim=base_dim, num_blocks=num_blocks, kernel_size=kernel_size)\n",
    "\n",
    "\n",
    "# Load the saved weights into the full model\n",
    "state_dict = torch.load(path)\n",
    "fcmae.load_state_dict(state_dict)\n",
    "\n",
    "# Extract only the encoder from the FCMAE model\n",
    "encoder = fcmae.encoder\n",
    "# Set the encoder to evaluation mode and freeze the encoder parameters\n",
    "encoder.eval()\n",
    "for param in encoder.parameters():\n",
    "    param.requires_grad = False  # Freeze the encoder\n",
    "\n",
    "print(encoder)"
   ]
  },
  {
   "cell_type": "code",
   "execution_count": 46,
   "metadata": {},
   "outputs": [
    {
     "name": "stdout",
     "output_type": "stream",
     "text": [
      "\n",
      "🌀 Run 1/5\n"
     ]
    },
    {
     "data": {
      "text/html": [
       "Tracking run with wandb version 0.19.9"
      ],
      "text/plain": [
       "<IPython.core.display.HTML object>"
      ]
     },
     "metadata": {},
     "output_type": "display_data"
    },
    {
     "data": {
      "text/html": [
       "Run data is saved locally in <code>/gpfs/home3/nwertheim/Master-Thesis/notebooks/wandb/run-20250516_112141-eu2nlphp</code>"
      ],
      "text/plain": [
       "<IPython.core.display.HTML object>"
      ]
     },
     "metadata": {},
     "output_type": "display_data"
    },
    {
     "data": {
      "text/html": [
       "Syncing run <strong><a href='https://wandb.ai/noorwertheim/FCMAE-resnet-100/runs/eu2nlphp' target=\"_blank\">resnet_1</a></strong> to <a href='https://wandb.ai/noorwertheim/FCMAE-resnet-100' target=\"_blank\">Weights & Biases</a> (<a href='https://wandb.me/developer-guide' target=\"_blank\">docs</a>)<br>"
      ],
      "text/plain": [
       "<IPython.core.display.HTML object>"
      ]
     },
     "metadata": {},
     "output_type": "display_data"
    },
    {
     "data": {
      "text/html": [
       " View project at <a href='https://wandb.ai/noorwertheim/FCMAE-resnet-100' target=\"_blank\">https://wandb.ai/noorwertheim/FCMAE-resnet-100</a>"
      ],
      "text/plain": [
       "<IPython.core.display.HTML object>"
      ]
     },
     "metadata": {},
     "output_type": "display_data"
    },
    {
     "data": {
      "text/html": [
       " View run at <a href='https://wandb.ai/noorwertheim/FCMAE-resnet-100/runs/eu2nlphp' target=\"_blank\">https://wandb.ai/noorwertheim/FCMAE-resnet-100/runs/eu2nlphp</a>"
      ],
      "text/plain": [
       "<IPython.core.display.HTML object>"
      ]
     },
     "metadata": {},
     "output_type": "display_data"
    },
    {
     "name": "stdout",
     "output_type": "stream",
     "text": [
      "Could not gather input dimensions\n",
      "WandbCallback was not able to prepare a DataLoader for logging prediction samples -> 'TensorDataset' object has no attribute 'items'\n"
     ]
    },
    {
     "data": {
      "text/html": [
       "\n",
       "<style>\n",
       "    /* Turns off some styling */\n",
       "    progress {\n",
       "        /* gets rid of default border in Firefox and Opera. */\n",
       "        border: none;\n",
       "        /* Needs to be in here for Safari polyfill so background images work as expected. */\n",
       "        background-size: auto;\n",
       "    }\n",
       "    progress:not([value]), progress:not([value])::-webkit-progress-bar {\n",
       "        background: repeating-linear-gradient(45deg, #7e7e7e, #7e7e7e 10px, #5c5c5c 10px, #5c5c5c 20px);\n",
       "    }\n",
       "    .progress-bar-interrupted, .progress-bar-interrupted::-webkit-progress-bar {\n",
       "        background: #F44336;\n",
       "    }\n",
       "</style>\n"
      ],
      "text/plain": [
       "<IPython.core.display.HTML object>"
      ]
     },
     "metadata": {},
     "output_type": "display_data"
    },
    {
     "data": {
      "text/html": [
       "<table border=\"1\" class=\"dataframe\">\n",
       "  <thead>\n",
       "    <tr style=\"text-align: left;\">\n",
       "      <th>epoch</th>\n",
       "      <th>train_loss</th>\n",
       "      <th>valid_loss</th>\n",
       "      <th>accuracy</th>\n",
       "      <th>time</th>\n",
       "    </tr>\n",
       "  </thead>\n",
       "  <tbody>\n",
       "    <tr>\n",
       "      <td>0</td>\n",
       "      <td>0.708754</td>\n",
       "      <td>0.742614</td>\n",
       "      <td>0.241146</td>\n",
       "      <td>00:04</td>\n",
       "    </tr>\n",
       "    <tr>\n",
       "      <td>1</td>\n",
       "      <td>0.705163</td>\n",
       "      <td>0.740964</td>\n",
       "      <td>0.326562</td>\n",
       "      <td>00:03</td>\n",
       "    </tr>\n",
       "    <tr>\n",
       "      <td>2</td>\n",
       "      <td>0.703081</td>\n",
       "      <td>0.758662</td>\n",
       "      <td>0.235938</td>\n",
       "      <td>00:03</td>\n",
       "    </tr>\n",
       "    <tr>\n",
       "      <td>3</td>\n",
       "      <td>0.701020</td>\n",
       "      <td>0.752772</td>\n",
       "      <td>0.233854</td>\n",
       "      <td>00:03</td>\n",
       "    </tr>\n",
       "    <tr>\n",
       "      <td>4</td>\n",
       "      <td>0.702424</td>\n",
       "      <td>0.751867</td>\n",
       "      <td>0.238021</td>\n",
       "      <td>00:03</td>\n",
       "    </tr>\n",
       "  </tbody>\n",
       "</table>"
      ],
      "text/plain": [
       "<IPython.core.display.HTML object>"
      ]
     },
     "metadata": {},
     "output_type": "display_data"
    },
    {
     "name": "stdout",
     "output_type": "stream",
     "text": [
      "Better model found at epoch 0 with valid_loss value: 0.7426144480705261.\n",
      "Better model found at epoch 1 with valid_loss value: 0.7409635186195374.\n",
      "No improvement since epoch 1: early stopping\n"
     ]
    },
    {
     "data": {
      "text/html": [
       "\n",
       "<style>\n",
       "    /* Turns off some styling */\n",
       "    progress {\n",
       "        /* gets rid of default border in Firefox and Opera. */\n",
       "        border: none;\n",
       "        /* Needs to be in here for Safari polyfill so background images work as expected. */\n",
       "        background-size: auto;\n",
       "    }\n",
       "    progress:not([value]), progress:not([value])::-webkit-progress-bar {\n",
       "        background: repeating-linear-gradient(45deg, #7e7e7e, #7e7e7e 10px, #5c5c5c 10px, #5c5c5c 20px);\n",
       "    }\n",
       "    .progress-bar-interrupted, .progress-bar-interrupted::-webkit-progress-bar {\n",
       "        background: #F44336;\n",
       "    }\n",
       "</style>\n"
      ],
      "text/plain": [
       "<IPython.core.display.HTML object>"
      ]
     },
     "metadata": {},
     "output_type": "display_data"
    },
    {
     "data": {
      "text/html": [],
      "text/plain": [
       "<IPython.core.display.HTML object>"
      ]
     },
     "metadata": {},
     "output_type": "display_data"
    },
    {
     "data": {
      "text/html": [],
      "text/plain": [
       "<IPython.core.display.HTML object>"
      ]
     },
     "metadata": {},
     "output_type": "display_data"
    },
    {
     "data": {
      "text/html": [
       "<br>    <style><br>        .wandb-row {<br>            display: flex;<br>            flex-direction: row;<br>            flex-wrap: wrap;<br>            justify-content: flex-start;<br>            width: 100%;<br>        }<br>        .wandb-col {<br>            display: flex;<br>            flex-direction: column;<br>            flex-basis: 100%;<br>            flex: 1;<br>            padding: 10px;<br>        }<br>    </style><br><div class=\"wandb-row\"><div class=\"wandb-col\"><h3>Run history:</h3><br/><table class=\"wandb\"><tr><td>accuracy</td><td>▂█▁▁▁</td></tr><tr><td>epoch</td><td>▁▁▁▂▂▂▂▂▂▂▂▂▂▃▃▃▃▄▄▄▄▄▅▅▅▅▅▆▆▆▆▆▇▇▇▇████</td></tr><tr><td>final_accuracy</td><td>▁</td></tr><tr><td>final_auc</td><td>▁</td></tr><tr><td>final_average_precision</td><td>▁</td></tr><tr><td>final_f1</td><td>▁</td></tr><tr><td>final_precision</td><td>▁</td></tr><tr><td>final_recall</td><td>▁</td></tr><tr><td>lr_0</td><td>▁▁▁▂▃▃▄▄▄▅▆▆▆▆▇█████████████▇▇▇▇▇▇▇▆▆▆▆▆</td></tr><tr><td>mom_0</td><td>████▇▇▇▆▆▅▄▄▃▃▃▂▂▂▁▁▁▁▁▁▁▁▁▁▂▂▂▂▂▂▂▂▂▂▃▃</td></tr><tr><td>raw_loss</td><td>▂▁▅▄▃█▄▅▄▃█▅▃▂▆▄▆▄▅▅▆▇▅▅▃▄▅▂▄▄▁▆▃▅▄▂▃▇▆▁</td></tr><tr><td>train_loss</td><td>▄█▅▁▁▅▃▄▃▆▁▂▆▅▃▇▅▃▄▃▃▃▅▆▆▇█▄▃▃▁▂▄▄▇▆▆▇▃▁</td></tr><tr><td>train_samples_per_sec</td><td>▄▄▄▃▄▄▄███████▇▇███▇▁▇█▇██▇██▇▇█▇▇▅▇▇▇▇█</td></tr><tr><td>valid_loss</td><td>▂▁█▆▅</td></tr><tr><td>wd_0</td><td>▁▁▁▁▁▁▁▁▁▁▁▁▁▁▁▁▁▁▁▁▁▁▁▁▁▁▁▁▁▁▁▁▁▁▁▁▁▁▁▁</td></tr></table><br/></div><div class=\"wandb-col\"><h3>Run summary:</h3><br/><table class=\"wandb\"><tr><td>accuracy</td><td>0.23802</td></tr><tr><td>epoch</td><td>5</td></tr><tr><td>final_accuracy</td><td>0.32656</td></tr><tr><td>final_auc</td><td>0.33433</td></tr><tr><td>final_average_precision</td><td>0.71111</td></tr><tr><td>final_f1</td><td>0.31333</td></tr><tr><td>final_precision</td><td>0.79515</td></tr><tr><td>final_recall</td><td>0.19511</td></tr><tr><td>lr_0</td><td>0.0</td></tr><tr><td>mom_0</td><td>0.87497</td></tr><tr><td>raw_loss</td><td>0.73441</td></tr><tr><td>train_loss</td><td>0.70242</td></tr><tr><td>train_samples_per_sec</td><td>2296.91404</td></tr><tr><td>valid_loss</td><td>0.75187</td></tr><tr><td>wd_0</td><td>0</td></tr></table><br/></div></div>"
      ],
      "text/plain": [
       "<IPython.core.display.HTML object>"
      ]
     },
     "metadata": {},
     "output_type": "display_data"
    },
    {
     "data": {
      "text/html": [
       " View run <strong style=\"color:#cdcd00\">resnet_1</strong> at: <a href='https://wandb.ai/noorwertheim/FCMAE-resnet-100/runs/eu2nlphp' target=\"_blank\">https://wandb.ai/noorwertheim/FCMAE-resnet-100/runs/eu2nlphp</a><br> View project at: <a href='https://wandb.ai/noorwertheim/FCMAE-resnet-100' target=\"_blank\">https://wandb.ai/noorwertheim/FCMAE-resnet-100</a><br>Synced 5 W&B file(s), 0 media file(s), 2 artifact file(s) and 0 other file(s)"
      ],
      "text/plain": [
       "<IPython.core.display.HTML object>"
      ]
     },
     "metadata": {},
     "output_type": "display_data"
    },
    {
     "data": {
      "text/html": [
       "Find logs at: <code>./wandb/run-20250516_112141-eu2nlphp/logs</code>"
      ],
      "text/plain": [
       "<IPython.core.display.HTML object>"
      ]
     },
     "metadata": {},
     "output_type": "display_data"
    },
    {
     "name": "stdout",
     "output_type": "stream",
     "text": [
      "\n",
      "🌀 Run 2/5\n"
     ]
    },
    {
     "data": {
      "text/html": [
       "Tracking run with wandb version 0.19.9"
      ],
      "text/plain": [
       "<IPython.core.display.HTML object>"
      ]
     },
     "metadata": {},
     "output_type": "display_data"
    },
    {
     "data": {
      "text/html": [
       "Run data is saved locally in <code>/gpfs/home3/nwertheim/Master-Thesis/notebooks/wandb/run-20250516_112206-41ktrsqm</code>"
      ],
      "text/plain": [
       "<IPython.core.display.HTML object>"
      ]
     },
     "metadata": {},
     "output_type": "display_data"
    },
    {
     "data": {
      "text/html": [
       "Syncing run <strong><a href='https://wandb.ai/noorwertheim/FCMAE-resnet-100/runs/41ktrsqm' target=\"_blank\">resnet_2</a></strong> to <a href='https://wandb.ai/noorwertheim/FCMAE-resnet-100' target=\"_blank\">Weights & Biases</a> (<a href='https://wandb.me/developer-guide' target=\"_blank\">docs</a>)<br>"
      ],
      "text/plain": [
       "<IPython.core.display.HTML object>"
      ]
     },
     "metadata": {},
     "output_type": "display_data"
    },
    {
     "data": {
      "text/html": [
       " View project at <a href='https://wandb.ai/noorwertheim/FCMAE-resnet-100' target=\"_blank\">https://wandb.ai/noorwertheim/FCMAE-resnet-100</a>"
      ],
      "text/plain": [
       "<IPython.core.display.HTML object>"
      ]
     },
     "metadata": {},
     "output_type": "display_data"
    },
    {
     "data": {
      "text/html": [
       " View run at <a href='https://wandb.ai/noorwertheim/FCMAE-resnet-100/runs/41ktrsqm' target=\"_blank\">https://wandb.ai/noorwertheim/FCMAE-resnet-100/runs/41ktrsqm</a>"
      ],
      "text/plain": [
       "<IPython.core.display.HTML object>"
      ]
     },
     "metadata": {},
     "output_type": "display_data"
    },
    {
     "name": "stdout",
     "output_type": "stream",
     "text": [
      "Could not gather input dimensions\n",
      "WandbCallback was not able to prepare a DataLoader for logging prediction samples -> 'TensorDataset' object has no attribute 'items'\n"
     ]
    },
    {
     "data": {
      "text/html": [
       "\n",
       "<style>\n",
       "    /* Turns off some styling */\n",
       "    progress {\n",
       "        /* gets rid of default border in Firefox and Opera. */\n",
       "        border: none;\n",
       "        /* Needs to be in here for Safari polyfill so background images work as expected. */\n",
       "        background-size: auto;\n",
       "    }\n",
       "    progress:not([value]), progress:not([value])::-webkit-progress-bar {\n",
       "        background: repeating-linear-gradient(45deg, #7e7e7e, #7e7e7e 10px, #5c5c5c 10px, #5c5c5c 20px);\n",
       "    }\n",
       "    .progress-bar-interrupted, .progress-bar-interrupted::-webkit-progress-bar {\n",
       "        background: #F44336;\n",
       "    }\n",
       "</style>\n"
      ],
      "text/plain": [
       "<IPython.core.display.HTML object>"
      ]
     },
     "metadata": {},
     "output_type": "display_data"
    },
    {
     "data": {
      "text/html": [
       "<table border=\"1\" class=\"dataframe\">\n",
       "  <thead>\n",
       "    <tr style=\"text-align: left;\">\n",
       "      <th>epoch</th>\n",
       "      <th>train_loss</th>\n",
       "      <th>valid_loss</th>\n",
       "      <th>accuracy</th>\n",
       "      <th>time</th>\n",
       "    </tr>\n",
       "  </thead>\n",
       "  <tbody>\n",
       "    <tr>\n",
       "      <td>0</td>\n",
       "      <td>0.705746</td>\n",
       "      <td>0.786049</td>\n",
       "      <td>0.212500</td>\n",
       "      <td>00:03</td>\n",
       "    </tr>\n",
       "    <tr>\n",
       "      <td>1</td>\n",
       "      <td>0.712524</td>\n",
       "      <td>0.791502</td>\n",
       "      <td>0.212500</td>\n",
       "      <td>00:03</td>\n",
       "    </tr>\n",
       "    <tr>\n",
       "      <td>2</td>\n",
       "      <td>0.700987</td>\n",
       "      <td>0.790971</td>\n",
       "      <td>0.212500</td>\n",
       "      <td>00:03</td>\n",
       "    </tr>\n",
       "    <tr>\n",
       "      <td>3</td>\n",
       "      <td>0.708588</td>\n",
       "      <td>0.765280</td>\n",
       "      <td>0.212500</td>\n",
       "      <td>00:03</td>\n",
       "    </tr>\n",
       "    <tr>\n",
       "      <td>4</td>\n",
       "      <td>0.707395</td>\n",
       "      <td>0.741759</td>\n",
       "      <td>0.215104</td>\n",
       "      <td>00:03</td>\n",
       "    </tr>\n",
       "    <tr>\n",
       "      <td>5</td>\n",
       "      <td>0.704286</td>\n",
       "      <td>0.785716</td>\n",
       "      <td>0.212500</td>\n",
       "      <td>00:03</td>\n",
       "    </tr>\n",
       "    <tr>\n",
       "      <td>6</td>\n",
       "      <td>0.704726</td>\n",
       "      <td>0.768249</td>\n",
       "      <td>0.212500</td>\n",
       "      <td>00:03</td>\n",
       "    </tr>\n",
       "    <tr>\n",
       "      <td>7</td>\n",
       "      <td>0.703466</td>\n",
       "      <td>0.780318</td>\n",
       "      <td>0.212500</td>\n",
       "      <td>00:03</td>\n",
       "    </tr>\n",
       "  </tbody>\n",
       "</table>"
      ],
      "text/plain": [
       "<IPython.core.display.HTML object>"
      ]
     },
     "metadata": {},
     "output_type": "display_data"
    },
    {
     "name": "stdout",
     "output_type": "stream",
     "text": [
      "Better model found at epoch 0 with valid_loss value: 0.7860491275787354.\n",
      "Better model found at epoch 3 with valid_loss value: 0.7652804255485535.\n",
      "Better model found at epoch 4 with valid_loss value: 0.7417592406272888.\n",
      "No improvement since epoch 4: early stopping\n"
     ]
    },
    {
     "data": {
      "text/html": [
       "\n",
       "<style>\n",
       "    /* Turns off some styling */\n",
       "    progress {\n",
       "        /* gets rid of default border in Firefox and Opera. */\n",
       "        border: none;\n",
       "        /* Needs to be in here for Safari polyfill so background images work as expected. */\n",
       "        background-size: auto;\n",
       "    }\n",
       "    progress:not([value]), progress:not([value])::-webkit-progress-bar {\n",
       "        background: repeating-linear-gradient(45deg, #7e7e7e, #7e7e7e 10px, #5c5c5c 10px, #5c5c5c 20px);\n",
       "    }\n",
       "    .progress-bar-interrupted, .progress-bar-interrupted::-webkit-progress-bar {\n",
       "        background: #F44336;\n",
       "    }\n",
       "</style>\n"
      ],
      "text/plain": [
       "<IPython.core.display.HTML object>"
      ]
     },
     "metadata": {},
     "output_type": "display_data"
    },
    {
     "data": {
      "text/html": [],
      "text/plain": [
       "<IPython.core.display.HTML object>"
      ]
     },
     "metadata": {},
     "output_type": "display_data"
    },
    {
     "data": {
      "text/html": [],
      "text/plain": [
       "<IPython.core.display.HTML object>"
      ]
     },
     "metadata": {},
     "output_type": "display_data"
    },
    {
     "data": {
      "text/html": [
       "<br>    <style><br>        .wandb-row {<br>            display: flex;<br>            flex-direction: row;<br>            flex-wrap: wrap;<br>            justify-content: flex-start;<br>            width: 100%;<br>        }<br>        .wandb-col {<br>            display: flex;<br>            flex-direction: column;<br>            flex-basis: 100%;<br>            flex: 1;<br>            padding: 10px;<br>        }<br>    </style><br><div class=\"wandb-row\"><div class=\"wandb-col\"><h3>Run history:</h3><br/><table class=\"wandb\"><tr><td>accuracy</td><td>▁▁▁▁█▁▁▁</td></tr><tr><td>epoch</td><td>▁▁▁▁▁▂▂▂▂▂▂▃▃▃▃▄▄▄▄▄▄▄▄▄▅▅▅▅▅▆▆▆▆▇▇▇▇▇▇█</td></tr><tr><td>final_accuracy</td><td>▁</td></tr><tr><td>final_auc</td><td>▁</td></tr><tr><td>final_average_precision</td><td>▁</td></tr><tr><td>final_f1</td><td>▁</td></tr><tr><td>final_precision</td><td>▁</td></tr><tr><td>final_recall</td><td>▁</td></tr><tr><td>lr_0</td><td>▁▁▁▁▁▅▅▅▆▇▇██████████▇▇▇▇▆▆▆▆▅▅▅▅▄▄▃▃▃▂▂</td></tr><tr><td>mom_0</td><td>█▇▇▇▇▆▆▅▄▄▂▁▁▁▁▁▂▂▂▂▃▃▃▄▄▅▅▅▅▅▅▅▅▆▆▆▆▆▇▇</td></tr><tr><td>raw_loss</td><td>▆▇▂▃▅▇▅▄▃▅▇▆▆▄▃▂▂▂▃▅▅▄▅▃▄▄▄▆▆▁▅▇▇▅█▅▃▆▅▃</td></tr><tr><td>train_loss</td><td>▆▇▅▁▇▄▁▄▃▅▆▆▇▂▇▄▅▃▆▆▄▇█▅▅▄▆▅▆▆▆▆▅▅▃▆▅▅▄▄</td></tr><tr><td>train_samples_per_sec</td><td>▆▆███████████████▁██████████████████████</td></tr><tr><td>valid_loss</td><td>▇██▄▁▇▅▆</td></tr><tr><td>wd_0</td><td>▁▁▁▁▁▁▁▁▁▁▁▁▁▁▁▁▁▁▁▁▁▁▁▁▁▁▁▁▁▁▁▁▁▁▁▁▁▁▁▁</td></tr></table><br/></div><div class=\"wandb-col\"><h3>Run summary:</h3><br/><table class=\"wandb\"><tr><td>accuracy</td><td>0.2125</td></tr><tr><td>epoch</td><td>8</td></tr><tr><td>final_accuracy</td><td>0.2151</td></tr><tr><td>final_auc</td><td>0.59893</td></tr><tr><td>final_average_precision</td><td>0.81635</td></tr><tr><td>final_f1</td><td>0.0079</td></tr><tr><td>final_precision</td><td>0.85714</td></tr><tr><td>final_recall</td><td>0.00397</td></tr><tr><td>lr_0</td><td>0.0</td></tr><tr><td>mom_0</td><td>0.93343</td></tr><tr><td>raw_loss</td><td>0.70274</td></tr><tr><td>train_loss</td><td>0.70347</td></tr><tr><td>train_samples_per_sec</td><td>2312.68638</td></tr><tr><td>valid_loss</td><td>0.78032</td></tr><tr><td>wd_0</td><td>0</td></tr></table><br/></div></div>"
      ],
      "text/plain": [
       "<IPython.core.display.HTML object>"
      ]
     },
     "metadata": {},
     "output_type": "display_data"
    },
    {
     "data": {
      "text/html": [
       " View run <strong style=\"color:#cdcd00\">resnet_2</strong> at: <a href='https://wandb.ai/noorwertheim/FCMAE-resnet-100/runs/41ktrsqm' target=\"_blank\">https://wandb.ai/noorwertheim/FCMAE-resnet-100/runs/41ktrsqm</a><br> View project at: <a href='https://wandb.ai/noorwertheim/FCMAE-resnet-100' target=\"_blank\">https://wandb.ai/noorwertheim/FCMAE-resnet-100</a><br>Synced 5 W&B file(s), 0 media file(s), 2 artifact file(s) and 0 other file(s)"
      ],
      "text/plain": [
       "<IPython.core.display.HTML object>"
      ]
     },
     "metadata": {},
     "output_type": "display_data"
    },
    {
     "data": {
      "text/html": [
       "Find logs at: <code>./wandb/run-20250516_112206-41ktrsqm/logs</code>"
      ],
      "text/plain": [
       "<IPython.core.display.HTML object>"
      ]
     },
     "metadata": {},
     "output_type": "display_data"
    },
    {
     "name": "stdout",
     "output_type": "stream",
     "text": [
      "\n",
      "🌀 Run 3/5\n"
     ]
    },
    {
     "data": {
      "text/html": [
       "Tracking run with wandb version 0.19.9"
      ],
      "text/plain": [
       "<IPython.core.display.HTML object>"
      ]
     },
     "metadata": {},
     "output_type": "display_data"
    },
    {
     "data": {
      "text/html": [
       "Run data is saved locally in <code>/gpfs/home3/nwertheim/Master-Thesis/notebooks/wandb/run-20250516_112242-e8n9y6w4</code>"
      ],
      "text/plain": [
       "<IPython.core.display.HTML object>"
      ]
     },
     "metadata": {},
     "output_type": "display_data"
    },
    {
     "data": {
      "text/html": [
       "Syncing run <strong><a href='https://wandb.ai/noorwertheim/FCMAE-resnet-100/runs/e8n9y6w4' target=\"_blank\">resnet_3</a></strong> to <a href='https://wandb.ai/noorwertheim/FCMAE-resnet-100' target=\"_blank\">Weights & Biases</a> (<a href='https://wandb.me/developer-guide' target=\"_blank\">docs</a>)<br>"
      ],
      "text/plain": [
       "<IPython.core.display.HTML object>"
      ]
     },
     "metadata": {},
     "output_type": "display_data"
    },
    {
     "data": {
      "text/html": [
       " View project at <a href='https://wandb.ai/noorwertheim/FCMAE-resnet-100' target=\"_blank\">https://wandb.ai/noorwertheim/FCMAE-resnet-100</a>"
      ],
      "text/plain": [
       "<IPython.core.display.HTML object>"
      ]
     },
     "metadata": {},
     "output_type": "display_data"
    },
    {
     "data": {
      "text/html": [
       " View run at <a href='https://wandb.ai/noorwertheim/FCMAE-resnet-100/runs/e8n9y6w4' target=\"_blank\">https://wandb.ai/noorwertheim/FCMAE-resnet-100/runs/e8n9y6w4</a>"
      ],
      "text/plain": [
       "<IPython.core.display.HTML object>"
      ]
     },
     "metadata": {},
     "output_type": "display_data"
    },
    {
     "name": "stdout",
     "output_type": "stream",
     "text": [
      "Could not gather input dimensions\n",
      "WandbCallback was not able to prepare a DataLoader for logging prediction samples -> 'TensorDataset' object has no attribute 'items'\n"
     ]
    },
    {
     "data": {
      "text/html": [
       "\n",
       "<style>\n",
       "    /* Turns off some styling */\n",
       "    progress {\n",
       "        /* gets rid of default border in Firefox and Opera. */\n",
       "        border: none;\n",
       "        /* Needs to be in here for Safari polyfill so background images work as expected. */\n",
       "        background-size: auto;\n",
       "    }\n",
       "    progress:not([value]), progress:not([value])::-webkit-progress-bar {\n",
       "        background: repeating-linear-gradient(45deg, #7e7e7e, #7e7e7e 10px, #5c5c5c 10px, #5c5c5c 20px);\n",
       "    }\n",
       "    .progress-bar-interrupted, .progress-bar-interrupted::-webkit-progress-bar {\n",
       "        background: #F44336;\n",
       "    }\n",
       "</style>\n"
      ],
      "text/plain": [
       "<IPython.core.display.HTML object>"
      ]
     },
     "metadata": {},
     "output_type": "display_data"
    },
    {
     "data": {
      "text/html": [
       "<table border=\"1\" class=\"dataframe\">\n",
       "  <thead>\n",
       "    <tr style=\"text-align: left;\">\n",
       "      <th>epoch</th>\n",
       "      <th>train_loss</th>\n",
       "      <th>valid_loss</th>\n",
       "      <th>accuracy</th>\n",
       "      <th>time</th>\n",
       "    </tr>\n",
       "  </thead>\n",
       "  <tbody>\n",
       "    <tr>\n",
       "      <td>0</td>\n",
       "      <td>0.715408</td>\n",
       "      <td>0.617648</td>\n",
       "      <td>0.787500</td>\n",
       "      <td>00:03</td>\n",
       "    </tr>\n",
       "    <tr>\n",
       "      <td>1</td>\n",
       "      <td>0.711696</td>\n",
       "      <td>0.626195</td>\n",
       "      <td>0.787500</td>\n",
       "      <td>00:03</td>\n",
       "    </tr>\n",
       "    <tr>\n",
       "      <td>2</td>\n",
       "      <td>0.711697</td>\n",
       "      <td>0.632403</td>\n",
       "      <td>0.786458</td>\n",
       "      <td>00:03</td>\n",
       "    </tr>\n",
       "    <tr>\n",
       "      <td>3</td>\n",
       "      <td>0.714403</td>\n",
       "      <td>0.616959</td>\n",
       "      <td>0.787500</td>\n",
       "      <td>00:03</td>\n",
       "    </tr>\n",
       "    <tr>\n",
       "      <td>4</td>\n",
       "      <td>0.718799</td>\n",
       "      <td>0.598493</td>\n",
       "      <td>0.787500</td>\n",
       "      <td>00:03</td>\n",
       "    </tr>\n",
       "    <tr>\n",
       "      <td>5</td>\n",
       "      <td>0.714835</td>\n",
       "      <td>0.610687</td>\n",
       "      <td>0.785417</td>\n",
       "      <td>00:03</td>\n",
       "    </tr>\n",
       "    <tr>\n",
       "      <td>6</td>\n",
       "      <td>0.709202</td>\n",
       "      <td>0.618940</td>\n",
       "      <td>0.787500</td>\n",
       "      <td>00:03</td>\n",
       "    </tr>\n",
       "    <tr>\n",
       "      <td>7</td>\n",
       "      <td>0.714917</td>\n",
       "      <td>0.613427</td>\n",
       "      <td>0.785417</td>\n",
       "      <td>00:03</td>\n",
       "    </tr>\n",
       "  </tbody>\n",
       "</table>"
      ],
      "text/plain": [
       "<IPython.core.display.HTML object>"
      ]
     },
     "metadata": {},
     "output_type": "display_data"
    },
    {
     "name": "stdout",
     "output_type": "stream",
     "text": [
      "Better model found at epoch 0 with valid_loss value: 0.6176482439041138.\n",
      "Better model found at epoch 3 with valid_loss value: 0.6169592142105103.\n",
      "Better model found at epoch 4 with valid_loss value: 0.5984934568405151.\n",
      "No improvement since epoch 4: early stopping\n"
     ]
    },
    {
     "data": {
      "text/html": [
       "\n",
       "<style>\n",
       "    /* Turns off some styling */\n",
       "    progress {\n",
       "        /* gets rid of default border in Firefox and Opera. */\n",
       "        border: none;\n",
       "        /* Needs to be in here for Safari polyfill so background images work as expected. */\n",
       "        background-size: auto;\n",
       "    }\n",
       "    progress:not([value]), progress:not([value])::-webkit-progress-bar {\n",
       "        background: repeating-linear-gradient(45deg, #7e7e7e, #7e7e7e 10px, #5c5c5c 10px, #5c5c5c 20px);\n",
       "    }\n",
       "    .progress-bar-interrupted, .progress-bar-interrupted::-webkit-progress-bar {\n",
       "        background: #F44336;\n",
       "    }\n",
       "</style>\n"
      ],
      "text/plain": [
       "<IPython.core.display.HTML object>"
      ]
     },
     "metadata": {},
     "output_type": "display_data"
    },
    {
     "data": {
      "text/html": [],
      "text/plain": [
       "<IPython.core.display.HTML object>"
      ]
     },
     "metadata": {},
     "output_type": "display_data"
    },
    {
     "data": {
      "text/html": [],
      "text/plain": [
       "<IPython.core.display.HTML object>"
      ]
     },
     "metadata": {},
     "output_type": "display_data"
    },
    {
     "data": {
      "text/html": [
       "<br>    <style><br>        .wandb-row {<br>            display: flex;<br>            flex-direction: row;<br>            flex-wrap: wrap;<br>            justify-content: flex-start;<br>            width: 100%;<br>        }<br>        .wandb-col {<br>            display: flex;<br>            flex-direction: column;<br>            flex-basis: 100%;<br>            flex: 1;<br>            padding: 10px;<br>        }<br>    </style><br><div class=\"wandb-row\"><div class=\"wandb-col\"><h3>Run history:</h3><br/><table class=\"wandb\"><tr><td>accuracy</td><td>██▄██▁█▁</td></tr><tr><td>epoch</td><td>▁▁▁▁▁▂▂▃▃▃▃▃▃▄▄▄▄▄▄▅▅▅▅▅▅▅▅▅▅▆▆▆▆▇▇▇▇███</td></tr><tr><td>final_accuracy</td><td>▁</td></tr><tr><td>final_auc</td><td>▁</td></tr><tr><td>final_average_precision</td><td>▁</td></tr><tr><td>final_f1</td><td>▁</td></tr><tr><td>final_precision</td><td>▁</td></tr><tr><td>final_recall</td><td>▁</td></tr><tr><td>lr_0</td><td>▁▁▁▁▂▂▂▅▅▆▇▇████████▇▆▆▆▆▅▅▅▅▅▅▄▄▄▃▃▃▃▂▂</td></tr><tr><td>mom_0</td><td>█▆▅▅▅▄▄▄▃▂▁▁▁▁▁▁▁▁▁▁▂▂▂▂▂▃▄▄▄▄▅▅▅▅▅▅▅▆▆▇</td></tr><tr><td>raw_loss</td><td>▃██▅▂▄▆▂▆▅▅▄▆▄▅▅▆▆▃▅▅▃▃▆▃▄▄▁▅▄▆▃▄▄▅▄▂▄▄▃</td></tr><tr><td>train_loss</td><td>▆▆▅▃█▅▅▆▇▁▄▄▅▅▅▆▃▅▂▂▅█▂▅▅▆▃▃▄▅█▇▇▂▃▃▂▃▆▆</td></tr><tr><td>train_samples_per_sec</td><td>▃▅▅▇▅▅▅█▆▅▇▇▅▆▁▅▇▆▃▆▅▅▅▂▄▅▆▄▄▅▆▄▄▄▅▄▅▅▄▄</td></tr><tr><td>valid_loss</td><td>▅▇█▅▁▄▅▄</td></tr><tr><td>wd_0</td><td>▁▁▁▁▁▁▁▁▁▁▁▁▁▁▁▁▁▁▁▁▁▁▁▁▁▁▁▁▁▁▁▁▁▁▁▁▁▁▁▁</td></tr></table><br/></div><div class=\"wandb-col\"><h3>Run summary:</h3><br/><table class=\"wandb\"><tr><td>accuracy</td><td>0.78542</td></tr><tr><td>epoch</td><td>8</td></tr><tr><td>final_accuracy</td><td>0.7875</td></tr><tr><td>final_auc</td><td>0.42362</td></tr><tr><td>final_average_precision</td><td>0.74692</td></tr><tr><td>final_f1</td><td>0.88112</td></tr><tr><td>final_precision</td><td>0.7875</td></tr><tr><td>final_recall</td><td>1</td></tr><tr><td>lr_0</td><td>0.0</td></tr><tr><td>mom_0</td><td>0.93343</td></tr><tr><td>raw_loss</td><td>0.70761</td></tr><tr><td>train_loss</td><td>0.71492</td></tr><tr><td>train_samples_per_sec</td><td>2307.63461</td></tr><tr><td>valid_loss</td><td>0.61343</td></tr><tr><td>wd_0</td><td>0</td></tr></table><br/></div></div>"
      ],
      "text/plain": [
       "<IPython.core.display.HTML object>"
      ]
     },
     "metadata": {},
     "output_type": "display_data"
    },
    {
     "data": {
      "text/html": [
       " View run <strong style=\"color:#cdcd00\">resnet_3</strong> at: <a href='https://wandb.ai/noorwertheim/FCMAE-resnet-100/runs/e8n9y6w4' target=\"_blank\">https://wandb.ai/noorwertheim/FCMAE-resnet-100/runs/e8n9y6w4</a><br> View project at: <a href='https://wandb.ai/noorwertheim/FCMAE-resnet-100' target=\"_blank\">https://wandb.ai/noorwertheim/FCMAE-resnet-100</a><br>Synced 5 W&B file(s), 0 media file(s), 2 artifact file(s) and 0 other file(s)"
      ],
      "text/plain": [
       "<IPython.core.display.HTML object>"
      ]
     },
     "metadata": {},
     "output_type": "display_data"
    },
    {
     "data": {
      "text/html": [
       "Find logs at: <code>./wandb/run-20250516_112242-e8n9y6w4/logs</code>"
      ],
      "text/plain": [
       "<IPython.core.display.HTML object>"
      ]
     },
     "metadata": {},
     "output_type": "display_data"
    },
    {
     "name": "stdout",
     "output_type": "stream",
     "text": [
      "\n",
      "🌀 Run 4/5\n"
     ]
    },
    {
     "data": {
      "text/html": [
       "Tracking run with wandb version 0.19.9"
      ],
      "text/plain": [
       "<IPython.core.display.HTML object>"
      ]
     },
     "metadata": {},
     "output_type": "display_data"
    },
    {
     "data": {
      "text/html": [
       "Run data is saved locally in <code>/gpfs/home3/nwertheim/Master-Thesis/notebooks/wandb/run-20250516_112317-4tgbkxmi</code>"
      ],
      "text/plain": [
       "<IPython.core.display.HTML object>"
      ]
     },
     "metadata": {},
     "output_type": "display_data"
    },
    {
     "data": {
      "text/html": [
       "Syncing run <strong><a href='https://wandb.ai/noorwertheim/FCMAE-resnet-100/runs/4tgbkxmi' target=\"_blank\">resnet_4</a></strong> to <a href='https://wandb.ai/noorwertheim/FCMAE-resnet-100' target=\"_blank\">Weights & Biases</a> (<a href='https://wandb.me/developer-guide' target=\"_blank\">docs</a>)<br>"
      ],
      "text/plain": [
       "<IPython.core.display.HTML object>"
      ]
     },
     "metadata": {},
     "output_type": "display_data"
    },
    {
     "data": {
      "text/html": [
       " View project at <a href='https://wandb.ai/noorwertheim/FCMAE-resnet-100' target=\"_blank\">https://wandb.ai/noorwertheim/FCMAE-resnet-100</a>"
      ],
      "text/plain": [
       "<IPython.core.display.HTML object>"
      ]
     },
     "metadata": {},
     "output_type": "display_data"
    },
    {
     "data": {
      "text/html": [
       " View run at <a href='https://wandb.ai/noorwertheim/FCMAE-resnet-100/runs/4tgbkxmi' target=\"_blank\">https://wandb.ai/noorwertheim/FCMAE-resnet-100/runs/4tgbkxmi</a>"
      ],
      "text/plain": [
       "<IPython.core.display.HTML object>"
      ]
     },
     "metadata": {},
     "output_type": "display_data"
    },
    {
     "name": "stdout",
     "output_type": "stream",
     "text": [
      "Could not gather input dimensions\n",
      "WandbCallback was not able to prepare a DataLoader for logging prediction samples -> 'TensorDataset' object has no attribute 'items'\n"
     ]
    },
    {
     "data": {
      "text/html": [
       "\n",
       "<style>\n",
       "    /* Turns off some styling */\n",
       "    progress {\n",
       "        /* gets rid of default border in Firefox and Opera. */\n",
       "        border: none;\n",
       "        /* Needs to be in here for Safari polyfill so background images work as expected. */\n",
       "        background-size: auto;\n",
       "    }\n",
       "    progress:not([value]), progress:not([value])::-webkit-progress-bar {\n",
       "        background: repeating-linear-gradient(45deg, #7e7e7e, #7e7e7e 10px, #5c5c5c 10px, #5c5c5c 20px);\n",
       "    }\n",
       "    .progress-bar-interrupted, .progress-bar-interrupted::-webkit-progress-bar {\n",
       "        background: #F44336;\n",
       "    }\n",
       "</style>\n"
      ],
      "text/plain": [
       "<IPython.core.display.HTML object>"
      ]
     },
     "metadata": {},
     "output_type": "display_data"
    },
    {
     "data": {
      "text/html": [
       "<table border=\"1\" class=\"dataframe\">\n",
       "  <thead>\n",
       "    <tr style=\"text-align: left;\">\n",
       "      <th>epoch</th>\n",
       "      <th>train_loss</th>\n",
       "      <th>valid_loss</th>\n",
       "      <th>accuracy</th>\n",
       "      <th>time</th>\n",
       "    </tr>\n",
       "  </thead>\n",
       "  <tbody>\n",
       "    <tr>\n",
       "      <td>0</td>\n",
       "      <td>0.742157</td>\n",
       "      <td>0.851488</td>\n",
       "      <td>0.364062</td>\n",
       "      <td>00:04</td>\n",
       "    </tr>\n",
       "    <tr>\n",
       "      <td>1</td>\n",
       "      <td>0.753020</td>\n",
       "      <td>0.801015</td>\n",
       "      <td>0.361979</td>\n",
       "      <td>00:03</td>\n",
       "    </tr>\n",
       "    <tr>\n",
       "      <td>2</td>\n",
       "      <td>0.748525</td>\n",
       "      <td>0.835342</td>\n",
       "      <td>0.313021</td>\n",
       "      <td>00:03</td>\n",
       "    </tr>\n",
       "    <tr>\n",
       "      <td>3</td>\n",
       "      <td>0.761604</td>\n",
       "      <td>0.850328</td>\n",
       "      <td>0.339583</td>\n",
       "      <td>00:03</td>\n",
       "    </tr>\n",
       "    <tr>\n",
       "      <td>4</td>\n",
       "      <td>0.733214</td>\n",
       "      <td>0.821761</td>\n",
       "      <td>0.290625</td>\n",
       "      <td>00:03</td>\n",
       "    </tr>\n",
       "  </tbody>\n",
       "</table>"
      ],
      "text/plain": [
       "<IPython.core.display.HTML object>"
      ]
     },
     "metadata": {},
     "output_type": "display_data"
    },
    {
     "name": "stdout",
     "output_type": "stream",
     "text": [
      "Better model found at epoch 0 with valid_loss value: 0.8514881134033203.\n",
      "Better model found at epoch 1 with valid_loss value: 0.8010150194168091.\n",
      "No improvement since epoch 1: early stopping\n"
     ]
    },
    {
     "data": {
      "text/html": [
       "\n",
       "<style>\n",
       "    /* Turns off some styling */\n",
       "    progress {\n",
       "        /* gets rid of default border in Firefox and Opera. */\n",
       "        border: none;\n",
       "        /* Needs to be in here for Safari polyfill so background images work as expected. */\n",
       "        background-size: auto;\n",
       "    }\n",
       "    progress:not([value]), progress:not([value])::-webkit-progress-bar {\n",
       "        background: repeating-linear-gradient(45deg, #7e7e7e, #7e7e7e 10px, #5c5c5c 10px, #5c5c5c 20px);\n",
       "    }\n",
       "    .progress-bar-interrupted, .progress-bar-interrupted::-webkit-progress-bar {\n",
       "        background: #F44336;\n",
       "    }\n",
       "</style>\n"
      ],
      "text/plain": [
       "<IPython.core.display.HTML object>"
      ]
     },
     "metadata": {},
     "output_type": "display_data"
    },
    {
     "data": {
      "text/html": [],
      "text/plain": [
       "<IPython.core.display.HTML object>"
      ]
     },
     "metadata": {},
     "output_type": "display_data"
    },
    {
     "data": {
      "text/html": [],
      "text/plain": [
       "<IPython.core.display.HTML object>"
      ]
     },
     "metadata": {},
     "output_type": "display_data"
    },
    {
     "data": {
      "text/html": [
       "<br>    <style><br>        .wandb-row {<br>            display: flex;<br>            flex-direction: row;<br>            flex-wrap: wrap;<br>            justify-content: flex-start;<br>            width: 100%;<br>        }<br>        .wandb-col {<br>            display: flex;<br>            flex-direction: column;<br>            flex-basis: 100%;<br>            flex: 1;<br>            padding: 10px;<br>        }<br>    </style><br><div class=\"wandb-row\"><div class=\"wandb-col\"><h3>Run history:</h3><br/><table class=\"wandb\"><tr><td>accuracy</td><td>██▃▆▁</td></tr><tr><td>epoch</td><td>▁▁▁▁▁▂▂▂▂▂▂▃▃▃▃▃▃▃▃▃▃▄▄▄▄▅▅▅▅▅▅▆▆▇▇▇▇███</td></tr><tr><td>final_accuracy</td><td>▁</td></tr><tr><td>final_auc</td><td>▁</td></tr><tr><td>final_average_precision</td><td>▁</td></tr><tr><td>final_f1</td><td>▁</td></tr><tr><td>final_precision</td><td>▁</td></tr><tr><td>final_recall</td><td>▁</td></tr><tr><td>lr_0</td><td>▁▁▁▁▁▁▁▁▁▁▃▃▃▃▃▅▅▆▆▇████████████▇▇▇▇▇▆▆▆</td></tr><tr><td>mom_0</td><td>███▇▇▇▆▆▅▅▅▄▄▄▄▃▁▁▁▁▁▁▁▁▁▁▁▁▁▁▁▂▂▂▂▂▂▂▂▂</td></tr><tr><td>raw_loss</td><td>▂▆▇▄▃▅▆▆▂▄▄▃▆▃▄▅▅█▆▂▆▂▆▃▁▇▅▄▁▅▂▂▄▃▅▂▆▄▃▂</td></tr><tr><td>train_loss</td><td>▁▂▂▃▅▇▇▆▅▆▇▅▆▆▄▅▄▄▄▃▅▄▄▄▆▄▅▅▅▆▆▇█▅▆▅▅▅▇▅</td></tr><tr><td>train_samples_per_sec</td><td>▃▁▂▂▃▃▇▇▇▇▇██▆▇▇█▇▇▇███▇▇▇▇▇█▇▆▇██▇▇▇█▇▇</td></tr><tr><td>valid_loss</td><td>█▁▆█▄</td></tr><tr><td>wd_0</td><td>▁▁▁▁▁▁▁▁▁▁▁▁▁▁▁▁▁▁▁▁▁▁▁▁▁▁▁▁▁▁▁▁▁▁▁▁▁▁▁▁</td></tr></table><br/></div><div class=\"wandb-col\"><h3>Run summary:</h3><br/><table class=\"wandb\"><tr><td>accuracy</td><td>0.29063</td></tr><tr><td>epoch</td><td>5</td></tr><tr><td>final_accuracy</td><td>0.36198</td></tr><tr><td>final_auc</td><td>0.74055</td></tr><tr><td>final_average_precision</td><td>0.92579</td></tr><tr><td>final_f1</td><td>0.31982</td></tr><tr><td>final_precision</td><td>0.99654</td></tr><tr><td>final_recall</td><td>0.19048</td></tr><tr><td>lr_0</td><td>0.0</td></tr><tr><td>mom_0</td><td>0.87497</td></tr><tr><td>raw_loss</td><td>0.73117</td></tr><tr><td>train_loss</td><td>0.73321</td></tr><tr><td>train_samples_per_sec</td><td>2301.96792</td></tr><tr><td>valid_loss</td><td>0.82176</td></tr><tr><td>wd_0</td><td>0</td></tr></table><br/></div></div>"
      ],
      "text/plain": [
       "<IPython.core.display.HTML object>"
      ]
     },
     "metadata": {},
     "output_type": "display_data"
    },
    {
     "data": {
      "text/html": [
       " View run <strong style=\"color:#cdcd00\">resnet_4</strong> at: <a href='https://wandb.ai/noorwertheim/FCMAE-resnet-100/runs/4tgbkxmi' target=\"_blank\">https://wandb.ai/noorwertheim/FCMAE-resnet-100/runs/4tgbkxmi</a><br> View project at: <a href='https://wandb.ai/noorwertheim/FCMAE-resnet-100' target=\"_blank\">https://wandb.ai/noorwertheim/FCMAE-resnet-100</a><br>Synced 5 W&B file(s), 0 media file(s), 2 artifact file(s) and 0 other file(s)"
      ],
      "text/plain": [
       "<IPython.core.display.HTML object>"
      ]
     },
     "metadata": {},
     "output_type": "display_data"
    },
    {
     "data": {
      "text/html": [
       "Find logs at: <code>./wandb/run-20250516_112317-4tgbkxmi/logs</code>"
      ],
      "text/plain": [
       "<IPython.core.display.HTML object>"
      ]
     },
     "metadata": {},
     "output_type": "display_data"
    },
    {
     "name": "stdout",
     "output_type": "stream",
     "text": [
      "\n",
      "🌀 Run 5/5\n"
     ]
    },
    {
     "data": {
      "text/html": [
       "Tracking run with wandb version 0.19.9"
      ],
      "text/plain": [
       "<IPython.core.display.HTML object>"
      ]
     },
     "metadata": {},
     "output_type": "display_data"
    },
    {
     "data": {
      "text/html": [
       "Run data is saved locally in <code>/gpfs/home3/nwertheim/Master-Thesis/notebooks/wandb/run-20250516_112342-1m1hxh3u</code>"
      ],
      "text/plain": [
       "<IPython.core.display.HTML object>"
      ]
     },
     "metadata": {},
     "output_type": "display_data"
    },
    {
     "data": {
      "text/html": [
       "Syncing run <strong><a href='https://wandb.ai/noorwertheim/FCMAE-resnet-100/runs/1m1hxh3u' target=\"_blank\">resnet_5</a></strong> to <a href='https://wandb.ai/noorwertheim/FCMAE-resnet-100' target=\"_blank\">Weights & Biases</a> (<a href='https://wandb.me/developer-guide' target=\"_blank\">docs</a>)<br>"
      ],
      "text/plain": [
       "<IPython.core.display.HTML object>"
      ]
     },
     "metadata": {},
     "output_type": "display_data"
    },
    {
     "data": {
      "text/html": [
       " View project at <a href='https://wandb.ai/noorwertheim/FCMAE-resnet-100' target=\"_blank\">https://wandb.ai/noorwertheim/FCMAE-resnet-100</a>"
      ],
      "text/plain": [
       "<IPython.core.display.HTML object>"
      ]
     },
     "metadata": {},
     "output_type": "display_data"
    },
    {
     "data": {
      "text/html": [
       " View run at <a href='https://wandb.ai/noorwertheim/FCMAE-resnet-100/runs/1m1hxh3u' target=\"_blank\">https://wandb.ai/noorwertheim/FCMAE-resnet-100/runs/1m1hxh3u</a>"
      ],
      "text/plain": [
       "<IPython.core.display.HTML object>"
      ]
     },
     "metadata": {},
     "output_type": "display_data"
    },
    {
     "name": "stdout",
     "output_type": "stream",
     "text": [
      "Could not gather input dimensions\n",
      "WandbCallback was not able to prepare a DataLoader for logging prediction samples -> 'TensorDataset' object has no attribute 'items'\n"
     ]
    },
    {
     "data": {
      "text/html": [
       "\n",
       "<style>\n",
       "    /* Turns off some styling */\n",
       "    progress {\n",
       "        /* gets rid of default border in Firefox and Opera. */\n",
       "        border: none;\n",
       "        /* Needs to be in here for Safari polyfill so background images work as expected. */\n",
       "        background-size: auto;\n",
       "    }\n",
       "    progress:not([value]), progress:not([value])::-webkit-progress-bar {\n",
       "        background: repeating-linear-gradient(45deg, #7e7e7e, #7e7e7e 10px, #5c5c5c 10px, #5c5c5c 20px);\n",
       "    }\n",
       "    .progress-bar-interrupted, .progress-bar-interrupted::-webkit-progress-bar {\n",
       "        background: #F44336;\n",
       "    }\n",
       "</style>\n"
      ],
      "text/plain": [
       "<IPython.core.display.HTML object>"
      ]
     },
     "metadata": {},
     "output_type": "display_data"
    },
    {
     "data": {
      "text/html": [
       "<table border=\"1\" class=\"dataframe\">\n",
       "  <thead>\n",
       "    <tr style=\"text-align: left;\">\n",
       "      <th>epoch</th>\n",
       "      <th>train_loss</th>\n",
       "      <th>valid_loss</th>\n",
       "      <th>accuracy</th>\n",
       "      <th>time</th>\n",
       "    </tr>\n",
       "  </thead>\n",
       "  <tbody>\n",
       "    <tr>\n",
       "      <td>0</td>\n",
       "      <td>0.707437</td>\n",
       "      <td>0.665825</td>\n",
       "      <td>0.739062</td>\n",
       "      <td>00:04</td>\n",
       "    </tr>\n",
       "    <tr>\n",
       "      <td>1</td>\n",
       "      <td>0.706544</td>\n",
       "      <td>0.671976</td>\n",
       "      <td>0.648438</td>\n",
       "      <td>00:03</td>\n",
       "    </tr>\n",
       "    <tr>\n",
       "      <td>2</td>\n",
       "      <td>0.711127</td>\n",
       "      <td>0.673259</td>\n",
       "      <td>0.736979</td>\n",
       "      <td>00:03</td>\n",
       "    </tr>\n",
       "    <tr>\n",
       "      <td>3</td>\n",
       "      <td>0.709753</td>\n",
       "      <td>0.668815</td>\n",
       "      <td>0.697917</td>\n",
       "      <td>00:03</td>\n",
       "    </tr>\n",
       "  </tbody>\n",
       "</table>"
      ],
      "text/plain": [
       "<IPython.core.display.HTML object>"
      ]
     },
     "metadata": {},
     "output_type": "display_data"
    },
    {
     "name": "stdout",
     "output_type": "stream",
     "text": [
      "Better model found at epoch 0 with valid_loss value: 0.6658245325088501.\n",
      "No improvement since epoch 0: early stopping\n"
     ]
    },
    {
     "data": {
      "text/html": [
       "\n",
       "<style>\n",
       "    /* Turns off some styling */\n",
       "    progress {\n",
       "        /* gets rid of default border in Firefox and Opera. */\n",
       "        border: none;\n",
       "        /* Needs to be in here for Safari polyfill so background images work as expected. */\n",
       "        background-size: auto;\n",
       "    }\n",
       "    progress:not([value]), progress:not([value])::-webkit-progress-bar {\n",
       "        background: repeating-linear-gradient(45deg, #7e7e7e, #7e7e7e 10px, #5c5c5c 10px, #5c5c5c 20px);\n",
       "    }\n",
       "    .progress-bar-interrupted, .progress-bar-interrupted::-webkit-progress-bar {\n",
       "        background: #F44336;\n",
       "    }\n",
       "</style>\n"
      ],
      "text/plain": [
       "<IPython.core.display.HTML object>"
      ]
     },
     "metadata": {},
     "output_type": "display_data"
    },
    {
     "data": {
      "text/html": [],
      "text/plain": [
       "<IPython.core.display.HTML object>"
      ]
     },
     "metadata": {},
     "output_type": "display_data"
    },
    {
     "data": {
      "text/html": [],
      "text/plain": [
       "<IPython.core.display.HTML object>"
      ]
     },
     "metadata": {},
     "output_type": "display_data"
    },
    {
     "data": {
      "text/html": [
       "<br>    <style><br>        .wandb-row {<br>            display: flex;<br>            flex-direction: row;<br>            flex-wrap: wrap;<br>            justify-content: flex-start;<br>            width: 100%;<br>        }<br>        .wandb-col {<br>            display: flex;<br>            flex-direction: column;<br>            flex-basis: 100%;<br>            flex: 1;<br>            padding: 10px;<br>        }<br>    </style><br><div class=\"wandb-row\"><div class=\"wandb-col\"><h3>Run history:</h3><br/><table class=\"wandb\"><tr><td>accuracy</td><td>█▁█▅</td></tr><tr><td>epoch</td><td>▁▁▁▁▂▂▂▂▂▂▃▃▃▃▃▄▄▄▄▄▄▄▄▄▅▅▅▆▆▆▆▆▇▇▇▇▇███</td></tr><tr><td>final_accuracy</td><td>▁</td></tr><tr><td>final_auc</td><td>▁</td></tr><tr><td>final_average_precision</td><td>▁</td></tr><tr><td>final_f1</td><td>▁</td></tr><tr><td>final_precision</td><td>▁</td></tr><tr><td>final_recall</td><td>▁</td></tr><tr><td>lr_0</td><td>▁▁▁▂▂▄▄▄▄▅▅▆▆▆▆▇▇▇▇████████████████████▇</td></tr><tr><td>mom_0</td><td>██████▇▇▇▆▆▅▄▄▃▃▃▃▃▂▂▂▂▁▁▁▁▁▁▁▁▁▁▁▁▁▁▁▁▂</td></tr><tr><td>raw_loss</td><td>▇▄▆▅▆▆▄▄▇▅▆▇▅▄▄▃▇▆▄▄▂▅▅▆▇█▃▅▆▅▇▄▆▄▄▆▃▇█▁</td></tr><tr><td>train_loss</td><td>▂▁▃▅█▅▄▆▆▆▅▅▆▅▆▇▅▆▆▂▄▅▅▅▄▆▆▅▆▅▃▅▇▄▆▄▄▇▆▇</td></tr><tr><td>train_samples_per_sec</td><td>▂▂▂▂▁▁▁▁▇▇▇▇▇▇▇▇█▆▇▇▇▇▆▇▇▇▇▇▇▇▇█▇▇▇█▇█▇▇</td></tr><tr><td>valid_loss</td><td>▁▇█▄</td></tr><tr><td>wd_0</td><td>▁▁▁▁▁▁▁▁▁▁▁▁▁▁▁▁▁▁▁▁▁▁▁▁▁▁▁▁▁▁▁▁▁▁▁▁▁▁▁▁</td></tr></table><br/></div><div class=\"wandb-col\"><h3>Run summary:</h3><br/><table class=\"wandb\"><tr><td>accuracy</td><td>0.69792</td></tr><tr><td>epoch</td><td>4</td></tr><tr><td>final_accuracy</td><td>0.73906</td></tr><tr><td>final_auc</td><td>0.28186</td></tr><tr><td>final_average_precision</td><td>0.70213</td></tr><tr><td>final_f1</td><td>0.84941</td></tr><tr><td>final_precision</td><td>0.77851</td></tr><tr><td>final_recall</td><td>0.93452</td></tr><tr><td>lr_0</td><td>0.0</td></tr><tr><td>mom_0</td><td>0.85953</td></tr><tr><td>raw_loss</td><td>0.7245</td></tr><tr><td>train_loss</td><td>0.70975</td></tr><tr><td>train_samples_per_sec</td><td>2321.08272</td></tr><tr><td>valid_loss</td><td>0.66882</td></tr><tr><td>wd_0</td><td>0</td></tr></table><br/></div></div>"
      ],
      "text/plain": [
       "<IPython.core.display.HTML object>"
      ]
     },
     "metadata": {},
     "output_type": "display_data"
    },
    {
     "data": {
      "text/html": [
       " View run <strong style=\"color:#cdcd00\">resnet_5</strong> at: <a href='https://wandb.ai/noorwertheim/FCMAE-resnet-100/runs/1m1hxh3u' target=\"_blank\">https://wandb.ai/noorwertheim/FCMAE-resnet-100/runs/1m1hxh3u</a><br> View project at: <a href='https://wandb.ai/noorwertheim/FCMAE-resnet-100' target=\"_blank\">https://wandb.ai/noorwertheim/FCMAE-resnet-100</a><br>Synced 5 W&B file(s), 0 media file(s), 2 artifact file(s) and 0 other file(s)"
      ],
      "text/plain": [
       "<IPython.core.display.HTML object>"
      ]
     },
     "metadata": {},
     "output_type": "display_data"
    },
    {
     "data": {
      "text/html": [
       "Find logs at: <code>./wandb/run-20250516_112342-1m1hxh3u/logs</code>"
      ],
      "text/plain": [
       "<IPython.core.display.HTML object>"
      ]
     },
     "metadata": {},
     "output_type": "display_data"
    },
    {
     "name": "stdout",
     "output_type": "stream",
     "text": [
      "\n",
      "📊 Final Evaluation:\n",
      "Accuracy: 0.4860 ± 0.2320\n",
      "Precision: 0.8430 ± 0.0816\n",
      "Recall: 0.4648 ± 0.4165\n",
      "F1 Score: 0.4743 ± 0.3387\n",
      "AP: 0.7805 ± 0.0830\n",
      "AUC: 0.4759 ± 0.1706\n"
     ]
    },
    {
     "data": {
      "image/png": "[encoded data removed]",
      "text/plain": [
       "<Figure size 1000x500 with 1 Axes>"
      ]
     },
     "metadata": {},
     "output_type": "display_data"
    },
    {
     "data": {
      "image/png": "[encoded data removed]",
      "text/plain": [
       "<Figure size 1000x500 with 1 Axes>"
      ]
     },
     "metadata": {},
     "output_type": "display_data"
    },
    {
     "data": {
      "image/png": "[encoded data removed]",
      "text/plain": [
       "<Figure size 800x600 with 1 Axes>"
      ]
     },
     "metadata": {},
     "output_type": "display_data"
    }
   ],
   "source": [
    "import numpy as np\n",
    "import torch\n",
    "from sklearn.metrics import (\n",
    "    accuracy_score, precision_score, recall_score,\n",
    "    f1_score, average_precision_score, roc_auc_score,\n",
    "    confusion_matrix\n",
    ")\n",
    "import matplotlib.pyplot as plt\n",
    "import seaborn as sns\n",
    "import pandas as pd\n",
    "from fastai.learner import Learner\n",
    "from fastai.optimizer import SGD\n",
    "from fastai.metrics import accuracy\n",
    "from tsai.data.core import DataLoaders\n",
    "from fastai.callback.wandb import WandbCallback\n",
    "from fastai.callback.tracker import SaveModelCallback, EarlyStoppingCallback\n",
    "\n",
    "\n",
    "class FCMAEClassifier(nn.Module):\n",
    "    def __init__(self, encoder):\n",
    "        super().__init__()\n",
    "        self.encoder = encoder\n",
    "        self.classifier = ResNet(input_dimension, 2)  \n",
    "\n",
    "    def forward(self, x):\n",
    "        with torch.no_grad():  # freeze encoder\n",
    "            x = self.encoder(x)\n",
    "        return self.classifier(x)\n",
    "\n",
    "# ----------------------------- Utility Functions -----------------------------\n",
    "def seed_everything(seed):\n",
    "    import random, os\n",
    "    random.seed(seed)\n",
    "    np.random.seed(seed)\n",
    "    torch.manual_seed(seed)\n",
    "    torch.cuda.manual_seed_all(seed)\n",
    "\n",
    "\n",
    "# ----------------------------- Experiment Setup -----------------------------\n",
    "num_epochs = 10\n",
    "num_runs = 5\n",
    "device = torch.device(\"cuda\" if torch.cuda.is_available() else \"cpu\")\n",
    "\n",
    "all_train_losses = []\n",
    "all_valid_losses = []\n",
    "all_metrics = []\n",
    "\n",
    "best_ap = -1\n",
    "best_preds = None\n",
    "best_targs = None\n",
    "\n",
    "all_pred_labels = []\n",
    "all_pred_probs = []\n",
    "\n",
    "loss_func = torch.nn.CrossEntropyLoss(weight=class_weights_tensor) \n",
    "\n",
    "\n",
    "\n",
    "for run in range(num_runs):\n",
    "    print(f\"\\n🌀 Run {run+1}/{num_runs}\")\n",
    "    wandb.init(\n",
    "        project=f\"FCMAE-resnet-{data_subset}\",\n",
    "        name=f\"resnet_{run+1}\",\n",
    "        config={\n",
    "            \"architecture\": \"FCMAE ResNet\",\n",
    "            \"epochs\": num_epochs,\n",
    "            \"batch_size\": batch_size,\n",
    "            \"learning_rate\": learning_rate,\n",
    "            \"run\": run + 1\n",
    "        }\n",
    "    )\n",
    "    seed_everything(run)\n",
    "\n",
    "    model = FCMAEClassifier(encoder).to(device)\n",
    "\n",
    "    learn = Learner(\n",
    "        dls,\n",
    "        model,\n",
    "        loss_func=loss_func,\n",
    "        opt_func=opt_func,\n",
    "        metrics=accuracy,\n",
    "        cbs=[\n",
    "            EarlyStoppingCallback(monitor='valid_loss', patience=3),\n",
    "            SaveModelCallback(monitor='valid_loss', fname=f'best_fcmae_resnet_run_{run}'),\n",
    "            WandbCallback(log='all', log_model=True, log_preds=True)\n",
    "        ]\n",
    "    )\n",
    "    learn.model.to(device)\n",
    "\n",
    "    # learn.fit_one_cycle(num_epochs, learning_rate, wd=1e-2)\n",
    "    # no weight decay\n",
    "    learn.fit_one_cycle(num_epochs, learning_rate)\n",
    "\n",
    "\n",
    "    # Record losses\n",
    "    losses = np.array(learn.recorder.losses)\n",
    "    iters_per_epoch = len(dls.train)\n",
    "    train_loss = losses[::2][:num_epochs]\n",
    "    valid_loss = losses[1::2][:num_epochs]\n",
    "    all_train_losses.append(train_loss)\n",
    "    all_valid_losses.append(valid_loss)\n",
    "\n",
    "    # Predictions\n",
    "    preds, targs = learn.get_preds(dl=dls.valid)\n",
    "    pred_labels = preds.argmax(dim=1)\n",
    "    pred_probs = preds[:, 1].cpu().numpy()\n",
    "    true_labels = targs.cpu().numpy()\n",
    "\n",
    "    all_pred_labels.append(pred_labels.cpu().numpy())\n",
    "    all_pred_probs.append(pred_probs)\n",
    "\n",
    "    # Evaluation metrics\n",
    "    acc = accuracy_score(true_labels, pred_labels)\n",
    "    prec = precision_score(true_labels, pred_labels, zero_division=0)\n",
    "    rec = recall_score(true_labels, pred_labels, zero_division=0)\n",
    "    f1 = f1_score(true_labels, pred_labels, zero_division=0)\n",
    "    ap = average_precision_score(true_labels, pred_probs)\n",
    "    auc = roc_auc_score(true_labels, pred_probs)\n",
    "    all_metrics.append([acc, prec, rec, f1, ap, auc])\n",
    "\n",
    "    with open(results_csv_path, mode=\"a\", newline=\"\") as file:\n",
    "        writer = csv.writer(file)\n",
    "        writer.writerow([run + 1, data_subset, acc, prec, rec, f1, ap, auc])\n",
    "\n",
    "\n",
    "    wandb.log({\n",
    "        \"final_accuracy\": acc,\n",
    "        \"final_precision\": prec,\n",
    "        \"final_recall\": rec,\n",
    "        \"final_f1\": f1,\n",
    "        \"final_average_precision\": ap,\n",
    "        \"final_auc\": auc\n",
    "    })\n",
    "    wandb.finish()\n",
    "\n",
    "    if ap > best_ap:\n",
    "        best_ap = ap\n",
    "        best_preds = preds\n",
    "        best_targs = true_labels\n",
    "\n",
    "# ----------------------------- Post-Processing -----------------------------\n",
    "all_train_losses = np.stack(all_train_losses)\n",
    "all_valid_losses = np.stack(all_valid_losses)\n",
    "all_metrics = np.stack(all_metrics)\n",
    "\n",
    "# Average + std metrics\n",
    "metric_names = ['Accuracy', 'Precision', 'Recall', 'F1 Score', 'AP', 'AUC']\n",
    "mean_metrics = all_metrics.mean(axis=0)\n",
    "std_metrics = all_metrics.std(axis=0)\n",
    "\n",
    "print(\"\\n📊 Final Evaluation:\")\n",
    "for name, mean, std in zip(metric_names, mean_metrics, std_metrics):\n",
    "    print(f\"{name}: {mean:.4f} ± {std:.4f}\")\n",
    "\n",
    "# Save predictions\n",
    "pred_labels = best_preds.argmax(dim=1).cpu().numpy()\n",
    "pred_probs = torch.softmax(best_preds, dim=1)[:, 1].cpu().numpy()\n",
    "\n",
    "# Assuming `test_meta` has the record_name and window_index\n",
    "window_ids = [entry['record_name'] + '-' + str(entry['window_index']) for entry in test_meta]\n",
    "final_df = pd.DataFrame({\n",
    "    'window_id': window_ids,\n",
    "    'best_pred_label': pred_labels,\n",
    "    'best_pred_prob': pred_probs,\n",
    "    'target': best_targs\n",
    "})\n",
    "\n",
    "for run_idx, (labels, probs) in enumerate(zip(all_pred_labels, all_pred_probs), start=1):\n",
    "    final_df[f'pred_label{run_idx}'] = labels\n",
    "    final_df[f'pred_prob{run_idx}'] = probs\n",
    "\n",
    "final_df.to_csv(\"results_FCMAE_resnet_ADAM.csv\", index=False)\n",
    "\n",
    "# ----------------------------- Plot Loss Curves -----------------------------\n",
    "epochs = np.arange(1, num_epochs + 1)\n",
    "plt.figure(figsize=(10, 5))\n",
    "\n",
    "mean_train = all_train_losses.mean(axis=0)\n",
    "std_train = all_train_losses.std(axis=0)\n",
    "plt.plot(epochs, mean_train, label='Train Loss')\n",
    "plt.fill_between(epochs, mean_train - std_train, mean_train + std_train, alpha=0.3)\n",
    "\n",
    "mean_valid = all_valid_losses.mean(axis=0)\n",
    "std_valid = all_valid_losses.std(axis=0)\n",
    "plt.plot(epochs, mean_valid, label='Valid Loss')\n",
    "plt.fill_between(epochs, mean_valid - std_valid, mean_valid + std_valid, alpha=0.3)\n",
    "\n",
    "plt.xlabel('Epoch')\n",
    "plt.ylabel('Loss')\n",
    "plt.title('Average Loss Curves Over Five Runs')\n",
    "plt.legend()\n",
    "plt.grid(True)\n",
    "plt.tight_layout()\n",
    "plt.show()\n",
    "\n",
    "# ----------------------------- Plot Metrics -----------------------------\n",
    "plt.figure(figsize=(10, 5))\n",
    "plt.bar(metric_names, mean_metrics, yerr=std_metrics, capsize=5)\n",
    "plt.title('Average Performance Over Five Runs')\n",
    "plt.ylabel('Score')\n",
    "plt.ylim(0, 1)\n",
    "plt.grid(axis='y')\n",
    "plt.tight_layout()\n",
    "plt.show()\n",
    "\n",
    "# ----------------------------- Confusion Matrix -----------------------------\n",
    "cm = confusion_matrix(best_targs, pred_labels)\n",
    "plt.figure(figsize=(8, 6))\n",
    "sns.heatmap(cm, annot=True, fmt=\"d\", cmap=\"Blues\", cbar=False,\n",
    "            xticklabels=['Class 0', 'Class 1'], yticklabels=['Class 0', 'Class 1'])\n",
    "plt.title('Best Performing Model Confusion Matrix')\n",
    "plt.xlabel('Predicted Label')\n",
    "plt.ylabel('True Label')\n",
    "plt.show()\n"
   ]
  },
  {
   "cell_type": "code",
   "execution_count": 47,
   "metadata": {},
   "outputs": [
    {
     "data": {
      "image/png": "[encoded data removed]",
      "text/plain": [
       "<Figure size 1000x500 with 1 Axes>"
      ]
     },
     "metadata": {},
     "output_type": "display_data"
    }
   ],
   "source": [
    "epochs = np.arange(1, num_epochs + 1)\n",
    "plt.figure(figsize=(10, 5))\n",
    "\n",
    "mean_train = all_train_losses.mean(axis=0)\n",
    "std_train = all_train_losses.std(axis=0)\n",
    "plt.plot(epochs, mean_train, label='Train Loss')\n",
    "plt.fill_between(epochs, mean_train - std_train, mean_train + std_train, alpha=0.3)\n",
    "\n",
    "mean_valid = all_valid_losses.mean(axis=0)\n",
    "std_valid = all_valid_losses.std(axis=0)\n",
    "plt.plot(epochs, mean_valid, label='Valid Loss')\n",
    "plt.fill_between(epochs, mean_valid - std_valid, mean_valid + std_valid, alpha=0.3)\n",
    "\n",
    "plt.xlabel('Epoch')\n",
    "plt.ylabel('Loss')\n",
    "plt.title('Average Loss Curves Over Five Runs')\n",
    "plt.legend()\n",
    "plt.grid(True)\n",
    "plt.tight_layout()\n",
    "plt.show()"
   ]
  }
 ],
 "metadata": {
  "kernelspec": {
   "display_name": "base",
   "language": "python",
   "name": "python3"
  },
  "language_info": {
   "codemirror_mode": {
    "name": "ipython",
    "version": 3
   },
   "file_extension": ".py",
   "mimetype": "text/x-python",
   "name": "python",
   "nbconvert_exporter": "python",
   "pygments_lexer": "ipython3",
   "version": "3.12.9"
  }
 },
 "nbformat": 4,
 "nbformat_minor": 2
}
