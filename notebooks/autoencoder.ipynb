{
 "cells": [
  {
   "cell_type": "code",
   "execution_count": 8,
   "metadata": {},
   "outputs": [],
   "source": [
    "import os\n",
    "import numpy as np\n",
    "import torch\n",
    "import torch.nn as nn\n",
    "import torch.optim as optim\n",
    "import sys\n",
    "sys.path.insert(1, '../src/')\n",
    "from config import raw_data_path, univariate_data_path, processed_data_path, models_path"
   ]
  },
  {
   "cell_type": "code",
   "execution_count": 9,
   "metadata": {},
   "outputs": [
    {
     "name": "stdout",
     "output_type": "stream",
     "text": [
      "(666,)\n"
     ]
    }
   ],
   "source": [
    "data_file = os.path.join(univariate_data_path, 'merged_univariate.npy')\n",
    "data = np.load(data_file, allow_pickle=True)\n",
    "print(data.shape)\n",
    "\n",
    "# Check for NaN or Inf values in signals\n",
    "for sample in data:\n",
    "    if np.isnan(sample['signal']).any() or np.isinf(sample['signal']).any():\n",
    "        print(f\"NaN or Inf detected in {sample['record_name']}\")"
   ]
  },
  {
   "cell_type": "code",
   "execution_count": 10,
   "metadata": {},
   "outputs": [
    {
     "name": "stdout",
     "output_type": "stream",
     "text": [
      "(454061, 500)\n"
     ]
    }
   ],
   "source": [
    "# Function to create sliding windows from a signal\n",
    "def create_windows(sequence, window_size, step_size):\n",
    "    windows = [sequence[i:i+window_size] for i in range(0, len(sequence) - window_size + 1, step_size)]\n",
    "    return np.array(windows)\n",
    "\n",
    "# Set windowing parameters\n",
    "window_size = 500  # Length of each window\n",
    "step_size = 250    # Step size for windowing (overlap)\n",
    "\n",
    "# Process each record and apply windowing\n",
    "all_windows = []\n",
    "\n",
    "for record in data:\n",
    "    signal = record['signal']  # Extract the signal from the record\n",
    "    \n",
    "    # Create windows from the signal\n",
    "    windows = create_windows(signal, window_size, step_size)\n",
    "    all_windows.append(windows)\n",
    "\n",
    "# Convert the list of windows into a numpy array\n",
    "all_windows = np.concatenate(all_windows, axis=0)\n",
    "\n",
    "print(all_windows.shape)  # Should print (num_windows, window_size)\n"
   ]
  },
  {
   "cell_type": "code",
   "execution_count": 11,
   "metadata": {},
   "outputs": [
    {
     "name": "stdout",
     "output_type": "stream",
     "text": [
      "(454061, 500)\n"
     ]
    }
   ],
   "source": [
    "# Function to mask a percentage of data in each window\n",
    "def mask_data(windows, mask_percentage=0.2):\n",
    "    masked_windows = windows.copy()\n",
    "    num_masked = int(mask_percentage * windows.shape[1])  # Number of values to mask per window\n",
    "    for i in range(windows.shape[0]):\n",
    "        mask_indices = np.random.choice(windows.shape[1], num_masked, replace=False)\n",
    "        masked_windows[i, mask_indices] = np.nan  # Mask with NaN (or 0, depending on choice)\n",
    "    return masked_windows\n",
    "\n",
    "# Mask 20% of data in each window\n",
    "masked_windows = mask_data(all_windows, mask_percentage=0.2)\n",
    "\n",
    "print(masked_windows.shape)  # Should be same as all_windows: (num_windows, window_size)\n",
    "masked_windows = np.nan_to_num(masked_windows, nan=0.0)\n"
   ]
  },
  {
   "cell_type": "code",
   "execution_count": 12,
   "metadata": {},
   "outputs": [
    {
     "name": "stdout",
     "output_type": "stream",
     "text": [
      "Checking masked_windows...\n",
      "NaN values: 0\n",
      "Inf values: 0\n",
      "Checking all_windows...\n",
      "NaN values: 0\n",
      "Inf values: 0\n"
     ]
    }
   ],
   "source": [
    "import numpy as np\n",
    "\n",
    "print(\"Checking masked_windows...\")\n",
    "print(\"NaN values:\", np.isnan(masked_windows).sum())\n",
    "print(\"Inf values:\", np.isinf(masked_windows).sum())\n",
    "\n",
    "print(\"Checking all_windows...\")\n",
    "print(\"NaN values:\", np.isnan(all_windows).sum())\n",
    "print(\"Inf values:\", np.isinf(all_windows).sum())\n"
   ]
  },
  {
   "cell_type": "code",
   "execution_count": 13,
   "metadata": {},
   "outputs": [
    {
     "name": "stdout",
     "output_type": "stream",
     "text": [
      "Epoch 1/20\n",
      "\u001b[1m6386/6386\u001b[0m \u001b[32m━━━━━━━━━━━━━━━━━━━━\u001b[0m\u001b[37m\u001b[0m \u001b[1m13s\u001b[0m 2ms/step - loss: 1.3770 - val_loss: 1.2364\n",
      "Epoch 2/20\n",
      "\u001b[1m6386/6386\u001b[0m \u001b[32m━━━━━━━━━━━━━━━━━━━━\u001b[0m\u001b[37m\u001b[0m \u001b[1m12s\u001b[0m 2ms/step - loss: 0.0862 - val_loss: 0.4112\n",
      "Epoch 3/20\n",
      "\u001b[1m6386/6386\u001b[0m \u001b[32m━━━━━━━━━━━━━━━━━━━━\u001b[0m\u001b[37m\u001b[0m \u001b[1m12s\u001b[0m 2ms/step - loss: 0.0488 - val_loss: 0.2221\n",
      "Epoch 4/20\n",
      "\u001b[1m6386/6386\u001b[0m \u001b[32m━━━━━━━━━━━━━━━━━━━━\u001b[0m\u001b[37m\u001b[0m \u001b[1m13s\u001b[0m 2ms/step - loss: 0.0363 - val_loss: 0.1632\n",
      "Epoch 5/20\n",
      "\u001b[1m6386/6386\u001b[0m \u001b[32m━━━━━━━━━━━━━━━━━━━━\u001b[0m\u001b[37m\u001b[0m \u001b[1m12s\u001b[0m 2ms/step - loss: 0.0329 - val_loss: 0.1408\n",
      "Epoch 6/20\n",
      "\u001b[1m6386/6386\u001b[0m \u001b[32m━━━━━━━━━━━━━━━━━━━━\u001b[0m\u001b[37m\u001b[0m \u001b[1m12s\u001b[0m 2ms/step - loss: 0.0296 - val_loss: 0.1212\n",
      "Epoch 7/20\n",
      "\u001b[1m6386/6386\u001b[0m \u001b[32m━━━━━━━━━━━━━━━━━━━━\u001b[0m\u001b[37m\u001b[0m \u001b[1m12s\u001b[0m 2ms/step - loss: 0.0275 - val_loss: 0.1083\n",
      "Epoch 8/20\n",
      "\u001b[1m6386/6386\u001b[0m \u001b[32m━━━━━━━━━━━━━━━━━━━━\u001b[0m\u001b[37m\u001b[0m \u001b[1m12s\u001b[0m 2ms/step - loss: 0.0263 - val_loss: 0.0902\n",
      "Epoch 9/20\n",
      "\u001b[1m6386/6386\u001b[0m \u001b[32m━━━━━━━━━━━━━━━━━━━━\u001b[0m\u001b[37m\u001b[0m \u001b[1m12s\u001b[0m 2ms/step - loss: 0.0250 - val_loss: 0.0832\n",
      "Epoch 10/20\n",
      "\u001b[1m6386/6386\u001b[0m \u001b[32m━━━━━━━━━━━━━━━━━━━━\u001b[0m\u001b[37m\u001b[0m \u001b[1m12s\u001b[0m 2ms/step - loss: 0.0242 - val_loss: 0.0803\n",
      "Epoch 11/20\n",
      "\u001b[1m6386/6386\u001b[0m \u001b[32m━━━━━━━━━━━━━━━━━━━━\u001b[0m\u001b[37m\u001b[0m \u001b[1m12s\u001b[0m 2ms/step - loss: 0.0236 - val_loss: 0.0734\n",
      "Epoch 12/20\n",
      "\u001b[1m6386/6386\u001b[0m \u001b[32m━━━━━━━━━━━━━━━━━━━━\u001b[0m\u001b[37m\u001b[0m \u001b[1m12s\u001b[0m 2ms/step - loss: 0.0228 - val_loss: 0.0717\n",
      "Epoch 13/20\n",
      "\u001b[1m6386/6386\u001b[0m \u001b[32m━━━━━━━━━━━━━━━━━━━━\u001b[0m\u001b[37m\u001b[0m \u001b[1m12s\u001b[0m 2ms/step - loss: 0.0224 - val_loss: 0.0642\n",
      "Epoch 14/20\n",
      "\u001b[1m6386/6386\u001b[0m \u001b[32m━━━━━━━━━━━━━━━━━━━━\u001b[0m\u001b[37m\u001b[0m \u001b[1m12s\u001b[0m 2ms/step - loss: 0.0218 - val_loss: 0.0625\n",
      "Epoch 15/20\n",
      "\u001b[1m6386/6386\u001b[0m \u001b[32m━━━━━━━━━━━━━━━━━━━━\u001b[0m\u001b[37m\u001b[0m \u001b[1m12s\u001b[0m 2ms/step - loss: 0.0217 - val_loss: 0.0603\n",
      "Epoch 16/20\n",
      "\u001b[1m6386/6386\u001b[0m \u001b[32m━━━━━━━━━━━━━━━━━━━━\u001b[0m\u001b[37m\u001b[0m \u001b[1m12s\u001b[0m 2ms/step - loss: 0.0215 - val_loss: 0.0670\n",
      "Epoch 17/20\n",
      "\u001b[1m6386/6386\u001b[0m \u001b[32m━━━━━━━━━━━━━━━━━━━━\u001b[0m\u001b[37m\u001b[0m \u001b[1m12s\u001b[0m 2ms/step - loss: 0.0209 - val_loss: 0.0565\n",
      "Epoch 18/20\n",
      "\u001b[1m6386/6386\u001b[0m \u001b[32m━━━━━━━━━━━━━━━━━━━━\u001b[0m\u001b[37m\u001b[0m \u001b[1m12s\u001b[0m 2ms/step - loss: 0.0206 - val_loss: 0.0552\n",
      "Epoch 19/20\n",
      "\u001b[1m6386/6386\u001b[0m \u001b[32m━━━━━━━━━━━━━━━━━━━━\u001b[0m\u001b[37m\u001b[0m \u001b[1m12s\u001b[0m 2ms/step - loss: 0.0203 - val_loss: 0.0551\n",
      "Epoch 20/20\n",
      "\u001b[1m6386/6386\u001b[0m \u001b[32m━━━━━━━━━━━━━━━━━━━━\u001b[0m\u001b[37m\u001b[0m \u001b[1m12s\u001b[0m 2ms/step - loss: 0.0205 - val_loss: 0.0526\n"
     ]
    },
    {
     "data": {
      "image/png": "[encoded data removed]",
      "text/plain": [
       "<Figure size 800x500 with 1 Axes>"
      ]
     },
     "metadata": {},
     "output_type": "display_data"
    }
   ],
   "source": [
    "import tensorflow as tf\n",
    "from tensorflow.keras import layers, models\n",
    "import matplotlib.pyplot as plt\n",
    "\n",
    "class MaskedAutoencoder(tf.keras.Model):\n",
    "    def __init__(self, input_dim):\n",
    "        super(MaskedAutoencoder, self).__init__()\n",
    "\n",
    "        # Encoder\n",
    "        self.encoder = models.Sequential([\n",
    "            layers.Dense(128),\n",
    "            layers.LeakyReLU(alpha=0.01),\n",
    "            layers.Dense(64),\n",
    "            layers.LeakyReLU(alpha=0.01),\n",
    "        ])\n",
    "\n",
    "        # Decoder\n",
    "        self.decoder = models.Sequential([\n",
    "            layers.Dense(128),\n",
    "            layers.LeakyReLU(alpha=0.01),\n",
    "            layers.Dense(input_dim, activation='linear')  # Reconstruct original input\n",
    "        ])\n",
    "\n",
    "    def call(self, inputs):\n",
    "        encoded = self.encoder(inputs)\n",
    "        decoded = self.decoder(encoded)\n",
    "        return decoded\n",
    "\n",
    "# Set input shape\n",
    "input_dim = 500  # Each window has 500 elements\n",
    "autoencoder = MaskedAutoencoder(input_dim)\n",
    "\n",
    "# Use Adam optimizer with lower learning rate and gradient clipping\n",
    "optimizer = tf.keras.optimizers.Adam(learning_rate=1e-4, clipnorm=1.0)\n",
    "\n",
    "autoencoder.compile(optimizer=optimizer, loss='mse')\n",
    "\n",
    "# Train the model and store history\n",
    "history = autoencoder.fit(masked_windows, all_windows, epochs=20, batch_size=64, validation_split=0.1)\n",
    "\n",
    "# Plot loss per epoch\n",
    "plt.figure(figsize=(8, 5))\n",
    "plt.plot(history.history['loss'], label='Training Loss')\n",
    "plt.plot(history.history['val_loss'], label='Validation Loss', linestyle='dashed')\n",
    "plt.xlabel('Epoch')\n",
    "plt.ylabel('Loss')\n",
    "plt.title('Autoencoder Training Loss per Epoch')\n",
    "plt.legend()\n",
    "plt.grid()\n",
    "plt.show()\n",
    "# Save the encoder model\n"
   ]
  },
  {
   "cell_type": "code",
   "execution_count": 14,
   "metadata": {},
   "outputs": [
    {
     "name": "stdout",
     "output_type": "stream",
     "text": [
      "Saved encoder!\n"
     ]
    }
   ],
   "source": [
    "path = os.path.join(models_path, 'encoder_model.keras')\n",
    "autoencoder.encoder.save(path)  # Saves in Keras format\n",
    "print('Saved encoder!')"
   ]
  },
  {
   "cell_type": "code",
   "execution_count": null,
   "metadata": {},
   "outputs": [],
   "source": []
  }
 ],
 "metadata": {
  "kernelspec": {
   "display_name": "Python 3",
   "language": "python",
   "name": "python3"
  },
  "language_info": {
   "codemirror_mode": {
    "name": "ipython",
    "version": 3
   },
   "file_extension": ".py",
   "mimetype": "text/x-python",
   "name": "python",
   "nbconvert_exporter": "python",
   "pygments_lexer": "ipython3",
   "version": "3.11.7"
  }
 },
 "nbformat": 4,
 "nbformat_minor": 2
}
