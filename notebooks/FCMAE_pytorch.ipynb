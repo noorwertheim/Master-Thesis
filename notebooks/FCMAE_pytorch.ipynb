{
 "cells": [
  {
   "cell_type": "code",
   "execution_count": 2,
   "metadata": {},
   "outputs": [
    {
     "name": "stdout",
     "output_type": "stream",
     "text": [
      "/bin/python3.11\n"
     ]
    },
    {
     "name": "stderr",
     "output_type": "stream",
     "text": [
      "2025-03-28 15:29:08.473273: I tensorflow/core/util/port.cc:153] oneDNN custom operations are on. You may see slightly different numerical results due to floating-point round-off errors from different computation orders. To turn them off, set the environment variable `TF_ENABLE_ONEDNN_OPTS=0`.\n",
      "2025-03-28 15:29:08.486200: E external/local_xla/xla/stream_executor/cuda/cuda_fft.cc:477] Unable to register cuFFT factory: Attempting to register factory for plugin cuFFT when one has already been registered\n",
      "WARNING: All log messages before absl::InitializeLog() is called are written to STDERR\n",
      "E0000 00:00:1743172148.501042 2706650 cuda_dnn.cc:8310] Unable to register cuDNN factory: Attempting to register factory for plugin cuDNN when one has already been registered\n",
      "E0000 00:00:1743172148.505551 2706650 cuda_blas.cc:1418] Unable to register cuBLAS factory: Attempting to register factory for plugin cuBLAS when one has already been registered\n",
      "2025-03-28 15:29:08.521784: I tensorflow/core/platform/cpu_feature_guard.cc:210] This TensorFlow binary is optimized to use available CPU instructions in performance-critical operations.\n",
      "To enable the following instructions: AVX2 AVX512F AVX512_VNNI AVX512_BF16 FMA, in other operations, rebuild TensorFlow with the appropriate compiler flags.\n"
     ]
    }
   ],
   "source": [
    "import os\n",
    "import numpy as np\n",
    "import torch\n",
    "import torch.nn as nn\n",
    "import torch.optim as optim\n",
    "import sys\n",
    "print(sys.executable)\n",
    "sys.path.insert(1, '../src/')\n",
    "from config import raw_data_path, univariate_data_path, processed_data_path, models_path\n",
    "from tensorflow.keras import layers, models\n",
    "from skopt import gp_minimize\n",
    "from skopt.space import Real, Integer, Categorical\n",
    "from skopt.utils import use_named_args\n",
    "import tensorflow as tf\n",
    "from skopt import gp_minimize\n",
    "from skopt.space import Real, Integer\n",
    "from skopt.utils import use_named_args\n",
    "import matplotlib.pyplot as plt\n"
   ]
  },
  {
   "cell_type": "code",
   "execution_count": 3,
   "metadata": {},
   "outputs": [
    {
     "name": "stdout",
     "output_type": "stream",
     "text": [
      "(666,)\n"
     ]
    }
   ],
   "source": [
    "data_file = os.path.join(univariate_data_path, 'merged_univariate.npy')\n",
    "data = np.load(data_file, allow_pickle=True)\n",
    "print(data.shape)\n",
    "\n",
    "# Check for NaN or Inf values in signals\n",
    "for sample in data:\n",
    "    if np.isnan(sample['signal']).any() or np.isinf(sample['signal']).any():\n",
    "        print(f\"NaN or Inf detected in {sample['record_name']}\")"
   ]
  },
  {
   "cell_type": "code",
   "execution_count": 4,
   "metadata": {},
   "outputs": [
    {
     "name": "stdout",
     "output_type": "stream",
     "text": [
      "Processed window shape: (454061, 500, 1)\n"
     ]
    }
   ],
   "source": [
    "# Masking function using patch-based masking\n",
    "def mask_data(x, mask_ratio=0.5, patch_size=8):\n",
    "    \"\"\" Apply patch-based masking to 1D signals \"\"\"\n",
    "    x_masked = np.copy(x)\n",
    "    num_patches = x.shape[1] // patch_size  # Number of patches\n",
    "    mask = np.random.rand(num_patches) < mask_ratio  # Randomly mask patches\n",
    "    for i in range(num_patches):\n",
    "        if mask[i]:\n",
    "            x_masked[:, i * patch_size:(i + 1) * patch_size, :] = 0  # Zero out patches\n",
    "    return x_masked\n",
    "\n",
    "# Create windows from the data\n",
    "def create_windows(sequence, window_size, step_size):\n",
    "    windows = [sequence[i:i+window_size] for i in range(0, len(sequence) - window_size + 1, step_size)]\n",
    "    return np.array(windows)\n",
    "\n",
    "# Set windowing parameters\n",
    "window_size = 500  \n",
    "step_size = 250    \n",
    "\n",
    "# Assuming `data` is a list of dictionaries with signal data\n",
    "# Apply windowing to all records\n",
    "all_windows = [create_windows(record['signal'], window_size, step_size) for record in data]\n",
    "all_windows = np.concatenate(all_windows, axis=0)\n",
    "\n",
    "# Reshape for Conv1D (batch_size, time_steps, channels)\n",
    "all_windows = np.expand_dims(all_windows, axis=-1)  \n",
    "print(f\"Processed window shape: {all_windows.shape}\")"
   ]
  },
  {
   "cell_type": "code",
   "execution_count": 8,
   "metadata": {},
   "outputs": [
    {
     "name": "stdout",
     "output_type": "stream",
     "text": [
      "Epoch 1/1, Train Loss: 8.807820767206236, Val Loss: 8.608449170419748\n",
      "Saved encoder model!\n"
     ]
    }
   ],
   "source": [
    "import torch\n",
    "import torch.nn as nn\n",
    "import torch.optim as optim\n",
    "import numpy as np\n",
    "from sklearn.model_selection import train_test_split\n",
    "import torch\n",
    "import torch.nn as nn\n",
    "import torch.optim as optim\n",
    "from torch.utils.data import DataLoader, TensorDataset\n",
    "from sklearn.model_selection import train_test_split\n",
    "import numpy as np\n",
    "\n",
    "class FullyConvolutionalMaskedAutoencoder(nn.Module):\n",
    "    def __init__(self, input_channels=1, num_layers=3, filters=[64, 32, 16]):\n",
    "        super().__init__()\n",
    "        self.encoder = self.build_encoder(input_channels, num_layers, filters)\n",
    "        self.decoder = self.build_decoder(input_channels, num_layers, filters)\n",
    "    \n",
    "    def build_encoder(self, input_channels, num_layers, filters):\n",
    "        layers = []\n",
    "        in_channels = input_channels\n",
    "        for i in range(num_layers):\n",
    "            layers.append(nn.Conv1d(in_channels, filters[i], kernel_size=3, padding=1))\n",
    "            layers.append(nn.ReLU())\n",
    "            if i < num_layers - 1:\n",
    "                layers.append(nn.MaxPool1d(kernel_size=2, stride=2))\n",
    "            in_channels = filters[i]\n",
    "        return nn.Sequential(*layers)\n",
    "    \n",
    "    def build_decoder(self, input_channels, num_layers, filters):\n",
    "        layers = []\n",
    "        in_channels = filters[-1]\n",
    "        for i in range(num_layers):\n",
    "            layers.append(nn.ConvTranspose1d(in_channels, filters[-(i + 1)], kernel_size=3, padding=1))\n",
    "            layers.append(nn.ReLU())\n",
    "            if i < num_layers - 1:\n",
    "                layers.append(nn.Upsample(scale_factor=2, mode='nearest'))\n",
    "            in_channels = filters[-(i + 1)]\n",
    "        layers.append(nn.ConvTranspose1d(in_channels, input_channels, kernel_size=3, padding=1))\n",
    "        layers.append(nn.Sigmoid())\n",
    "        return nn.Sequential(*layers)\n",
    "\n",
    "    def forward(self, x):\n",
    "        encoded = self.encoder(x)\n",
    "        decoded = self.decoder(encoded)\n",
    "        return decoded\n",
    "    \n",
    "    def extract_encoder(self):\n",
    "        return self.encoder  # Returns only the encoder part\n",
    "\n",
    "\n",
    "# Define training loop\n",
    "def train_fcmae(model, train_data, val_data, epochs=50, batch_size=32, learning_rate=1e-4, device='cuda'):\n",
    "    model.to(device)\n",
    "    optimizer = optim.Adam(model.parameters(), lr=learning_rate)\n",
    "    criterion = nn.MSELoss()\n",
    "    \n",
    "    train_loader = DataLoader(train_data, batch_size=batch_size, shuffle=True)\n",
    "    val_loader = DataLoader(val_data, batch_size=batch_size, shuffle=False)\n",
    "    \n",
    "    for epoch in range(epochs):\n",
    "        model.train()\n",
    "        train_loss = 0.0\n",
    "        \n",
    "        for inputs, targets in train_loader:\n",
    "            inputs, targets = inputs.to(device), targets.to(device)\n",
    "            optimizer.zero_grad()\n",
    "            outputs = model(inputs)\n",
    "            loss = criterion(outputs, targets)\n",
    "            loss.backward()\n",
    "            optimizer.step()\n",
    "            train_loss += loss.item()\n",
    "        \n",
    "        # Validation\n",
    "        model.eval()\n",
    "        val_loss = 0.0\n",
    "        with torch.no_grad():\n",
    "            for inputs, targets in val_loader:\n",
    "                inputs, targets = inputs.to(device), targets.to(device)\n",
    "                outputs = model(inputs)\n",
    "                loss = criterion(outputs, targets)\n",
    "                val_loss += loss.item()\n",
    "        \n",
    "        print(f\"Epoch {epoch+1}/{epochs}, Train Loss: {train_loss/len(train_loader)}, Val Loss: {val_loss/len(val_loader)}\")\n",
    "    \n",
    "    return model\n",
    "\n",
    "# Prepare data\n",
    "X_train, X_val = train_test_split(all_windows, test_size=0.2, random_state=42)\n",
    "X_train_masked = np.array([mask_data(window, mask_ratio=0.5) for window in X_train])\n",
    "X_val_masked = np.array([mask_data(window, mask_ratio=0.5) for window in X_val])\n",
    "\n",
    "# Convert to PyTorch tensors\n",
    "tensor_X_train = torch.tensor(X_train_masked, dtype=torch.float32).permute(0, 2, 1)  # [batch, channels, seq_len]\n",
    "tensor_X_val = torch.tensor(X_val_masked, dtype=torch.float32).permute(0, 2, 1)\n",
    "tensor_Y_train = torch.tensor(X_train, dtype=torch.float32).permute(0, 2, 1)\n",
    "tensor_Y_val = torch.tensor(X_val, dtype=torch.float32).permute(0, 2, 1)\n",
    "\n",
    "\n",
    "# Create datasets & loaders\n",
    "train_dataset = TensorDataset(tensor_X_train, tensor_Y_train)\n",
    "val_dataset = TensorDataset(tensor_X_val, tensor_Y_val)\n",
    "\n",
    "# Train the model\n",
    "device = torch.device(\"cuda\" if torch.cuda.is_available() else \"cpu\")\n",
    "autoencoder = FullyConvolutionalMaskedAutoencoder(input_channels=1, num_layers=3, filters=[64, 32, 16])\n",
    "trained_model = train_fcmae(autoencoder, train_dataset, val_dataset, epochs=1, batch_size=32, device=device)\n",
    "\n",
    "# Extract & save encoder\n",
    "encoder = autoencoder.extract_encoder()\n",
    "save_location = os.path.join(models_path, 'encoder_model.pth')\n",
    "torch.save(encoder.state_dict(), save_location)\n",
    "print(\"Saved encoder model!\")\n"
   ]
  },
  {
   "cell_type": "code",
   "execution_count": null,
   "metadata": {},
   "outputs": [],
   "source": []
  }
 ],
 "metadata": {
  "kernelspec": {
   "display_name": "Python 3",
   "language": "python",
   "name": "python3"
  },
  "language_info": {
   "codemirror_mode": {
    "name": "ipython",
    "version": 3
   },
   "file_extension": ".py",
   "mimetype": "text/x-python",
   "name": "python",
   "nbconvert_exporter": "python",
   "pygments_lexer": "ipython3",
   "version": "3.11.7"
  }
 },
 "nbformat": 4,
 "nbformat_minor": 2
}
