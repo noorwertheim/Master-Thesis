{
 "cells": [
  {
   "cell_type": "code",
   "execution_count": 1,
   "metadata": {},
   "outputs": [
    {
     "name": "stdout",
     "output_type": "stream",
     "text": [
      "Looking in indexes: https://pypi.org/simple, https://pypi.ngc.nvidia.com\n",
      "Collecting tslearn\n",
      "  Downloading tslearn-0.6.3-py3-none-any.whl.metadata (14 kB)\n",
      "Requirement already satisfied: numpy in /home/nwertheim/miniconda3/lib/python3.12/site-packages (from tslearn) (2.1.3)\n",
      "Requirement already satisfied: scipy in /home/nwertheim/.local/lib/python3.12/site-packages (from tslearn) (1.15.2)\n",
      "Requirement already satisfied: scikit-learn in /home/nwertheim/.local/lib/python3.12/site-packages (from tslearn) (1.6.1)\n",
      "Collecting numba (from tslearn)\n",
      "  Downloading numba-0.61.2-cp312-cp312-manylinux2014_x86_64.manylinux_2_17_x86_64.whl.metadata (2.8 kB)\n",
      "Requirement already satisfied: joblib in /home/nwertheim/.local/lib/python3.12/site-packages (from tslearn) (1.4.2)\n",
      "Collecting llvmlite<0.45,>=0.44.0dev0 (from numba->tslearn)\n",
      "  Downloading llvmlite-0.44.0-cp312-cp312-manylinux_2_17_x86_64.manylinux2014_x86_64.whl.metadata (5.0 kB)\n",
      "Requirement already satisfied: threadpoolctl>=3.1.0 in /home/nwertheim/.local/lib/python3.12/site-packages (from scikit-learn->tslearn) (3.6.0)\n",
      "Downloading tslearn-0.6.3-py3-none-any.whl (374 kB)\n",
      "Downloading numba-0.61.2-cp312-cp312-manylinux2014_x86_64.manylinux_2_17_x86_64.whl (3.9 MB)\n",
      "\u001b[2K   \u001b[90m━━━━━━━━━━━━━━━━━━━━━━━━━━━━━━━━━━━━━━━━\u001b[0m \u001b[32m3.9/3.9 MB\u001b[0m \u001b[31m197.6 MB/s\u001b[0m eta \u001b[36m0:00:00\u001b[0m\n",
      "\u001b[?25hDownloading llvmlite-0.44.0-cp312-cp312-manylinux_2_17_x86_64.manylinux2014_x86_64.whl (42.4 MB)\n",
      "\u001b[2K   \u001b[90m━━━━━━━━━━━━━━━━━━━━━━━━━━━━━━━━━━━━━━━━\u001b[0m \u001b[32m42.4/42.4 MB\u001b[0m \u001b[31m168.1 MB/s\u001b[0m eta \u001b[36m0:00:00\u001b[0ma \u001b[36m0:00:01\u001b[0m\n",
      "\u001b[?25hInstalling collected packages: llvmlite, numba, tslearn\n",
      "\u001b[31mERROR: Could not install packages due to an OSError: [Errno 122] Disk quota exceeded\n",
      "\u001b[0m\u001b[31m\n",
      "\u001b[0m"
     ]
    }
   ],
   "source": [
    "!pip install tslearn\n"
   ]
  },
  {
   "cell_type": "code",
   "execution_count": null,
   "metadata": {},
   "outputs": [],
   "source": []
  }
 ],
 "metadata": {
  "kernelspec": {
   "display_name": "base",
   "language": "python",
   "name": "python3"
  },
  "language_info": {
   "codemirror_mode": {
    "name": "ipython",
    "version": 3
   },
   "file_extension": ".py",
   "mimetype": "text/x-python",
   "name": "python",
   "nbconvert_exporter": "python",
   "pygments_lexer": "ipython3",
   "version": "3.12.9"
  }
 },
 "nbformat": 4,
 "nbformat_minor": 2
}
