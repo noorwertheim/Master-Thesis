{
 "cells": [
  {
   "cell_type": "code",
   "execution_count": 1,
   "metadata": {},
   "outputs": [],
   "source": [
    "import sys\n",
    "import os\n",
    "import numpy as np\n",
    "sys.path.insert(1, '../src/')\n",
    "from config import raw_data_path, univariate_data_path, processed_data_path, models_path\n",
    "from preprocessing_modules import EHGRecord, trim_target, filter_target, z_normalize_target, check_normalize_target\n",
    "import scipy.io\n",
    "import pandas as pd\n",
    "import matplotlib.pyplot as plt"
   ]
  },
  {
   "cell_type": "code",
   "execution_count": 2,
   "metadata": {},
   "outputs": [],
   "source": [
    "target_data_path = os.path.join(processed_data_path, 'filtered_target.npy')\n",
    "data = np.load(target_data_path, allow_pickle=True)"
   ]
  },
  {
   "cell_type": "code",
   "execution_count": 3,
   "metadata": {},
   "outputs": [
    {
     "name": "stdout",
     "output_type": "stream",
     "text": [
      "135\n",
      "136\n",
      "137\n",
      "138\n",
      "139\n",
      "140\n",
      "141\n",
      "142\n"
     ]
    }
   ],
   "source": [
    "import os\n",
    "import matplotlib.pyplot as plt\n",
    "import numpy as np\n",
    "\n",
    "for i in range(135, len(data)):\n",
    "    instance = data[i]\n",
    "    print(i)\n",
    "    signal = instance['signal']\n",
    "    record_name = instance['record_name']\n",
    "    \n",
    "    # Create a figure with 6 subplots\n",
    "    fig, axes = plt.subplots(6, 1, figsize=(12, 10), sharex=True)\n",
    "    fig.suptitle(f\"Signal Data for {record_name}\")\n",
    "\n",
    "    # Plot each channel in a separate subplot\n",
    "    time_axis = np.arange(signal.shape[0])  # Time in seconds\n",
    "    for j in range(6):\n",
    "        axes[j].plot(time_axis, signal[:, j], label=f'Channel {j+1}')\n",
    "        axes[j].set_ylabel(\"Amplitude\")\n",
    "        axes[j].legend()\n",
    "\n",
    "    axes[-1].set_xlabel(\"Time (seconds)\")\n",
    "\n",
    "    plt.tight_layout(rect=[0, 0, 1, 0.96])  # Adjust layout to fit title\n",
    "\n",
    "    # Save the plot to a file\n",
    "    plot_directory = os.path.join('..', 'data', 'plots_noise')\n",
    "    os.makedirs(plot_directory, exist_ok=True)  # Create the directory if it doesn't exist\n",
    "    plot_file_path = os.path.join(plot_directory, f\"{record_name}.png\")\n",
    "    plt.savefig(plot_file_path)\n",
    "\n",
    "    plt.close(fig)  # Close the figure to free up memory\n"
   ]
  }
 ],
 "metadata": {
  "kernelspec": {
   "display_name": "Python 3",
   "language": "python",
   "name": "python3"
  },
  "language_info": {
   "codemirror_mode": {
    "name": "ipython",
    "version": 3
   },
   "file_extension": ".py",
   "mimetype": "text/x-python",
   "name": "python",
   "nbconvert_exporter": "python",
   "pygments_lexer": "ipython3",
   "version": "3.11.7"
  }
 },
 "nbformat": 4,
 "nbformat_minor": 2
}
