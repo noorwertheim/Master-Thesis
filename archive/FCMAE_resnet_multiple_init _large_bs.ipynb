{
 "cells": [
  {
   "cell_type": "code",
   "execution_count": 1,
   "metadata": {},
   "outputs": [
    {
     "name": "stdout",
     "output_type": "stream",
     "text": [
      "/home/nwertheim/miniconda3/bin/python\n",
      "/home/nwertheim/miniconda3/bin/python\n"
     ]
    },
    {
     "name": "stderr",
     "output_type": "stream",
     "text": [
      "\u001b[34m\u001b[1mwandb\u001b[0m: Using wandb-core as the SDK backend.  Please refer to https://wandb.me/wandb-core for more information.\n",
      "\u001b[34m\u001b[1mwandb\u001b[0m: \u001b[33mWARNING\u001b[0m If you're specifying your api key in code, ensure this code is not shared publicly.\n",
      "\u001b[34m\u001b[1mwandb\u001b[0m: \u001b[33mWARNING\u001b[0m Consider setting the WANDB_API_KEY environment variable, or running `wandb login` from the command line.\n",
      "\u001b[34m\u001b[1mwandb\u001b[0m: Appending key for api.wandb.ai to your netrc file: /home/nwertheim/.netrc\n",
      "\u001b[34m\u001b[1mwandb\u001b[0m: Currently logged in as: \u001b[33mnoorwertheim\u001b[0m to \u001b[32mhttps://api.wandb.ai\u001b[0m. Use \u001b[1m`wandb login --relogin`\u001b[0m to force relogin\n"
     ]
    },
    {
     "data": {
      "text/plain": [
       "True"
      ]
     },
     "execution_count": 1,
     "metadata": {},
     "output_type": "execute_result"
    }
   ],
   "source": [
    "import os\n",
    "import numpy as np\n",
    "import torch\n",
    "import torch.nn as nn\n",
    "import torch.optim as optim\n",
    "import sys\n",
    "print(sys.executable)\n",
    "sys.path.insert(1, '../src/')\n",
    "from config import raw_data_path, univariate_data_path, processed_data_path, models_path\n",
    "from preprocessing_modules import create_time_windows_with_labels, create_time_windows_with_metadata\n",
    "from skopt import gp_minimize\n",
    "from skopt.space import Real, Integer, Categorical\n",
    "from skopt.utils import use_named_args\n",
    "from skopt import gp_minimize\n",
    "from skopt.space import Real, Integer\n",
    "from skopt.utils import use_named_args\n",
    "import matplotlib.pyplot as plt\n",
    "from FCMAE_model import FCMAE\n",
    "from tsai.models.ResNet import ResNet\n",
    "from tsai.models import ResNet\n",
    "from tsai.models.ResNet import ResNet\n",
    "from fastai.metrics import accuracy\n",
    "from fastai.data.core import DataLoaders\n",
    "from fastai.learner import Learner\n",
    "import torch\n",
    "import wandb\n",
    "wandb.login(key=\"5f15eb7efc1e0e939ccc83345338a0b8c24e2fbc\")"
   ]
  },
  {
   "cell_type": "code",
   "execution_count": 2,
   "metadata": {},
   "outputs": [],
   "source": [
    "# Define FCMAE Hyperparameters:\n",
    "batch_size = 64\n",
    "num_blocks = 5\n",
    "kernel_size = 9\n",
    "base_dim = 128\n",
    "learning_rate_FCMAE = 0.00016938000495408888\n",
    "input_dimension = 2048\n",
    "\n",
    "# ResNet classification head hyperparameters (ADAM)\n",
    "# learning_rate = 1.582887649804575e-04\n",
    "learning_rate = 1e-06"
   ]
  },
  {
   "cell_type": "code",
   "execution_count": 3,
   "metadata": {},
   "outputs": [
    {
     "name": "stdout",
     "output_type": "stream",
     "text": [
      "744\n",
      "192\n",
      "{'record_name': 'Hopper-2024_11_03_14_13_16-0000010179-0002-chan0', 'signal': array([[ 0.70569938],\n",
      "       [ 1.58579907],\n",
      "       [ 1.22047813],\n",
      "       ...,\n",
      "       [-0.30476434],\n",
      "       [-0.16021862],\n",
      "       [-0.40381152]]), 'fs': 20, 'preterm': 1}\n",
      "torch.Size([9900])\n",
      "batch size 64\n"
     ]
    }
   ],
   "source": [
    "\n",
    "'''MY DATA + class weights'''\n",
    "train_dir = os.path.join(univariate_data_path, \"target_univariate_no_PCA_train_2.npy\")\n",
    "train_data = np.load(train_dir, allow_pickle=True)\n",
    "# train_data = pd.DataFrame(train_data)\n",
    "test_dir = os.path.join(univariate_data_path, \"target_univariate_no_PCA_test_2.npy\")\n",
    "test_data = np.load(test_dir, allow_pickle=True)\n",
    "# test_data = pd.DataFrame(test_data)\n",
    "print(len(train_data))\n",
    "print(len(test_data))\n",
    "print(train_data[0])\n",
    "from torch.utils.data import DataLoader, TensorDataset, random_split\n",
    "from sklearn.utils.class_weight import compute_class_weight\n",
    "from fastai.losses import CrossEntropyLossFlat\n",
    "from fastai.optimizer import SGD\n",
    "from torch.optim import AdamW\n",
    "from functools import partial\n",
    "from fastai.optimizer import OptimWrapper\n",
    "device = torch.device(\"cuda\" if torch.cuda.is_available() else \"cpu\")\n",
    "from fastai.data.core import DataLoaders\n",
    "\n",
    "\n",
    "\n",
    "from collections import Counter\n",
    "\n",
    "train_windows, train_labels, train_meta = create_time_windows_with_metadata(train_data)\n",
    "test_windows, test_labels, test_meta = create_time_windows_with_metadata(test_data)\n",
    "\n",
    "# Convert to tensors\n",
    "train_windows_tensor = torch.tensor(train_windows, dtype=torch.float32)\n",
    "train_labels_tensor = torch.tensor(train_labels, dtype=torch.float32)\n",
    "test_windows_tensor = torch.tensor(test_windows, dtype=torch.float32)\n",
    "test_labels_tensor = torch.tensor(test_labels, dtype=torch.float32)\n",
    "\n",
    "train_windows_tensor = train_windows_tensor.unsqueeze(1)  # (1071, 1, 12000)\n",
    "test_windows_tensor = test_windows_tensor.unsqueeze(1)    # (899, 1, 12000)\n",
    "\n",
    "train_labels_tensor = train_labels_tensor.long()\n",
    "test_labels_tensor = test_labels_tensor.long()\n",
    "\n",
    "\n",
    "print(train_labels_tensor.shape)\n",
    "\n",
    "train_dataset = TensorDataset(train_windows_tensor, train_labels_tensor)\n",
    "test_dataset = TensorDataset(test_windows_tensor, test_labels_tensor)\n",
    "\n",
    "train_loader = DataLoader(train_dataset, batch_size=batch_size, shuffle=True)\n",
    "test_loader = DataLoader(test_dataset, batch_size=batch_size, shuffle=False)\n",
    "# Test metadata for reference\n",
    "test_meta = test_meta\n",
    "print('batch size', batch_size)\n",
    "dls = DataLoaders(train_loader, test_loader)\n",
    "\n",
    "\n",
    "# Calculate class weights\n",
    "class_weights = compute_class_weight(class_weight='balanced', classes=np.unique(train_labels), y=train_labels)\n",
    "class_weights_tensor = torch.tensor(class_weights, dtype=torch.float32).to(device)"
   ]
  },
  {
   "cell_type": "code",
   "execution_count": 4,
   "metadata": {},
   "outputs": [
    {
     "name": "stdout",
     "output_type": "stream",
     "text": [
      "Sequential(\n",
      "  (0): Conv1d(1, 128, kernel_size=(9,), stride=(2,), padding=(4,))\n",
      "  (1): BatchNorm1d(128, eps=1e-05, momentum=0.1, affine=True, track_running_stats=True)\n",
      "  (2): ReLU()\n",
      "  (3): Conv1d(128, 256, kernel_size=(9,), stride=(2,), padding=(4,))\n",
      "  (4): BatchNorm1d(256, eps=1e-05, momentum=0.1, affine=True, track_running_stats=True)\n",
      "  (5): ReLU()\n",
      "  (6): Conv1d(256, 512, kernel_size=(9,), stride=(2,), padding=(4,))\n",
      "  (7): BatchNorm1d(512, eps=1e-05, momentum=0.1, affine=True, track_running_stats=True)\n",
      "  (8): ReLU()\n",
      "  (9): Conv1d(512, 1024, kernel_size=(9,), stride=(2,), padding=(4,))\n",
      "  (10): BatchNorm1d(1024, eps=1e-05, momentum=0.1, affine=True, track_running_stats=True)\n",
      "  (11): ReLU()\n",
      "  (12): Conv1d(1024, 2048, kernel_size=(9,), stride=(2,), padding=(4,))\n",
      "  (13): BatchNorm1d(2048, eps=1e-05, momentum=0.1, affine=True, track_running_stats=True)\n",
      "  (14): ReLU()\n",
      ")\n",
      "Sequential(\n",
      "  (0): Conv1d(1, 128, kernel_size=(9,), stride=(2,), padding=(4,))\n",
      "  (1): BatchNorm1d(128, eps=1e-05, momentum=0.1, affine=True, track_running_stats=True)\n",
      "  (2): ReLU()\n",
      "  (3): Conv1d(128, 256, kernel_size=(9,), stride=(2,), padding=(4,))\n",
      "  (4): BatchNorm1d(256, eps=1e-05, momentum=0.1, affine=True, track_running_stats=True)\n",
      "  (5): ReLU()\n",
      "  (6): Conv1d(256, 512, kernel_size=(9,), stride=(2,), padding=(4,))\n",
      "  (7): BatchNorm1d(512, eps=1e-05, momentum=0.1, affine=True, track_running_stats=True)\n",
      "  (8): ReLU()\n",
      "  (9): Conv1d(512, 1024, kernel_size=(9,), stride=(2,), padding=(4,))\n",
      "  (10): BatchNorm1d(1024, eps=1e-05, momentum=0.1, affine=True, track_running_stats=True)\n",
      "  (11): ReLU()\n",
      "  (12): Conv1d(1024, 2048, kernel_size=(9,), stride=(2,), padding=(4,))\n",
      "  (13): BatchNorm1d(2048, eps=1e-05, momentum=0.1, affine=True, track_running_stats=True)\n",
      "  (14): ReLU()\n",
      ")\n"
     ]
    }
   ],
   "source": [
    "\n",
    "\n",
    "\n",
    "# Load the pre-trained encoder\n",
    "# path = os.path.join(models_path, 'FCMAE_encoder_no_PCA_gpu_normalized_correct.pth')\n",
    "path = os.path.join(models_path, 'FCMAE_best_multiple_encoder_gpu.pth')\n",
    "\n",
    "\n",
    "# Load the full FCMAE model\n",
    "fcmae = FCMAE(in_channels=1, base_dim=base_dim, num_blocks=num_blocks, kernel_size=kernel_size)\n",
    "\n",
    "\n",
    "# Load the saved weights into the full model\n",
    "state_dict = torch.load(path)\n",
    "fcmae.load_state_dict(state_dict)\n",
    "\n",
    "# Extract only the encoder from the FCMAE model\n",
    "encoder = fcmae.encoder\n",
    "print(encoder)\n",
    "# Set the encoder to evaluation mode and freeze the encoder parameters\n",
    "encoder.eval()\n",
    "for param in encoder.parameters():\n",
    "    param.requires_grad = False  # Freeze the encoder\n",
    "\n",
    "print(encoder)"
   ]
  },
  {
   "cell_type": "code",
   "execution_count": 5,
   "metadata": {},
   "outputs": [
    {
     "name": "stdout",
     "output_type": "stream",
     "text": [
      "\n",
      "🌀 Run 1/5\n"
     ]
    },
    {
     "data": {
      "text/html": [
       "Tracking run with wandb version 0.19.9"
      ],
      "text/plain": [
       "<IPython.core.display.HTML object>"
      ]
     },
     "metadata": {},
     "output_type": "display_data"
    },
    {
     "data": {
      "text/html": [
       "Run data is saved locally in <code>/gpfs/home3/nwertheim/Master-Thesis/notebooks/wandb/run-20250515_091635-srgblwm1</code>"
      ],
      "text/plain": [
       "<IPython.core.display.HTML object>"
      ]
     },
     "metadata": {},
     "output_type": "display_data"
    },
    {
     "data": {
      "text/html": [
       "Syncing run <strong><a href='https://wandb.ai/noorwertheim/FCMAE-resnet-larger%20batch-size/runs/srgblwm1' target=\"_blank\">fcmae-resnet_low_lr-_1</a></strong> to <a href='https://wandb.ai/noorwertheim/FCMAE-resnet-larger%20batch-size' target=\"_blank\">Weights & Biases</a> (<a href='https://wandb.me/developer-guide' target=\"_blank\">docs</a>)<br>"
      ],
      "text/plain": [
       "<IPython.core.display.HTML object>"
      ]
     },
     "metadata": {},
     "output_type": "display_data"
    },
    {
     "data": {
      "text/html": [
       " View project at <a href='https://wandb.ai/noorwertheim/FCMAE-resnet-larger%20batch-size' target=\"_blank\">https://wandb.ai/noorwertheim/FCMAE-resnet-larger%20batch-size</a>"
      ],
      "text/plain": [
       "<IPython.core.display.HTML object>"
      ]
     },
     "metadata": {},
     "output_type": "display_data"
    },
    {
     "data": {
      "text/html": [
       " View run at <a href='https://wandb.ai/noorwertheim/FCMAE-resnet-larger%20batch-size/runs/srgblwm1' target=\"_blank\">https://wandb.ai/noorwertheim/FCMAE-resnet-larger%20batch-size/runs/srgblwm1</a>"
      ],
      "text/plain": [
       "<IPython.core.display.HTML object>"
      ]
     },
     "metadata": {},
     "output_type": "display_data"
    },
    {
     "name": "stdout",
     "output_type": "stream",
     "text": [
      "Could not gather input dimensions\n",
      "WandbCallback was not able to prepare a DataLoader for logging prediction samples -> 'TensorDataset' object has no attribute 'items'\n"
     ]
    },
    {
     "data": {
      "text/html": [
       "\n",
       "<style>\n",
       "    /* Turns off some styling */\n",
       "    progress {\n",
       "        /* gets rid of default border in Firefox and Opera. */\n",
       "        border: none;\n",
       "        /* Needs to be in here for Safari polyfill so background images work as expected. */\n",
       "        background-size: auto;\n",
       "    }\n",
       "    progress:not([value]), progress:not([value])::-webkit-progress-bar {\n",
       "        background: repeating-linear-gradient(45deg, #7e7e7e, #7e7e7e 10px, #5c5c5c 10px, #5c5c5c 20px);\n",
       "    }\n",
       "    .progress-bar-interrupted, .progress-bar-interrupted::-webkit-progress-bar {\n",
       "        background: #F44336;\n",
       "    }\n",
       "</style>\n"
      ],
      "text/plain": [
       "<IPython.core.display.HTML object>"
      ]
     },
     "metadata": {},
     "output_type": "display_data"
    },
    {
     "data": {
      "text/html": [
       "<table border=\"1\" class=\"dataframe\">\n",
       "  <thead>\n",
       "    <tr style=\"text-align: left;\">\n",
       "      <th>epoch</th>\n",
       "      <th>train_loss</th>\n",
       "      <th>valid_loss</th>\n",
       "      <th>accuracy</th>\n",
       "      <th>time</th>\n",
       "    </tr>\n",
       "  </thead>\n",
       "  <tbody>\n",
       "    <tr>\n",
       "      <td>0</td>\n",
       "      <td>0.706191</td>\n",
       "      <td>0.742254</td>\n",
       "      <td>0.394792</td>\n",
       "      <td>00:05</td>\n",
       "    </tr>\n",
       "    <tr>\n",
       "      <td>1</td>\n",
       "      <td>0.695897</td>\n",
       "      <td>0.727497</td>\n",
       "      <td>0.425000</td>\n",
       "      <td>00:05</td>\n",
       "    </tr>\n",
       "    <tr>\n",
       "      <td>2</td>\n",
       "      <td>0.688143</td>\n",
       "      <td>0.707920</td>\n",
       "      <td>0.434375</td>\n",
       "      <td>00:05</td>\n",
       "    </tr>\n",
       "    <tr>\n",
       "      <td>3</td>\n",
       "      <td>0.680053</td>\n",
       "      <td>0.693052</td>\n",
       "      <td>0.447917</td>\n",
       "      <td>00:05</td>\n",
       "    </tr>\n",
       "    <tr>\n",
       "      <td>4</td>\n",
       "      <td>0.676034</td>\n",
       "      <td>0.693693</td>\n",
       "      <td>0.446354</td>\n",
       "      <td>00:05</td>\n",
       "    </tr>\n",
       "    <tr>\n",
       "      <td>5</td>\n",
       "      <td>0.672588</td>\n",
       "      <td>0.683286</td>\n",
       "      <td>0.468750</td>\n",
       "      <td>00:05</td>\n",
       "    </tr>\n",
       "    <tr>\n",
       "      <td>6</td>\n",
       "      <td>0.672160</td>\n",
       "      <td>0.681544</td>\n",
       "      <td>0.457812</td>\n",
       "      <td>00:05</td>\n",
       "    </tr>\n",
       "    <tr>\n",
       "      <td>7</td>\n",
       "      <td>0.669218</td>\n",
       "      <td>0.680361</td>\n",
       "      <td>0.457292</td>\n",
       "      <td>00:05</td>\n",
       "    </tr>\n",
       "    <tr>\n",
       "      <td>8</td>\n",
       "      <td>0.669765</td>\n",
       "      <td>0.682938</td>\n",
       "      <td>0.458333</td>\n",
       "      <td>00:05</td>\n",
       "    </tr>\n",
       "    <tr>\n",
       "      <td>9</td>\n",
       "      <td>0.674507</td>\n",
       "      <td>0.682864</td>\n",
       "      <td>0.459375</td>\n",
       "      <td>00:05</td>\n",
       "    </tr>\n",
       "  </tbody>\n",
       "</table>"
      ],
      "text/plain": [
       "<IPython.core.display.HTML object>"
      ]
     },
     "metadata": {},
     "output_type": "display_data"
    },
    {
     "name": "stdout",
     "output_type": "stream",
     "text": [
      "Better model found at epoch 0 with valid_loss value: 0.7422543168067932.\n",
      "Better model found at epoch 1 with valid_loss value: 0.7274972796440125.\n",
      "Better model found at epoch 2 with valid_loss value: 0.7079196572303772.\n",
      "Better model found at epoch 3 with valid_loss value: 0.6930515170097351.\n",
      "Better model found at epoch 5 with valid_loss value: 0.6832857728004456.\n",
      "Better model found at epoch 6 with valid_loss value: 0.68154376745224.\n",
      "Better model found at epoch 7 with valid_loss value: 0.6803613305091858.\n"
     ]
    },
    {
     "data": {
      "text/html": [
       "\n",
       "<style>\n",
       "    /* Turns off some styling */\n",
       "    progress {\n",
       "        /* gets rid of default border in Firefox and Opera. */\n",
       "        border: none;\n",
       "        /* Needs to be in here for Safari polyfill so background images work as expected. */\n",
       "        background-size: auto;\n",
       "    }\n",
       "    progress:not([value]), progress:not([value])::-webkit-progress-bar {\n",
       "        background: repeating-linear-gradient(45deg, #7e7e7e, #7e7e7e 10px, #5c5c5c 10px, #5c5c5c 20px);\n",
       "    }\n",
       "    .progress-bar-interrupted, .progress-bar-interrupted::-webkit-progress-bar {\n",
       "        background: #F44336;\n",
       "    }\n",
       "</style>\n"
      ],
      "text/plain": [
       "<IPython.core.display.HTML object>"
      ]
     },
     "metadata": {},
     "output_type": "display_data"
    },
    {
     "data": {
      "text/html": [],
      "text/plain": [
       "<IPython.core.display.HTML object>"
      ]
     },
     "metadata": {},
     "output_type": "display_data"
    },
    {
     "data": {
      "text/html": [],
      "text/plain": [
       "<IPython.core.display.HTML object>"
      ]
     },
     "metadata": {},
     "output_type": "display_data"
    },
    {
     "data": {
      "text/html": [
       "<br>    <style><br>        .wandb-row {<br>            display: flex;<br>            flex-direction: row;<br>            flex-wrap: wrap;<br>            justify-content: flex-start;<br>            width: 100%;<br>        }<br>        .wandb-col {<br>            display: flex;<br>            flex-direction: column;<br>            flex-basis: 100%;<br>            flex: 1;<br>            padding: 10px;<br>        }<br>    </style><br><div class=\"wandb-row\"><div class=\"wandb-col\"><h3>Run history:</h3><br/><table class=\"wandb\"><tr><td>accuracy</td><td>▁▄▅▆▆█▇▇▇▇</td></tr><tr><td>epoch</td><td>▁▁▁▁▁▁▁▁▂▂▂▃▃▃▄▄▄▄▅▅▅▅▆▆▆▆▆▇▇▇▇▇▇▇▇▇▇███</td></tr><tr><td>eps_0</td><td>▁▁▁▁▁▁▁▁▁▁▁▁▁▁▁▁▁▁▁▁▁▁▁▁▁▁▁▁▁▁▁▁▁▁▁▁▁▁▁▁</td></tr><tr><td>final_accuracy</td><td>▁</td></tr><tr><td>final_auc</td><td>▁</td></tr><tr><td>final_average_precision</td><td>▁</td></tr><tr><td>final_f1</td><td>▁</td></tr><tr><td>final_precision</td><td>▁</td></tr><tr><td>final_recall</td><td>▁</td></tr><tr><td>lr_0</td><td>▁▁▃▃▄▆▆▆▇████████▇▇▇▇▅▅▅▅▄▄▄▄▃▃▃▃▃▃▂▂▁▁▁</td></tr><tr><td>mom_0</td><td>█▇▆▆▄▃▂▂▂▁▁▁▁▁▁▂▂▂▂▂▃▃▃▃▄▄▄▅▅▅▆▆▆▇▇▇▇███</td></tr><tr><td>raw_loss</td><td>▇▅█▅▅▄▅▅▃▅▃▂▂▄▃▅▄▃▁▄▂▄▃▃▂▂▃▅▁▂▂▃▂▄▂▁▁▃▄▃</td></tr><tr><td>sqr_mom_0</td><td>▁▁▁▁▁▁▁▁▁▁▁▁▁▁▁▁▁▁▁▁▁▁▁▁▁▁▁▁▁▁▁▁▁▁▁▁▁▁▁▁</td></tr><tr><td>train_loss</td><td>▇▇███▆▆▄▄▄▃▃▃▃▃▂▂▃▂▂▂▂▂▂▂▂▂▁▁▁▁▁▂▁▁▁▁▂▂▁</td></tr><tr><td>train_samples_per_sec</td><td>████▅▇▃▇███▅▃▃▄▂▇▃▃▁▄▇▃▇▃▃▁▃▃▂█▆▆▇▆▃▃▅█▃</td></tr><tr><td>valid_loss</td><td>█▆▄▂▃▁▁▁▁▁</td></tr><tr><td>wd_0</td><td>▁▁▁▁▁▁▁▁▁▁▁▁▁▁▁▁▁▁▁▁▁▁▁▁▁▁▁▁▁▁▁▁▁▁▁▁▁▁▁▁</td></tr></table><br/></div><div class=\"wandb-col\"><h3>Run summary:</h3><br/><table class=\"wandb\"><tr><td>accuracy</td><td>0.45937</td></tr><tr><td>epoch</td><td>10</td></tr><tr><td>eps_0</td><td>1e-05</td></tr><tr><td>final_accuracy</td><td>0.45729</td></tr><tr><td>final_auc</td><td>0.72361</td></tr><tr><td>final_average_precision</td><td>0.91591</td></tr><tr><td>final_f1</td><td>0.4867</td></tr><tr><td>final_precision</td><td>0.95367</td></tr><tr><td>final_recall</td><td>0.32672</td></tr><tr><td>lr_0</td><td>0.0</td></tr><tr><td>mom_0</td><td>0.95</td></tr><tr><td>raw_loss</td><td>0.61399</td></tr><tr><td>sqr_mom_0</td><td>0.99</td></tr><tr><td>train_loss</td><td>0.67451</td></tr><tr><td>train_samples_per_sec</td><td>2291.27297</td></tr><tr><td>valid_loss</td><td>0.68286</td></tr><tr><td>wd_0</td><td>0.01</td></tr></table><br/></div></div>"
      ],
      "text/plain": [
       "<IPython.core.display.HTML object>"
      ]
     },
     "metadata": {},
     "output_type": "display_data"
    },
    {
     "data": {
      "text/html": [
       " View run <strong style=\"color:#cdcd00\">fcmae-resnet_low_lr-_1</strong> at: <a href='https://wandb.ai/noorwertheim/FCMAE-resnet-larger%20batch-size/runs/srgblwm1' target=\"_blank\">https://wandb.ai/noorwertheim/FCMAE-resnet-larger%20batch-size/runs/srgblwm1</a><br> View project at: <a href='https://wandb.ai/noorwertheim/FCMAE-resnet-larger%20batch-size' target=\"_blank\">https://wandb.ai/noorwertheim/FCMAE-resnet-larger%20batch-size</a><br>Synced 5 W&B file(s), 0 media file(s), 2 artifact file(s) and 0 other file(s)"
      ],
      "text/plain": [
       "<IPython.core.display.HTML object>"
      ]
     },
     "metadata": {},
     "output_type": "display_data"
    },
    {
     "data": {
      "text/html": [
       "Find logs at: <code>./wandb/run-20250515_091635-srgblwm1/logs</code>"
      ],
      "text/plain": [
       "<IPython.core.display.HTML object>"
      ]
     },
     "metadata": {},
     "output_type": "display_data"
    },
    {
     "name": "stdout",
     "output_type": "stream",
     "text": [
      "\n",
      "🌀 Run 2/5\n"
     ]
    },
    {
     "data": {
      "text/html": [
       "Tracking run with wandb version 0.19.9"
      ],
      "text/plain": [
       "<IPython.core.display.HTML object>"
      ]
     },
     "metadata": {},
     "output_type": "display_data"
    },
    {
     "data": {
      "text/html": [
       "Run data is saved locally in <code>/gpfs/home3/nwertheim/Master-Thesis/notebooks/wandb/run-20250515_091736-uoxqp9e5</code>"
      ],
      "text/plain": [
       "<IPython.core.display.HTML object>"
      ]
     },
     "metadata": {},
     "output_type": "display_data"
    },
    {
     "data": {
      "text/html": [
       "Syncing run <strong><a href='https://wandb.ai/noorwertheim/FCMAE-resnet-larger%20batch-size/runs/uoxqp9e5' target=\"_blank\">fcmae-resnet_low_lr-_2</a></strong> to <a href='https://wandb.ai/noorwertheim/FCMAE-resnet-larger%20batch-size' target=\"_blank\">Weights & Biases</a> (<a href='https://wandb.me/developer-guide' target=\"_blank\">docs</a>)<br>"
      ],
      "text/plain": [
       "<IPython.core.display.HTML object>"
      ]
     },
     "metadata": {},
     "output_type": "display_data"
    },
    {
     "data": {
      "text/html": [
       " View project at <a href='https://wandb.ai/noorwertheim/FCMAE-resnet-larger%20batch-size' target=\"_blank\">https://wandb.ai/noorwertheim/FCMAE-resnet-larger%20batch-size</a>"
      ],
      "text/plain": [
       "<IPython.core.display.HTML object>"
      ]
     },
     "metadata": {},
     "output_type": "display_data"
    },
    {
     "data": {
      "text/html": [
       " View run at <a href='https://wandb.ai/noorwertheim/FCMAE-resnet-larger%20batch-size/runs/uoxqp9e5' target=\"_blank\">https://wandb.ai/noorwertheim/FCMAE-resnet-larger%20batch-size/runs/uoxqp9e5</a>"
      ],
      "text/plain": [
       "<IPython.core.display.HTML object>"
      ]
     },
     "metadata": {},
     "output_type": "display_data"
    },
    {
     "name": "stdout",
     "output_type": "stream",
     "text": [
      "Could not gather input dimensions\n",
      "WandbCallback was not able to prepare a DataLoader for logging prediction samples -> 'TensorDataset' object has no attribute 'items'\n"
     ]
    },
    {
     "data": {
      "text/html": [
       "\n",
       "<style>\n",
       "    /* Turns off some styling */\n",
       "    progress {\n",
       "        /* gets rid of default border in Firefox and Opera. */\n",
       "        border: none;\n",
       "        /* Needs to be in here for Safari polyfill so background images work as expected. */\n",
       "        background-size: auto;\n",
       "    }\n",
       "    progress:not([value]), progress:not([value])::-webkit-progress-bar {\n",
       "        background: repeating-linear-gradient(45deg, #7e7e7e, #7e7e7e 10px, #5c5c5c 10px, #5c5c5c 20px);\n",
       "    }\n",
       "    .progress-bar-interrupted, .progress-bar-interrupted::-webkit-progress-bar {\n",
       "        background: #F44336;\n",
       "    }\n",
       "</style>\n"
      ],
      "text/plain": [
       "<IPython.core.display.HTML object>"
      ]
     },
     "metadata": {},
     "output_type": "display_data"
    },
    {
     "data": {
      "text/html": [
       "<table border=\"1\" class=\"dataframe\">\n",
       "  <thead>\n",
       "    <tr style=\"text-align: left;\">\n",
       "      <th>epoch</th>\n",
       "      <th>train_loss</th>\n",
       "      <th>valid_loss</th>\n",
       "      <th>accuracy</th>\n",
       "      <th>time</th>\n",
       "    </tr>\n",
       "  </thead>\n",
       "  <tbody>\n",
       "    <tr>\n",
       "      <td>0</td>\n",
       "      <td>0.692010</td>\n",
       "      <td>0.700336</td>\n",
       "      <td>0.605729</td>\n",
       "      <td>00:05</td>\n",
       "    </tr>\n",
       "    <tr>\n",
       "      <td>1</td>\n",
       "      <td>0.686057</td>\n",
       "      <td>0.677568</td>\n",
       "      <td>0.585417</td>\n",
       "      <td>00:05</td>\n",
       "    </tr>\n",
       "    <tr>\n",
       "      <td>2</td>\n",
       "      <td>0.679530</td>\n",
       "      <td>0.682070</td>\n",
       "      <td>0.471354</td>\n",
       "      <td>00:05</td>\n",
       "    </tr>\n",
       "    <tr>\n",
       "      <td>3</td>\n",
       "      <td>0.675711</td>\n",
       "      <td>0.673127</td>\n",
       "      <td>0.500521</td>\n",
       "      <td>00:05</td>\n",
       "    </tr>\n",
       "    <tr>\n",
       "      <td>4</td>\n",
       "      <td>0.673060</td>\n",
       "      <td>0.669643</td>\n",
       "      <td>0.512500</td>\n",
       "      <td>00:05</td>\n",
       "    </tr>\n",
       "    <tr>\n",
       "      <td>5</td>\n",
       "      <td>0.669698</td>\n",
       "      <td>0.678204</td>\n",
       "      <td>0.460417</td>\n",
       "      <td>00:05</td>\n",
       "    </tr>\n",
       "    <tr>\n",
       "      <td>6</td>\n",
       "      <td>0.671338</td>\n",
       "      <td>0.672721</td>\n",
       "      <td>0.472917</td>\n",
       "      <td>00:05</td>\n",
       "    </tr>\n",
       "    <tr>\n",
       "      <td>7</td>\n",
       "      <td>0.668084</td>\n",
       "      <td>0.683397</td>\n",
       "      <td>0.463021</td>\n",
       "      <td>00:05</td>\n",
       "    </tr>\n",
       "    <tr>\n",
       "      <td>8</td>\n",
       "      <td>0.670769</td>\n",
       "      <td>0.679591</td>\n",
       "      <td>0.452083</td>\n",
       "      <td>00:05</td>\n",
       "    </tr>\n",
       "    <tr>\n",
       "      <td>9</td>\n",
       "      <td>0.668223</td>\n",
       "      <td>0.686848</td>\n",
       "      <td>0.456250</td>\n",
       "      <td>00:05</td>\n",
       "    </tr>\n",
       "  </tbody>\n",
       "</table>"
      ],
      "text/plain": [
       "<IPython.core.display.HTML object>"
      ]
     },
     "metadata": {},
     "output_type": "display_data"
    },
    {
     "name": "stdout",
     "output_type": "stream",
     "text": [
      "Better model found at epoch 0 with valid_loss value: 0.7003355026245117.\n",
      "Better model found at epoch 1 with valid_loss value: 0.677568256855011.\n",
      "Better model found at epoch 3 with valid_loss value: 0.6731274724006653.\n",
      "Better model found at epoch 4 with valid_loss value: 0.6696434020996094.\n"
     ]
    },
    {
     "data": {
      "text/html": [
       "\n",
       "<style>\n",
       "    /* Turns off some styling */\n",
       "    progress {\n",
       "        /* gets rid of default border in Firefox and Opera. */\n",
       "        border: none;\n",
       "        /* Needs to be in here for Safari polyfill so background images work as expected. */\n",
       "        background-size: auto;\n",
       "    }\n",
       "    progress:not([value]), progress:not([value])::-webkit-progress-bar {\n",
       "        background: repeating-linear-gradient(45deg, #7e7e7e, #7e7e7e 10px, #5c5c5c 10px, #5c5c5c 20px);\n",
       "    }\n",
       "    .progress-bar-interrupted, .progress-bar-interrupted::-webkit-progress-bar {\n",
       "        background: #F44336;\n",
       "    }\n",
       "</style>\n"
      ],
      "text/plain": [
       "<IPython.core.display.HTML object>"
      ]
     },
     "metadata": {},
     "output_type": "display_data"
    },
    {
     "data": {
      "text/html": [],
      "text/plain": [
       "<IPython.core.display.HTML object>"
      ]
     },
     "metadata": {},
     "output_type": "display_data"
    },
    {
     "data": {
      "text/html": [],
      "text/plain": [
       "<IPython.core.display.HTML object>"
      ]
     },
     "metadata": {},
     "output_type": "display_data"
    },
    {
     "data": {
      "text/html": [
       "<br>    <style><br>        .wandb-row {<br>            display: flex;<br>            flex-direction: row;<br>            flex-wrap: wrap;<br>            justify-content: flex-start;<br>            width: 100%;<br>        }<br>        .wandb-col {<br>            display: flex;<br>            flex-direction: column;<br>            flex-basis: 100%;<br>            flex: 1;<br>            padding: 10px;<br>        }<br>    </style><br><div class=\"wandb-row\"><div class=\"wandb-col\"><h3>Run history:</h3><br/><table class=\"wandb\"><tr><td>accuracy</td><td>█▇▂▃▄▁▂▁▁▁</td></tr><tr><td>epoch</td><td>▁▁▁▁▁▂▂▂▂▂▃▃▃▃▃▄▄▄▄▄▅▅▅▅▅▆▆▆▆▆▆▇▇▇▇▇▇▇██</td></tr><tr><td>eps_0</td><td>▁▁▁▁▁▁▁▁▁▁▁▁▁▁▁▁▁▁▁▁▁▁▁▁▁▁▁▁▁▁▁▁▁▁▁▁▁▁▁▁</td></tr><tr><td>final_accuracy</td><td>▁</td></tr><tr><td>final_auc</td><td>▁</td></tr><tr><td>final_average_precision</td><td>▁</td></tr><tr><td>final_f1</td><td>▁</td></tr><tr><td>final_precision</td><td>▁</td></tr><tr><td>final_recall</td><td>▁</td></tr><tr><td>lr_0</td><td>▂▃▄▄▄▆▇▇▇▇██████▇▇▇▇▆▆▆▅▅▅▅▅▅▄▃▂▂▂▂▂▁▁▁▁</td></tr><tr><td>mom_0</td><td>██▇▇▅▂▁▁▁▁▁▁▁▁▁▁▂▂▃▃▄▄▄▄▅▅▅▆▆▆▆▆▆▇▇▇▇███</td></tr><tr><td>raw_loss</td><td>▇█▆██▆▇▅▆▆▇▅▅▄▆▆▆▅▆▆▆▆▄▅▂▅▅▆▆▅▆█▆▅▄▅▅▅▂▁</td></tr><tr><td>sqr_mom_0</td><td>▁▁▁▁▁▁▁▁▁▁▁▁▁▁▁▁▁▁▁▁▁▁▁▁▁▁▁▁▁▁▁▁▁▁▁▁▁▁▁▁</td></tr><tr><td>train_loss</td><td>██▇▆▆▆▅▅▅▅▄▄▃▄▃▃▃▃▂▂▃▂▂▂▂▂▂▁▁▁▁▂▂▂▂▂▂▂▂▂</td></tr><tr><td>train_samples_per_sec</td><td>████▆▅███▇▃▄▄█▄▁▇▃▄▃▆█▂▄█▄▁▃▄▇▃█▄▃▄▇▁▃▄▁</td></tr><tr><td>valid_loss</td><td>█▃▄▂▁▃▂▄▃▅</td></tr><tr><td>wd_0</td><td>▁▁▁▁▁▁▁▁▁▁▁▁▁▁▁▁▁▁▁▁▁▁▁▁▁▁▁▁▁▁▁▁▁▁▁▁▁▁▁▁</td></tr></table><br/></div><div class=\"wandb-col\"><h3>Run summary:</h3><br/><table class=\"wandb\"><tr><td>accuracy</td><td>0.45625</td></tr><tr><td>epoch</td><td>10</td></tr><tr><td>eps_0</td><td>1e-05</td></tr><tr><td>final_accuracy</td><td>0.5125</td></tr><tr><td>final_auc</td><td>0.75102</td></tr><tr><td>final_average_precision</td><td>0.92531</td></tr><tr><td>final_f1</td><td>0.55849</td></tr><tr><td>final_precision</td><td>0.97368</td></tr><tr><td>final_recall</td><td>0.39153</td></tr><tr><td>lr_0</td><td>0.0</td></tr><tr><td>mom_0</td><td>0.95</td></tr><tr><td>raw_loss</td><td>0.60827</td></tr><tr><td>sqr_mom_0</td><td>0.99</td></tr><tr><td>train_loss</td><td>0.66822</td></tr><tr><td>train_samples_per_sec</td><td>2275.79419</td></tr><tr><td>valid_loss</td><td>0.68685</td></tr><tr><td>wd_0</td><td>0.01</td></tr></table><br/></div></div>"
      ],
      "text/plain": [
       "<IPython.core.display.HTML object>"
      ]
     },
     "metadata": {},
     "output_type": "display_data"
    },
    {
     "data": {
      "text/html": [
       " View run <strong style=\"color:#cdcd00\">fcmae-resnet_low_lr-_2</strong> at: <a href='https://wandb.ai/noorwertheim/FCMAE-resnet-larger%20batch-size/runs/uoxqp9e5' target=\"_blank\">https://wandb.ai/noorwertheim/FCMAE-resnet-larger%20batch-size/runs/uoxqp9e5</a><br> View project at: <a href='https://wandb.ai/noorwertheim/FCMAE-resnet-larger%20batch-size' target=\"_blank\">https://wandb.ai/noorwertheim/FCMAE-resnet-larger%20batch-size</a><br>Synced 5 W&B file(s), 0 media file(s), 2 artifact file(s) and 0 other file(s)"
      ],
      "text/plain": [
       "<IPython.core.display.HTML object>"
      ]
     },
     "metadata": {},
     "output_type": "display_data"
    },
    {
     "data": {
      "text/html": [
       "Find logs at: <code>./wandb/run-20250515_091736-uoxqp9e5/logs</code>"
      ],
      "text/plain": [
       "<IPython.core.display.HTML object>"
      ]
     },
     "metadata": {},
     "output_type": "display_data"
    },
    {
     "name": "stdout",
     "output_type": "stream",
     "text": [
      "\n",
      "🌀 Run 3/5\n"
     ]
    },
    {
     "data": {
      "text/html": [
       "Tracking run with wandb version 0.19.9"
      ],
      "text/plain": [
       "<IPython.core.display.HTML object>"
      ]
     },
     "metadata": {},
     "output_type": "display_data"
    },
    {
     "data": {
      "text/html": [
       "Run data is saved locally in <code>/gpfs/home3/nwertheim/Master-Thesis/notebooks/wandb/run-20250515_091837-qchf1jqj</code>"
      ],
      "text/plain": [
       "<IPython.core.display.HTML object>"
      ]
     },
     "metadata": {},
     "output_type": "display_data"
    },
    {
     "data": {
      "text/html": [
       "Syncing run <strong><a href='https://wandb.ai/noorwertheim/FCMAE-resnet-larger%20batch-size/runs/qchf1jqj' target=\"_blank\">fcmae-resnet_low_lr-_3</a></strong> to <a href='https://wandb.ai/noorwertheim/FCMAE-resnet-larger%20batch-size' target=\"_blank\">Weights & Biases</a> (<a href='https://wandb.me/developer-guide' target=\"_blank\">docs</a>)<br>"
      ],
      "text/plain": [
       "<IPython.core.display.HTML object>"
      ]
     },
     "metadata": {},
     "output_type": "display_data"
    },
    {
     "data": {
      "text/html": [
       " View project at <a href='https://wandb.ai/noorwertheim/FCMAE-resnet-larger%20batch-size' target=\"_blank\">https://wandb.ai/noorwertheim/FCMAE-resnet-larger%20batch-size</a>"
      ],
      "text/plain": [
       "<IPython.core.display.HTML object>"
      ]
     },
     "metadata": {},
     "output_type": "display_data"
    },
    {
     "data": {
      "text/html": [
       " View run at <a href='https://wandb.ai/noorwertheim/FCMAE-resnet-larger%20batch-size/runs/qchf1jqj' target=\"_blank\">https://wandb.ai/noorwertheim/FCMAE-resnet-larger%20batch-size/runs/qchf1jqj</a>"
      ],
      "text/plain": [
       "<IPython.core.display.HTML object>"
      ]
     },
     "metadata": {},
     "output_type": "display_data"
    },
    {
     "name": "stdout",
     "output_type": "stream",
     "text": [
      "Could not gather input dimensions\n",
      "WandbCallback was not able to prepare a DataLoader for logging prediction samples -> 'TensorDataset' object has no attribute 'items'\n"
     ]
    },
    {
     "data": {
      "text/html": [
       "\n",
       "<style>\n",
       "    /* Turns off some styling */\n",
       "    progress {\n",
       "        /* gets rid of default border in Firefox and Opera. */\n",
       "        border: none;\n",
       "        /* Needs to be in here for Safari polyfill so background images work as expected. */\n",
       "        background-size: auto;\n",
       "    }\n",
       "    progress:not([value]), progress:not([value])::-webkit-progress-bar {\n",
       "        background: repeating-linear-gradient(45deg, #7e7e7e, #7e7e7e 10px, #5c5c5c 10px, #5c5c5c 20px);\n",
       "    }\n",
       "    .progress-bar-interrupted, .progress-bar-interrupted::-webkit-progress-bar {\n",
       "        background: #F44336;\n",
       "    }\n",
       "</style>\n"
      ],
      "text/plain": [
       "<IPython.core.display.HTML object>"
      ]
     },
     "metadata": {},
     "output_type": "display_data"
    },
    {
     "data": {
      "text/html": [
       "<table border=\"1\" class=\"dataframe\">\n",
       "  <thead>\n",
       "    <tr style=\"text-align: left;\">\n",
       "      <th>epoch</th>\n",
       "      <th>train_loss</th>\n",
       "      <th>valid_loss</th>\n",
       "      <th>accuracy</th>\n",
       "      <th>time</th>\n",
       "    </tr>\n",
       "  </thead>\n",
       "  <tbody>\n",
       "    <tr>\n",
       "      <td>0</td>\n",
       "      <td>0.709801</td>\n",
       "      <td>0.651445</td>\n",
       "      <td>0.786979</td>\n",
       "      <td>00:05</td>\n",
       "    </tr>\n",
       "    <tr>\n",
       "      <td>1</td>\n",
       "      <td>0.689991</td>\n",
       "      <td>0.621308</td>\n",
       "      <td>0.786979</td>\n",
       "      <td>00:05</td>\n",
       "    </tr>\n",
       "    <tr>\n",
       "      <td>2</td>\n",
       "      <td>0.683332</td>\n",
       "      <td>0.648213</td>\n",
       "      <td>0.662500</td>\n",
       "      <td>00:05</td>\n",
       "    </tr>\n",
       "    <tr>\n",
       "      <td>3</td>\n",
       "      <td>0.676784</td>\n",
       "      <td>0.635365</td>\n",
       "      <td>0.604688</td>\n",
       "      <td>00:05</td>\n",
       "    </tr>\n",
       "    <tr>\n",
       "      <td>4</td>\n",
       "      <td>0.671881</td>\n",
       "      <td>0.651866</td>\n",
       "      <td>0.558854</td>\n",
       "      <td>00:05</td>\n",
       "    </tr>\n",
       "    <tr>\n",
       "      <td>5</td>\n",
       "      <td>0.672736</td>\n",
       "      <td>0.659550</td>\n",
       "      <td>0.518750</td>\n",
       "      <td>00:05</td>\n",
       "    </tr>\n",
       "    <tr>\n",
       "      <td>6</td>\n",
       "      <td>0.669763</td>\n",
       "      <td>0.661197</td>\n",
       "      <td>0.518750</td>\n",
       "      <td>00:05</td>\n",
       "    </tr>\n",
       "    <tr>\n",
       "      <td>7</td>\n",
       "      <td>0.671238</td>\n",
       "      <td>0.657302</td>\n",
       "      <td>0.512500</td>\n",
       "      <td>00:05</td>\n",
       "    </tr>\n",
       "    <tr>\n",
       "      <td>8</td>\n",
       "      <td>0.669874</td>\n",
       "      <td>0.666789</td>\n",
       "      <td>0.520312</td>\n",
       "      <td>00:05</td>\n",
       "    </tr>\n",
       "    <tr>\n",
       "      <td>9</td>\n",
       "      <td>0.664948</td>\n",
       "      <td>0.660173</td>\n",
       "      <td>0.503125</td>\n",
       "      <td>00:05</td>\n",
       "    </tr>\n",
       "  </tbody>\n",
       "</table>"
      ],
      "text/plain": [
       "<IPython.core.display.HTML object>"
      ]
     },
     "metadata": {},
     "output_type": "display_data"
    },
    {
     "name": "stdout",
     "output_type": "stream",
     "text": [
      "Better model found at epoch 0 with valid_loss value: 0.6514449715614319.\n",
      "Better model found at epoch 1 with valid_loss value: 0.6213076114654541.\n"
     ]
    },
    {
     "data": {
      "text/html": [
       "\n",
       "<style>\n",
       "    /* Turns off some styling */\n",
       "    progress {\n",
       "        /* gets rid of default border in Firefox and Opera. */\n",
       "        border: none;\n",
       "        /* Needs to be in here for Safari polyfill so background images work as expected. */\n",
       "        background-size: auto;\n",
       "    }\n",
       "    progress:not([value]), progress:not([value])::-webkit-progress-bar {\n",
       "        background: repeating-linear-gradient(45deg, #7e7e7e, #7e7e7e 10px, #5c5c5c 10px, #5c5c5c 20px);\n",
       "    }\n",
       "    .progress-bar-interrupted, .progress-bar-interrupted::-webkit-progress-bar {\n",
       "        background: #F44336;\n",
       "    }\n",
       "</style>\n"
      ],
      "text/plain": [
       "<IPython.core.display.HTML object>"
      ]
     },
     "metadata": {},
     "output_type": "display_data"
    },
    {
     "data": {
      "text/html": [],
      "text/plain": [
       "<IPython.core.display.HTML object>"
      ]
     },
     "metadata": {},
     "output_type": "display_data"
    },
    {
     "data": {
      "text/html": [],
      "text/plain": [
       "<IPython.core.display.HTML object>"
      ]
     },
     "metadata": {},
     "output_type": "display_data"
    },
    {
     "data": {
      "text/html": [
       "<br>    <style><br>        .wandb-row {<br>            display: flex;<br>            flex-direction: row;<br>            flex-wrap: wrap;<br>            justify-content: flex-start;<br>            width: 100%;<br>        }<br>        .wandb-col {<br>            display: flex;<br>            flex-direction: column;<br>            flex-basis: 100%;<br>            flex: 1;<br>            padding: 10px;<br>        }<br>    </style><br><div class=\"wandb-row\"><div class=\"wandb-col\"><h3>Run history:</h3><br/><table class=\"wandb\"><tr><td>accuracy</td><td>██▅▄▂▁▁▁▁▁</td></tr><tr><td>epoch</td><td>▁▁▁▁▂▂▂▂▂▃▃▃▄▄▄▄▄▅▅▅▅▅▅▅▆▆▆▆▆▆▆▆▇▇▇▇████</td></tr><tr><td>eps_0</td><td>▁▁▁▁▁▁▁▁▁▁▁▁▁▁▁▁▁▁▁▁▁▁▁▁▁▁▁▁▁▁▁▁▁▁▁▁▁▁▁▁</td></tr><tr><td>final_accuracy</td><td>▁</td></tr><tr><td>final_auc</td><td>▁</td></tr><tr><td>final_average_precision</td><td>▁</td></tr><tr><td>final_f1</td><td>▁</td></tr><tr><td>final_precision</td><td>▁</td></tr><tr><td>final_recall</td><td>▁</td></tr><tr><td>lr_0</td><td>▂▂▄▄▆▇▇▇███████▇▇▇▆▆▆▆▆▅▅▅▄▄▄▃▃▂▂▂▂▁▁▁▁▁</td></tr><tr><td>mom_0</td><td>█▂▁▁▁▁▁▁▁▁▂▂▂▂▂▃▃▃▃▃▄▄▄▄▄▅▅▅▅▆▇▇▇▇▇█████</td></tr><tr><td>raw_loss</td><td>█▇▃▆█▆▅▅▇▅▆█▅▃▆▃▂▄▅▅▃▅▆▄▃▆▆▅▄▄▄▁▅▆▄▃▅▂▆▅</td></tr><tr><td>sqr_mom_0</td><td>▁▁▁▁▁▁▁▁▁▁▁▁▁▁▁▁▁▁▁▁▁▁▁▁▁▁▁▁▁▁▁▁▁▁▁▁▁▁▁▁</td></tr><tr><td>train_loss</td><td>███▆▅▅▄▄▄▄▄▃▄▃▃▃▃▃▃▃▂▂▂▂▂▂▂▂▂▂▂▁▂▂▂▂▂▂▂▁</td></tr><tr><td>train_samples_per_sec</td><td>▇▄▃▇▇▇▃▅▅▂▃▇█▆▇▇▆█▆▃▃▃▂█▆▃█▆▃█▆▁▁█▂▅▇▃▃▃</td></tr><tr><td>valid_loss</td><td>▆▁▅▃▆▇▇▇█▇</td></tr><tr><td>wd_0</td><td>▁▁▁▁▁▁▁▁▁▁▁▁▁▁▁▁▁▁▁▁▁▁▁▁▁▁▁▁▁▁▁▁▁▁▁▁▁▁▁▁</td></tr></table><br/></div><div class=\"wandb-col\"><h3>Run summary:</h3><br/><table class=\"wandb\"><tr><td>accuracy</td><td>0.50313</td></tr><tr><td>epoch</td><td>10</td></tr><tr><td>eps_0</td><td>1e-05</td></tr><tr><td>final_accuracy</td><td>0.78698</td></tr><tr><td>final_auc</td><td>0.46751</td></tr><tr><td>final_average_precision</td><td>0.75758</td></tr><tr><td>final_f1</td><td>0.8803</td></tr><tr><td>final_precision</td><td>0.7895</td></tr><tr><td>final_recall</td><td>0.99471</td></tr><tr><td>lr_0</td><td>0.0</td></tr><tr><td>mom_0</td><td>0.95</td></tr><tr><td>raw_loss</td><td>0.64661</td></tr><tr><td>sqr_mom_0</td><td>0.99</td></tr><tr><td>train_loss</td><td>0.66495</td></tr><tr><td>train_samples_per_sec</td><td>2274.75869</td></tr><tr><td>valid_loss</td><td>0.66017</td></tr><tr><td>wd_0</td><td>0.01</td></tr></table><br/></div></div>"
      ],
      "text/plain": [
       "<IPython.core.display.HTML object>"
      ]
     },
     "metadata": {},
     "output_type": "display_data"
    },
    {
     "data": {
      "text/html": [
       " View run <strong style=\"color:#cdcd00\">fcmae-resnet_low_lr-_3</strong> at: <a href='https://wandb.ai/noorwertheim/FCMAE-resnet-larger%20batch-size/runs/qchf1jqj' target=\"_blank\">https://wandb.ai/noorwertheim/FCMAE-resnet-larger%20batch-size/runs/qchf1jqj</a><br> View project at: <a href='https://wandb.ai/noorwertheim/FCMAE-resnet-larger%20batch-size' target=\"_blank\">https://wandb.ai/noorwertheim/FCMAE-resnet-larger%20batch-size</a><br>Synced 5 W&B file(s), 0 media file(s), 2 artifact file(s) and 0 other file(s)"
      ],
      "text/plain": [
       "<IPython.core.display.HTML object>"
      ]
     },
     "metadata": {},
     "output_type": "display_data"
    },
    {
     "data": {
      "text/html": [
       "Find logs at: <code>./wandb/run-20250515_091837-qchf1jqj/logs</code>"
      ],
      "text/plain": [
       "<IPython.core.display.HTML object>"
      ]
     },
     "metadata": {},
     "output_type": "display_data"
    },
    {
     "name": "stdout",
     "output_type": "stream",
     "text": [
      "\n",
      "🌀 Run 4/5\n"
     ]
    },
    {
     "data": {
      "text/html": [
       "Tracking run with wandb version 0.19.9"
      ],
      "text/plain": [
       "<IPython.core.display.HTML object>"
      ]
     },
     "metadata": {},
     "output_type": "display_data"
    },
    {
     "data": {
      "text/html": [
       "Run data is saved locally in <code>/gpfs/home3/nwertheim/Master-Thesis/notebooks/wandb/run-20250515_091938-hkg8ii1p</code>"
      ],
      "text/plain": [
       "<IPython.core.display.HTML object>"
      ]
     },
     "metadata": {},
     "output_type": "display_data"
    },
    {
     "data": {
      "text/html": [
       "Syncing run <strong><a href='https://wandb.ai/noorwertheim/FCMAE-resnet-larger%20batch-size/runs/hkg8ii1p' target=\"_blank\">fcmae-resnet_low_lr-_4</a></strong> to <a href='https://wandb.ai/noorwertheim/FCMAE-resnet-larger%20batch-size' target=\"_blank\">Weights & Biases</a> (<a href='https://wandb.me/developer-guide' target=\"_blank\">docs</a>)<br>"
      ],
      "text/plain": [
       "<IPython.core.display.HTML object>"
      ]
     },
     "metadata": {},
     "output_type": "display_data"
    },
    {
     "data": {
      "text/html": [
       " View project at <a href='https://wandb.ai/noorwertheim/FCMAE-resnet-larger%20batch-size' target=\"_blank\">https://wandb.ai/noorwertheim/FCMAE-resnet-larger%20batch-size</a>"
      ],
      "text/plain": [
       "<IPython.core.display.HTML object>"
      ]
     },
     "metadata": {},
     "output_type": "display_data"
    },
    {
     "data": {
      "text/html": [
       " View run at <a href='https://wandb.ai/noorwertheim/FCMAE-resnet-larger%20batch-size/runs/hkg8ii1p' target=\"_blank\">https://wandb.ai/noorwertheim/FCMAE-resnet-larger%20batch-size/runs/hkg8ii1p</a>"
      ],
      "text/plain": [
       "<IPython.core.display.HTML object>"
      ]
     },
     "metadata": {},
     "output_type": "display_data"
    },
    {
     "name": "stdout",
     "output_type": "stream",
     "text": [
      "Could not gather input dimensions\n",
      "WandbCallback was not able to prepare a DataLoader for logging prediction samples -> 'TensorDataset' object has no attribute 'items'\n"
     ]
    },
    {
     "data": {
      "text/html": [
       "\n",
       "<style>\n",
       "    /* Turns off some styling */\n",
       "    progress {\n",
       "        /* gets rid of default border in Firefox and Opera. */\n",
       "        border: none;\n",
       "        /* Needs to be in here for Safari polyfill so background images work as expected. */\n",
       "        background-size: auto;\n",
       "    }\n",
       "    progress:not([value]), progress:not([value])::-webkit-progress-bar {\n",
       "        background: repeating-linear-gradient(45deg, #7e7e7e, #7e7e7e 10px, #5c5c5c 10px, #5c5c5c 20px);\n",
       "    }\n",
       "    .progress-bar-interrupted, .progress-bar-interrupted::-webkit-progress-bar {\n",
       "        background: #F44336;\n",
       "    }\n",
       "</style>\n"
      ],
      "text/plain": [
       "<IPython.core.display.HTML object>"
      ]
     },
     "metadata": {},
     "output_type": "display_data"
    },
    {
     "data": {
      "text/html": [
       "<table border=\"1\" class=\"dataframe\">\n",
       "  <thead>\n",
       "    <tr style=\"text-align: left;\">\n",
       "      <th>epoch</th>\n",
       "      <th>train_loss</th>\n",
       "      <th>valid_loss</th>\n",
       "      <th>accuracy</th>\n",
       "      <th>time</th>\n",
       "    </tr>\n",
       "  </thead>\n",
       "  <tbody>\n",
       "    <tr>\n",
       "      <td>0</td>\n",
       "      <td>0.712509</td>\n",
       "      <td>0.617620</td>\n",
       "      <td>0.787500</td>\n",
       "      <td>00:05</td>\n",
       "    </tr>\n",
       "    <tr>\n",
       "      <td>1</td>\n",
       "      <td>0.701495</td>\n",
       "      <td>0.612264</td>\n",
       "      <td>0.722917</td>\n",
       "      <td>00:05</td>\n",
       "    </tr>\n",
       "    <tr>\n",
       "      <td>2</td>\n",
       "      <td>0.686305</td>\n",
       "      <td>0.626347</td>\n",
       "      <td>0.673958</td>\n",
       "      <td>00:05</td>\n",
       "    </tr>\n",
       "    <tr>\n",
       "      <td>3</td>\n",
       "      <td>0.682431</td>\n",
       "      <td>0.645087</td>\n",
       "      <td>0.645833</td>\n",
       "      <td>00:05</td>\n",
       "    </tr>\n",
       "    <tr>\n",
       "      <td>4</td>\n",
       "      <td>0.676532</td>\n",
       "      <td>0.647047</td>\n",
       "      <td>0.553646</td>\n",
       "      <td>00:05</td>\n",
       "    </tr>\n",
       "    <tr>\n",
       "      <td>5</td>\n",
       "      <td>0.669769</td>\n",
       "      <td>0.650786</td>\n",
       "      <td>0.544792</td>\n",
       "      <td>00:05</td>\n",
       "    </tr>\n",
       "    <tr>\n",
       "      <td>6</td>\n",
       "      <td>0.673603</td>\n",
       "      <td>0.653453</td>\n",
       "      <td>0.561979</td>\n",
       "      <td>00:05</td>\n",
       "    </tr>\n",
       "    <tr>\n",
       "      <td>7</td>\n",
       "      <td>0.670757</td>\n",
       "      <td>0.651896</td>\n",
       "      <td>0.551042</td>\n",
       "      <td>00:05</td>\n",
       "    </tr>\n",
       "    <tr>\n",
       "      <td>8</td>\n",
       "      <td>0.672665</td>\n",
       "      <td>0.655650</td>\n",
       "      <td>0.534375</td>\n",
       "      <td>00:05</td>\n",
       "    </tr>\n",
       "    <tr>\n",
       "      <td>9</td>\n",
       "      <td>0.673819</td>\n",
       "      <td>0.658537</td>\n",
       "      <td>0.536979</td>\n",
       "      <td>00:05</td>\n",
       "    </tr>\n",
       "  </tbody>\n",
       "</table>"
      ],
      "text/plain": [
       "<IPython.core.display.HTML object>"
      ]
     },
     "metadata": {},
     "output_type": "display_data"
    },
    {
     "name": "stdout",
     "output_type": "stream",
     "text": [
      "Better model found at epoch 0 with valid_loss value: 0.6176195740699768.\n",
      "Better model found at epoch 1 with valid_loss value: 0.6122635006904602.\n"
     ]
    },
    {
     "data": {
      "text/html": [
       "\n",
       "<style>\n",
       "    /* Turns off some styling */\n",
       "    progress {\n",
       "        /* gets rid of default border in Firefox and Opera. */\n",
       "        border: none;\n",
       "        /* Needs to be in here for Safari polyfill so background images work as expected. */\n",
       "        background-size: auto;\n",
       "    }\n",
       "    progress:not([value]), progress:not([value])::-webkit-progress-bar {\n",
       "        background: repeating-linear-gradient(45deg, #7e7e7e, #7e7e7e 10px, #5c5c5c 10px, #5c5c5c 20px);\n",
       "    }\n",
       "    .progress-bar-interrupted, .progress-bar-interrupted::-webkit-progress-bar {\n",
       "        background: #F44336;\n",
       "    }\n",
       "</style>\n"
      ],
      "text/plain": [
       "<IPython.core.display.HTML object>"
      ]
     },
     "metadata": {},
     "output_type": "display_data"
    },
    {
     "data": {
      "text/html": [],
      "text/plain": [
       "<IPython.core.display.HTML object>"
      ]
     },
     "metadata": {},
     "output_type": "display_data"
    },
    {
     "data": {
      "text/html": [],
      "text/plain": [
       "<IPython.core.display.HTML object>"
      ]
     },
     "metadata": {},
     "output_type": "display_data"
    },
    {
     "data": {
      "text/html": [
       "<br>    <style><br>        .wandb-row {<br>            display: flex;<br>            flex-direction: row;<br>            flex-wrap: wrap;<br>            justify-content: flex-start;<br>            width: 100%;<br>        }<br>        .wandb-col {<br>            display: flex;<br>            flex-direction: column;<br>            flex-basis: 100%;<br>            flex: 1;<br>            padding: 10px;<br>        }<br>    </style><br><div class=\"wandb-row\"><div class=\"wandb-col\"><h3>Run history:</h3><br/><table class=\"wandb\"><tr><td>accuracy</td><td>█▆▅▄▂▁▂▁▁▁</td></tr><tr><td>epoch</td><td>▁▁▁▁▂▂▂▂▂▂▃▃▃▃▄▄▄▄▄▅▅▅▅▅▅▆▆▆▆▇▇▇▇▇▇▇▇███</td></tr><tr><td>eps_0</td><td>▁▁▁▁▁▁▁▁▁▁▁▁▁▁▁▁▁▁▁▁▁▁▁▁▁▁▁▁▁▁▁▁▁▁▁▁▁▁▁▁</td></tr><tr><td>final_accuracy</td><td>▁</td></tr><tr><td>final_auc</td><td>▁</td></tr><tr><td>final_average_precision</td><td>▁</td></tr><tr><td>final_f1</td><td>▁</td></tr><tr><td>final_precision</td><td>▁</td></tr><tr><td>final_recall</td><td>▁</td></tr><tr><td>lr_0</td><td>▁▁▃▅▆▇██████████▇▇▇▇▆▆▆▆▆▅▅▄▄▃▂▂▂▂▁▁▁▁▁▁</td></tr><tr><td>mom_0</td><td>███▇▇▅▅▄▃▃▁▁▁▁▁▁▂▂▂▂▂▃▃▃▄▅▅▆▆▆▇▇▇▇▇█████</td></tr><tr><td>raw_loss</td><td>▅▆█▆█▇▃▂▂▅▃▁▃▃▃▃▁▁▅▃▂▂▃▂▃▁▂▇▂▂▄▂▄▃▁▃▂▃▄▃</td></tr><tr><td>sqr_mom_0</td><td>▁▁▁▁▁▁▁▁▁▁▁▁▁▁▁▁▁▁▁▁▁▁▁▁▁▁▁▁▁▁▁▁▁▁▁▁▁▁▁▁</td></tr><tr><td>train_loss</td><td>▇███▇▇▇▆▅▅▄▃▃▄▃▃▃▃▂▂▂▂▂▁▂▁▂▂▂▂▂▂▂▁▂▁▁▂▂▂</td></tr><tr><td>train_samples_per_sec</td><td>▇▄▇▇▇▃▁▇▄██▄▇▄█▄▂▄▆▃▂▄█▃▄▃▇▅▇▅▁▃▃▂▆▄▇▂▅▁</td></tr><tr><td>valid_loss</td><td>▂▁▃▆▆▇▇▇██</td></tr><tr><td>wd_0</td><td>▁▁▁▁▁▁▁▁▁▁▁▁▁▁▁▁▁▁▁▁▁▁▁▁▁▁▁▁▁▁▁▁▁▁▁▁▁▁▁▁</td></tr></table><br/></div><div class=\"wandb-col\"><h3>Run summary:</h3><br/><table class=\"wandb\"><tr><td>accuracy</td><td>0.53698</td></tr><tr><td>epoch</td><td>10</td></tr><tr><td>eps_0</td><td>1e-05</td></tr><tr><td>final_accuracy</td><td>0.72292</td></tr><tr><td>final_auc</td><td>0.64807</td></tr><tr><td>final_average_precision</td><td>0.83194</td></tr><tr><td>final_f1</td><td>0.82075</td></tr><tr><td>final_precision</td><td>0.83654</td></tr><tr><td>final_recall</td><td>0.80556</td></tr><tr><td>lr_0</td><td>0.0</td></tr><tr><td>mom_0</td><td>0.95</td></tr><tr><td>raw_loss</td><td>0.70031</td></tr><tr><td>sqr_mom_0</td><td>0.99</td></tr><tr><td>train_loss</td><td>0.67382</td></tr><tr><td>train_samples_per_sec</td><td>2269.47557</td></tr><tr><td>valid_loss</td><td>0.65854</td></tr><tr><td>wd_0</td><td>0.01</td></tr></table><br/></div></div>"
      ],
      "text/plain": [
       "<IPython.core.display.HTML object>"
      ]
     },
     "metadata": {},
     "output_type": "display_data"
    },
    {
     "data": {
      "text/html": [
       " View run <strong style=\"color:#cdcd00\">fcmae-resnet_low_lr-_4</strong> at: <a href='https://wandb.ai/noorwertheim/FCMAE-resnet-larger%20batch-size/runs/hkg8ii1p' target=\"_blank\">https://wandb.ai/noorwertheim/FCMAE-resnet-larger%20batch-size/runs/hkg8ii1p</a><br> View project at: <a href='https://wandb.ai/noorwertheim/FCMAE-resnet-larger%20batch-size' target=\"_blank\">https://wandb.ai/noorwertheim/FCMAE-resnet-larger%20batch-size</a><br>Synced 5 W&B file(s), 0 media file(s), 2 artifact file(s) and 0 other file(s)"
      ],
      "text/plain": [
       "<IPython.core.display.HTML object>"
      ]
     },
     "metadata": {},
     "output_type": "display_data"
    },
    {
     "data": {
      "text/html": [
       "Find logs at: <code>./wandb/run-20250515_091938-hkg8ii1p/logs</code>"
      ],
      "text/plain": [
       "<IPython.core.display.HTML object>"
      ]
     },
     "metadata": {},
     "output_type": "display_data"
    },
    {
     "name": "stdout",
     "output_type": "stream",
     "text": [
      "\n",
      "🌀 Run 5/5\n"
     ]
    },
    {
     "data": {
      "text/html": [
       "Tracking run with wandb version 0.19.9"
      ],
      "text/plain": [
       "<IPython.core.display.HTML object>"
      ]
     },
     "metadata": {},
     "output_type": "display_data"
    },
    {
     "data": {
      "text/html": [
       "Run data is saved locally in <code>/gpfs/home3/nwertheim/Master-Thesis/notebooks/wandb/run-20250515_092039-vdhq0oj3</code>"
      ],
      "text/plain": [
       "<IPython.core.display.HTML object>"
      ]
     },
     "metadata": {},
     "output_type": "display_data"
    },
    {
     "data": {
      "text/html": [
       "Syncing run <strong><a href='https://wandb.ai/noorwertheim/FCMAE-resnet-larger%20batch-size/runs/vdhq0oj3' target=\"_blank\">fcmae-resnet_low_lr-_5</a></strong> to <a href='https://wandb.ai/noorwertheim/FCMAE-resnet-larger%20batch-size' target=\"_blank\">Weights & Biases</a> (<a href='https://wandb.me/developer-guide' target=\"_blank\">docs</a>)<br>"
      ],
      "text/plain": [
       "<IPython.core.display.HTML object>"
      ]
     },
     "metadata": {},
     "output_type": "display_data"
    },
    {
     "data": {
      "text/html": [
       " View project at <a href='https://wandb.ai/noorwertheim/FCMAE-resnet-larger%20batch-size' target=\"_blank\">https://wandb.ai/noorwertheim/FCMAE-resnet-larger%20batch-size</a>"
      ],
      "text/plain": [
       "<IPython.core.display.HTML object>"
      ]
     },
     "metadata": {},
     "output_type": "display_data"
    },
    {
     "data": {
      "text/html": [
       " View run at <a href='https://wandb.ai/noorwertheim/FCMAE-resnet-larger%20batch-size/runs/vdhq0oj3' target=\"_blank\">https://wandb.ai/noorwertheim/FCMAE-resnet-larger%20batch-size/runs/vdhq0oj3</a>"
      ],
      "text/plain": [
       "<IPython.core.display.HTML object>"
      ]
     },
     "metadata": {},
     "output_type": "display_data"
    },
    {
     "name": "stdout",
     "output_type": "stream",
     "text": [
      "Could not gather input dimensions\n",
      "WandbCallback was not able to prepare a DataLoader for logging prediction samples -> 'TensorDataset' object has no attribute 'items'\n"
     ]
    },
    {
     "data": {
      "text/html": [
       "\n",
       "<style>\n",
       "    /* Turns off some styling */\n",
       "    progress {\n",
       "        /* gets rid of default border in Firefox and Opera. */\n",
       "        border: none;\n",
       "        /* Needs to be in here for Safari polyfill so background images work as expected. */\n",
       "        background-size: auto;\n",
       "    }\n",
       "    progress:not([value]), progress:not([value])::-webkit-progress-bar {\n",
       "        background: repeating-linear-gradient(45deg, #7e7e7e, #7e7e7e 10px, #5c5c5c 10px, #5c5c5c 20px);\n",
       "    }\n",
       "    .progress-bar-interrupted, .progress-bar-interrupted::-webkit-progress-bar {\n",
       "        background: #F44336;\n",
       "    }\n",
       "</style>\n"
      ],
      "text/plain": [
       "<IPython.core.display.HTML object>"
      ]
     },
     "metadata": {},
     "output_type": "display_data"
    },
    {
     "data": {
      "text/html": [
       "<table border=\"1\" class=\"dataframe\">\n",
       "  <thead>\n",
       "    <tr style=\"text-align: left;\">\n",
       "      <th>epoch</th>\n",
       "      <th>train_loss</th>\n",
       "      <th>valid_loss</th>\n",
       "      <th>accuracy</th>\n",
       "      <th>time</th>\n",
       "    </tr>\n",
       "  </thead>\n",
       "  <tbody>\n",
       "    <tr>\n",
       "      <td>0</td>\n",
       "      <td>0.718538</td>\n",
       "      <td>0.728030</td>\n",
       "      <td>0.357812</td>\n",
       "      <td>00:05</td>\n",
       "    </tr>\n",
       "    <tr>\n",
       "      <td>1</td>\n",
       "      <td>0.697094</td>\n",
       "      <td>0.683931</td>\n",
       "      <td>0.518750</td>\n",
       "      <td>00:05</td>\n",
       "    </tr>\n",
       "    <tr>\n",
       "      <td>2</td>\n",
       "      <td>0.685825</td>\n",
       "      <td>0.670121</td>\n",
       "      <td>0.521875</td>\n",
       "      <td>00:05</td>\n",
       "    </tr>\n",
       "    <tr>\n",
       "      <td>3</td>\n",
       "      <td>0.677258</td>\n",
       "      <td>0.654746</td>\n",
       "      <td>0.560938</td>\n",
       "      <td>00:05</td>\n",
       "    </tr>\n",
       "    <tr>\n",
       "      <td>4</td>\n",
       "      <td>0.674647</td>\n",
       "      <td>0.668654</td>\n",
       "      <td>0.489062</td>\n",
       "      <td>00:05</td>\n",
       "    </tr>\n",
       "    <tr>\n",
       "      <td>5</td>\n",
       "      <td>0.675733</td>\n",
       "      <td>0.671181</td>\n",
       "      <td>0.488021</td>\n",
       "      <td>00:05</td>\n",
       "    </tr>\n",
       "    <tr>\n",
       "      <td>6</td>\n",
       "      <td>0.670020</td>\n",
       "      <td>0.674058</td>\n",
       "      <td>0.486458</td>\n",
       "      <td>00:05</td>\n",
       "    </tr>\n",
       "    <tr>\n",
       "      <td>7</td>\n",
       "      <td>0.670588</td>\n",
       "      <td>0.668925</td>\n",
       "      <td>0.488021</td>\n",
       "      <td>00:05</td>\n",
       "    </tr>\n",
       "    <tr>\n",
       "      <td>8</td>\n",
       "      <td>0.667954</td>\n",
       "      <td>0.673127</td>\n",
       "      <td>0.467187</td>\n",
       "      <td>00:05</td>\n",
       "    </tr>\n",
       "    <tr>\n",
       "      <td>9</td>\n",
       "      <td>0.669896</td>\n",
       "      <td>0.668985</td>\n",
       "      <td>0.518750</td>\n",
       "      <td>00:05</td>\n",
       "    </tr>\n",
       "  </tbody>\n",
       "</table>"
      ],
      "text/plain": [
       "<IPython.core.display.HTML object>"
      ]
     },
     "metadata": {},
     "output_type": "display_data"
    },
    {
     "name": "stdout",
     "output_type": "stream",
     "text": [
      "Better model found at epoch 0 with valid_loss value: 0.7280301451683044.\n",
      "Better model found at epoch 1 with valid_loss value: 0.6839310526847839.\n",
      "Better model found at epoch 2 with valid_loss value: 0.6701208353042603.\n",
      "Better model found at epoch 3 with valid_loss value: 0.654746413230896.\n"
     ]
    },
    {
     "data": {
      "text/html": [
       "\n",
       "<style>\n",
       "    /* Turns off some styling */\n",
       "    progress {\n",
       "        /* gets rid of default border in Firefox and Opera. */\n",
       "        border: none;\n",
       "        /* Needs to be in here for Safari polyfill so background images work as expected. */\n",
       "        background-size: auto;\n",
       "    }\n",
       "    progress:not([value]), progress:not([value])::-webkit-progress-bar {\n",
       "        background: repeating-linear-gradient(45deg, #7e7e7e, #7e7e7e 10px, #5c5c5c 10px, #5c5c5c 20px);\n",
       "    }\n",
       "    .progress-bar-interrupted, .progress-bar-interrupted::-webkit-progress-bar {\n",
       "        background: #F44336;\n",
       "    }\n",
       "</style>\n"
      ],
      "text/plain": [
       "<IPython.core.display.HTML object>"
      ]
     },
     "metadata": {},
     "output_type": "display_data"
    },
    {
     "data": {
      "text/html": [],
      "text/plain": [
       "<IPython.core.display.HTML object>"
      ]
     },
     "metadata": {},
     "output_type": "display_data"
    },
    {
     "data": {
      "text/html": [],
      "text/plain": [
       "<IPython.core.display.HTML object>"
      ]
     },
     "metadata": {},
     "output_type": "display_data"
    },
    {
     "data": {
      "text/html": [
       "<br>    <style><br>        .wandb-row {<br>            display: flex;<br>            flex-direction: row;<br>            flex-wrap: wrap;<br>            justify-content: flex-start;<br>            width: 100%;<br>        }<br>        .wandb-col {<br>            display: flex;<br>            flex-direction: column;<br>            flex-basis: 100%;<br>            flex: 1;<br>            padding: 10px;<br>        }<br>    </style><br><div class=\"wandb-row\"><div class=\"wandb-col\"><h3>Run history:</h3><br/><table class=\"wandb\"><tr><td>accuracy</td><td>▁▇▇█▆▅▅▅▅▇</td></tr><tr><td>epoch</td><td>▁▁▁▁▂▂▂▃▃▃▃▃▃▃▃▄▄▄▄▅▅▅▅▅▅▅▅▅▅▆▆▆▆▆▆▇▇███</td></tr><tr><td>eps_0</td><td>▁▁▁▁▁▁▁▁▁▁▁▁▁▁▁▁▁▁▁▁▁▁▁▁▁▁▁▁▁▁▁▁▁▁▁▁▁▁▁▁</td></tr><tr><td>final_accuracy</td><td>▁</td></tr><tr><td>final_auc</td><td>▁</td></tr><tr><td>final_average_precision</td><td>▁</td></tr><tr><td>final_f1</td><td>▁</td></tr><tr><td>final_precision</td><td>▁</td></tr><tr><td>final_recall</td><td>▁</td></tr><tr><td>lr_0</td><td>▁▁▂▂▃▄▄▄▆▇█████▇▇▆▆▆▅▅▅▅▅▄▄▄▄▃▂▂▂▂▁▁▁▁▁▁</td></tr><tr><td>mom_0</td><td>██▇▇▆▅▄▄▃▁▁▁▁▁▁▂▃▃▃▃▃▃▃▄▄▅▆▆▇▇▇▇▇███████</td></tr><tr><td>raw_loss</td><td>▇█▇▆█▇█▇▅▄▄▃▃▃▅▅▆▄▅▃▄▂▃▂▂▄▅▁▃▃▃▃▃▃▄▅▄▄▄▄</td></tr><tr><td>sqr_mom_0</td><td>▁▁▁▁▁▁▁▁▁▁▁▁▁▁▁▁▁▁▁▁▁▁▁▁▁▁▁▁▁▁▁▁▁▁▁▁▁▁▁▁</td></tr><tr><td>train_loss</td><td>▇█▇▆▆▅▄▃▃▃▃▂▂▂▂▃▃▂▂▂▂▁▂▂▂▂▂▁▂▁▂▂▂▁▁▁▁▁▁▂</td></tr><tr><td>train_samples_per_sec</td><td>▃▃▇▃▃▇█▇▃█▆▃▇▃▂▆▁█▄▆▅▃▇▇▇▃▃▃▃▆▇▁▂▃▅▇▃▃▇▇</td></tr><tr><td>valid_loss</td><td>█▄▂▁▂▃▃▂▃▂</td></tr><tr><td>wd_0</td><td>▁▁▁▁▁▁▁▁▁▁▁▁▁▁▁▁▁▁▁▁▁▁▁▁▁▁▁▁▁▁▁▁▁▁▁▁▁▁▁▁</td></tr></table><br/></div><div class=\"wandb-col\"><h3>Run summary:</h3><br/><table class=\"wandb\"><tr><td>accuracy</td><td>0.51875</td></tr><tr><td>epoch</td><td>10</td></tr><tr><td>eps_0</td><td>1e-05</td></tr><tr><td>final_accuracy</td><td>0.56094</td></tr><tr><td>final_auc</td><td>0.737</td></tr><tr><td>final_average_precision</td><td>0.922</td></tr><tr><td>final_f1</td><td>0.62847</td></tr><tr><td>final_precision</td><td>0.94188</td></tr><tr><td>final_recall</td><td>0.47156</td></tr><tr><td>lr_0</td><td>0.0</td></tr><tr><td>mom_0</td><td>0.95</td></tr><tr><td>raw_loss</td><td>0.64586</td></tr><tr><td>sqr_mom_0</td><td>0.99</td></tr><tr><td>train_loss</td><td>0.6699</td></tr><tr><td>train_samples_per_sec</td><td>2263.26121</td></tr><tr><td>valid_loss</td><td>0.66899</td></tr><tr><td>wd_0</td><td>0.01</td></tr></table><br/></div></div>"
      ],
      "text/plain": [
       "<IPython.core.display.HTML object>"
      ]
     },
     "metadata": {},
     "output_type": "display_data"
    },
    {
     "data": {
      "text/html": [
       " View run <strong style=\"color:#cdcd00\">fcmae-resnet_low_lr-_5</strong> at: <a href='https://wandb.ai/noorwertheim/FCMAE-resnet-larger%20batch-size/runs/vdhq0oj3' target=\"_blank\">https://wandb.ai/noorwertheim/FCMAE-resnet-larger%20batch-size/runs/vdhq0oj3</a><br> View project at: <a href='https://wandb.ai/noorwertheim/FCMAE-resnet-larger%20batch-size' target=\"_blank\">https://wandb.ai/noorwertheim/FCMAE-resnet-larger%20batch-size</a><br>Synced 5 W&B file(s), 0 media file(s), 2 artifact file(s) and 0 other file(s)"
      ],
      "text/plain": [
       "<IPython.core.display.HTML object>"
      ]
     },
     "metadata": {},
     "output_type": "display_data"
    },
    {
     "data": {
      "text/html": [
       "Find logs at: <code>./wandb/run-20250515_092039-vdhq0oj3/logs</code>"
      ],
      "text/plain": [
       "<IPython.core.display.HTML object>"
      ]
     },
     "metadata": {},
     "output_type": "display_data"
    },
    {
     "name": "stdout",
     "output_type": "stream",
     "text": [
      "\n",
      "📊 Final Evaluation:\n",
      "Accuracy: 0.6081 ± 0.1259\n",
      "Precision: 0.8991 ± 0.0725\n",
      "Recall: 0.5980 ± 0.2579\n",
      "F1 Score: 0.6749 ± 0.1514\n",
      "AP: 0.8705 ± 0.0663\n",
      "AUC: 0.6654 ± 0.1052\n"
     ]
    },
    {
     "data": {
      "image/png": "[encoded data removed]",
      "text/plain": [
       "<Figure size 1000x500 with 1 Axes>"
      ]
     },
     "metadata": {},
     "output_type": "display_data"
    },
    {
     "data": {
      "image/png": "[encoded data removed]",
      "text/plain": [
       "<Figure size 1000x500 with 1 Axes>"
      ]
     },
     "metadata": {},
     "output_type": "display_data"
    },
    {
     "data": {
      "image/png": "[encoded data removed]",
      "text/plain": [
       "<Figure size 800x600 with 1 Axes>"
      ]
     },
     "metadata": {},
     "output_type": "display_data"
    }
   ],
   "source": [
    "import numpy as np\n",
    "import torch\n",
    "from sklearn.metrics import (\n",
    "    accuracy_score, precision_score, recall_score,\n",
    "    f1_score, average_precision_score, roc_auc_score,\n",
    "    confusion_matrix\n",
    ")\n",
    "import matplotlib.pyplot as plt\n",
    "import seaborn as sns\n",
    "import pandas as pd\n",
    "from fastai.learner import Learner\n",
    "from fastai.optimizer import SGD\n",
    "from fastai.metrics import accuracy\n",
    "from tsai.data.core import DataLoaders\n",
    "from fastai.callback.wandb import WandbCallback\n",
    "\n",
    "\n",
    "class FCMAEClassifier(nn.Module):\n",
    "    def __init__(self, encoder):\n",
    "        super().__init__()\n",
    "        self.encoder = encoder\n",
    "        self.classifier = ResNet(input_dimension, 2)  \n",
    "\n",
    "    def forward(self, x):\n",
    "        with torch.no_grad():  # freeze encoder\n",
    "            x = self.encoder(x)\n",
    "        return self.classifier(x)\n",
    "\n",
    "# ----------------------------- Utility Functions -----------------------------\n",
    "def seed_everything(seed):\n",
    "    import random, os\n",
    "    random.seed(seed)\n",
    "    np.random.seed(seed)\n",
    "    torch.manual_seed(seed)\n",
    "    torch.cuda.manual_seed_all(seed)\n",
    "\n",
    "\n",
    "# ----------------------------- Experiment Setup -----------------------------\n",
    "num_epochs = 10\n",
    "num_runs = 5\n",
    "device = torch.device(\"cuda\" if torch.cuda.is_available() else \"cpu\")\n",
    "\n",
    "all_train_losses = []\n",
    "all_valid_losses = []\n",
    "all_metrics = []\n",
    "\n",
    "best_ap = -1\n",
    "best_preds = None\n",
    "best_targs = None\n",
    "\n",
    "all_pred_labels = []\n",
    "all_pred_probs = []\n",
    "\n",
    "loss_func = torch.nn.CrossEntropyLoss(weight=class_weights_tensor) \n",
    "\n",
    "\n",
    "\n",
    "for run in range(num_runs):\n",
    "    print(f\"\\n🌀 Run {run+1}/{num_runs}\")\n",
    "    wandb.init(\n",
    "        project=\"FCMAE-resnet-larger batch-size\",\n",
    "        name=f\"fcmae-resnet_low_lr-_{run+1}\",\n",
    "        config={\n",
    "            \"architecture\": \"FCMAE ResNet\",\n",
    "            \"epochs\": num_epochs,\n",
    "            \"batch_size\": batch_size,\n",
    "            \"learning_rate\": learning_rate,\n",
    "            \"run\": run + 1\n",
    "        }\n",
    "    )\n",
    "    seed_everything(run)\n",
    "\n",
    "    model = FCMAEClassifier(encoder).to(device)\n",
    "\n",
    "    learn = Learner(dls, model, loss_func=loss_func, metrics=accuracy, cbs=WandbCallback(log_model=True, log_preds=True))\n",
    "    learn.model.to(device)\n",
    "\n",
    "    learn.fit_one_cycle(num_epochs, learning_rate)\n",
    "\n",
    "    # Record losses\n",
    "    losses = np.array(learn.recorder.losses)\n",
    "    iters_per_epoch = len(dls.train)\n",
    "    train_loss = losses[::2][:num_epochs]\n",
    "    valid_loss = losses[1::2][:num_epochs]\n",
    "    all_train_losses.append(train_loss)\n",
    "    all_valid_losses.append(valid_loss)\n",
    "\n",
    "    # Predictions\n",
    "    preds, targs = learn.get_preds(dl=dls.valid)\n",
    "    pred_labels = preds.argmax(dim=1)\n",
    "    pred_probs = preds[:, 1].cpu().numpy()\n",
    "    true_labels = targs.cpu().numpy()\n",
    "\n",
    "    all_pred_labels.append(pred_labels.cpu().numpy())\n",
    "    all_pred_probs.append(pred_probs)\n",
    "\n",
    "    # Evaluation metrics\n",
    "    acc = accuracy_score(true_labels, pred_labels)\n",
    "    prec = precision_score(true_labels, pred_labels, zero_division=0)\n",
    "    rec = recall_score(true_labels, pred_labels, zero_division=0)\n",
    "    f1 = f1_score(true_labels, pred_labels, zero_division=0)\n",
    "    ap = average_precision_score(true_labels, pred_probs)\n",
    "    auc = roc_auc_score(true_labels, pred_probs)\n",
    "    all_metrics.append([acc, prec, rec, f1, ap, auc])\n",
    "    wandb.log({\n",
    "        \"final_accuracy\": acc,\n",
    "        \"final_precision\": prec,\n",
    "        \"final_recall\": rec,\n",
    "        \"final_f1\": f1,\n",
    "        \"final_average_precision\": ap,\n",
    "        \"final_auc\": auc\n",
    "    })\n",
    "    wandb.finish()\n",
    "\n",
    "    if ap > best_ap:\n",
    "        best_ap = ap\n",
    "        best_preds = preds\n",
    "        best_targs = true_labels\n",
    "\n",
    "# ----------------------------- Post-Processing -----------------------------\n",
    "all_train_losses = np.stack(all_train_losses)\n",
    "all_valid_losses = np.stack(all_valid_losses)\n",
    "all_metrics = np.stack(all_metrics)\n",
    "\n",
    "# Average + std metrics\n",
    "metric_names = ['Accuracy', 'Precision', 'Recall', 'F1 Score', 'AP', 'AUC']\n",
    "mean_metrics = all_metrics.mean(axis=0)\n",
    "std_metrics = all_metrics.std(axis=0)\n",
    "\n",
    "print(\"\\n📊 Final Evaluation:\")\n",
    "for name, mean, std in zip(metric_names, mean_metrics, std_metrics):\n",
    "    print(f\"{name}: {mean:.4f} ± {std:.4f}\")\n",
    "\n",
    "# Save predictions\n",
    "pred_labels = best_preds.argmax(dim=1).cpu().numpy()\n",
    "pred_probs = torch.softmax(best_preds, dim=1)[:, 1].cpu().numpy()\n",
    "\n",
    "# Assuming `test_meta` has the record_name and window_index\n",
    "window_ids = [entry['record_name'] + '-' + str(entry['window_index']) for entry in test_meta]\n",
    "final_df = pd.DataFrame({\n",
    "    'window_id': window_ids,\n",
    "    'best_pred_label': pred_labels,\n",
    "    'best_pred_prob': pred_probs,\n",
    "    'target': best_targs\n",
    "})\n",
    "\n",
    "for run_idx, (labels, probs) in enumerate(zip(all_pred_labels, all_pred_probs), start=1):\n",
    "    final_df[f'pred_label{run_idx}'] = labels\n",
    "    final_df[f'pred_prob{run_idx}'] = probs\n",
    "\n",
    "final_df.to_csv(\"results_FCMAE_resnet_ADAM.csv\", index=False)\n",
    "\n",
    "# ----------------------------- Plot Loss Curves -----------------------------\n",
    "epochs = np.arange(1, num_epochs + 1)\n",
    "plt.figure(figsize=(10, 5))\n",
    "\n",
    "mean_train = all_train_losses.mean(axis=0)\n",
    "std_train = all_train_losses.std(axis=0)\n",
    "plt.plot(epochs, mean_train, label='Train Loss')\n",
    "plt.fill_between(epochs, mean_train - std_train, mean_train + std_train, alpha=0.3)\n",
    "\n",
    "mean_valid = all_valid_losses.mean(axis=0)\n",
    "std_valid = all_valid_losses.std(axis=0)\n",
    "plt.plot(epochs, mean_valid, label='Valid Loss')\n",
    "plt.fill_between(epochs, mean_valid - std_valid, mean_valid + std_valid, alpha=0.3)\n",
    "\n",
    "plt.xlabel('Epoch')\n",
    "plt.ylabel('Loss')\n",
    "plt.title('Average Loss Curves Over Five Runs')\n",
    "plt.legend()\n",
    "plt.grid(True)\n",
    "plt.tight_layout()\n",
    "plt.show()\n",
    "\n",
    "# ----------------------------- Plot Metrics -----------------------------\n",
    "plt.figure(figsize=(10, 5))\n",
    "plt.bar(metric_names, mean_metrics, yerr=std_metrics, capsize=5)\n",
    "plt.title('Average Performance Over Five Runs')\n",
    "plt.ylabel('Score')\n",
    "plt.ylim(0, 1)\n",
    "plt.grid(axis='y')\n",
    "plt.tight_layout()\n",
    "plt.show()\n",
    "\n",
    "# ----------------------------- Confusion Matrix -----------------------------\n",
    "cm = confusion_matrix(best_targs, pred_labels)\n",
    "plt.figure(figsize=(8, 6))\n",
    "sns.heatmap(cm, annot=True, fmt=\"d\", cmap=\"Blues\", cbar=False,\n",
    "            xticklabels=['Class 0', 'Class 1'], yticklabels=['Class 0', 'Class 1'])\n",
    "plt.title('Best Performing Model Confusion Matrix')\n",
    "plt.xlabel('Predicted Label')\n",
    "plt.ylabel('True Label')\n",
    "plt.show()\n"
   ]
  },
  {
   "cell_type": "code",
   "execution_count": 6,
   "metadata": {},
   "outputs": [
    {
     "data": {
      "image/png": "[encoded data removed]",
      "text/plain": [
       "<Figure size 1000x500 with 1 Axes>"
      ]
     },
     "metadata": {},
     "output_type": "display_data"
    }
   ],
   "source": [
    "epochs = np.arange(1, num_epochs + 1)\n",
    "plt.figure(figsize=(10, 5))\n",
    "\n",
    "mean_train = all_train_losses.mean(axis=0)\n",
    "std_train = all_train_losses.std(axis=0)\n",
    "plt.plot(epochs, mean_train, label='Train Loss')\n",
    "plt.fill_between(epochs, mean_train - std_train, mean_train + std_train, alpha=0.3)\n",
    "\n",
    "mean_valid = all_valid_losses.mean(axis=0)\n",
    "std_valid = all_valid_losses.std(axis=0)\n",
    "plt.plot(epochs, mean_valid, label='Valid Loss')\n",
    "plt.fill_between(epochs, mean_valid - std_valid, mean_valid + std_valid, alpha=0.3)\n",
    "\n",
    "plt.xlabel('Epoch')\n",
    "plt.ylabel('Loss')\n",
    "plt.title('Average Loss Curves Over Five Runs')\n",
    "plt.legend()\n",
    "plt.grid(True)\n",
    "plt.tight_layout()\n",
    "plt.show()"
   ]
  }
 ],
 "metadata": {
  "kernelspec": {
   "display_name": "base",
   "language": "python",
   "name": "python3"
  },
  "language_info": {
   "codemirror_mode": {
    "name": "ipython",
    "version": 3
   },
   "file_extension": ".py",
   "mimetype": "text/x-python",
   "name": "python",
   "nbconvert_exporter": "python",
   "pygments_lexer": "ipython3",
   "version": "3.12.9"
  }
 },
 "nbformat": 4,
 "nbformat_minor": 2
}
