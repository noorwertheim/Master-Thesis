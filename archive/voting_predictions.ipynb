{
 "cells": [
  {
   "cell_type": "code",
   "execution_count": 12,
   "metadata": {},
   "outputs": [
    {
     "name": "stdout",
     "output_type": "stream",
     "text": [
      "Hopper-2022_02_12_13_39_48-0000010181-0001\n",
      "Hopper-2023_03_02_10_50_28-0000010181-0003\n",
      "Hopper-2022_06_15_22_05_04-0000010181-0003\n",
      "Hopper-2023_05_25_12_03_38-0000010090-0003\n",
      "Hopper-2022_04_27_18_22_22-0000010090-0002\n",
      "Hopper-2022_08_30_11_59_37-0000010181-0002\n",
      "Hopper-2023_01_30_12_37_54-0000010090-0001\n",
      "Hopper-2024_08_29_13_50_20-0000010009-0003\n",
      "Hopper-2024_02_19_16_29_05-0000010009-0001\n",
      "Hopper-2024_01_26_16_38_34-0000010009-0002\n",
      "Hopper-2023_12_15_18_44_51-0000010181-0005\n",
      "Hopper-2023_08_29_12_15_04-0000010181-0004\n",
      "Hopper-2022_12_02_13_27_01-0000010090-0003\n",
      "Hopper-2023_07_20_07_20_39-0000010181-0001\n",
      "Hopper-2021_11_18_15_50_57-0000010090-0004\n",
      "Hopper-2022_02_11_12_58_15-0000010090-0001\n",
      "Hopper-2022_10_18_15_10_38-0000010181-0001\n",
      "Hopper-2024_08_28_15_01_03-0000010009-0002\n",
      "Hopper-2024_11_03_17_27_01-0000010179-0003\n",
      "Hopper-2022_03_29_14_08_51-0000010090-0003\n",
      "Hopper-2023_08_10_21_38_16-0000010090-0002\n",
      "Hopper-2021_11_26_20_26_59-0000010181-0006\n",
      "Hopper-2022_10_02_07_44_52-0000010181-0003\n",
      "Hopper-2021_09_07_14_13_48-0000010181-0003\n",
      "Hopper-2024_04_29_17_18_35-0000010009-0002\n",
      "Hopper-2022_04_06_20_55_55-0000010181-0002\n",
      "Hopper-2023_01_24_20_15_17-0000010181-0001\n",
      "Hopper-2022_06_30_07_51_11-0000010181-0001\n",
      "Hopper-2023_03_17_19_47_32-0000010181-0002\n",
      "Hopper-2024_03_17_10_10_17-0000010009-0003\n",
      "Hopper-2023_03_21_16_03_46-0000010181-0003\n",
      "Hopper-2022_09_07_06_55_16-0000010181-0003\n",
      "\n",
      "Total unique base record_ids (aggregated across channels and windows): 32\n"
     ]
    }
   ],
   "source": [
    "import pandas as pd\n",
    "import os\n",
    "import sys\n",
    "from sklearn.metrics import accuracy_score, precision_score, recall_score, f1_score, roc_auc_score, average_precision_score, confusion_matrix\n",
    "sys.path.insert(1, '../src/')\n",
    "from CNN_classifier_model import CNNClassifier, train_model, evaluate_model\n",
    "from config import raw_data_path, univariate_data_path, processed_data_path, results_path\n",
    "import re\n",
    "# Load the saved predictions\n",
    "\n",
    "\n",
    "file_name = 'results_ResNet_SGD.csv'\n",
    "\n",
    "path = os.path.join(results_path, file_name)\n",
    "df = pd.read_csv(path)\n",
    "\n",
    "def extract_base_record_id(window_id):\n",
    "    # Remove the '-chanX-window_index' part\n",
    "    return re.sub(r'-chan\\d+-\\d+$', '', window_id)\n",
    "\n",
    "df['base_record_id'] = df['window_id'].apply(extract_base_record_id)\n",
    "\n",
    "# Get all unique base_record_ids\n",
    "unique_base_ids = df['base_record_id'].unique()\n",
    "\n",
    "# Print them all\n",
    "for base_id in unique_base_ids:\n",
    "    print(base_id)\n",
    "\n",
    "# Print total count\n",
    "print(f\"\\nTotal unique base record_ids (aggregated across channels and windows): {len(unique_base_ids)}\")"
   ]
  },
  {
   "cell_type": "code",
   "execution_count": 17,
   "metadata": {},
   "outputs": [
    {
     "name": "stdout",
     "output_type": "stream",
     "text": [
      "Number of patients: 32\n",
      "Accuracy:  0.4688\n",
      "Precision: 0.6667\n",
      "Recall:    0.3000\n",
      "F1-score:  0.4138\n",
      "AUC:       0.5875\n",
      "AP Score:  0.745581585242955\n",
      "\n",
      "Confusion Matrix:\n",
      "[[ 9  3]\n",
      " [14  6]]\n",
      "\n",
      "Classification Report:\n",
      "              precision    recall  f1-score   support\n",
      "\n",
      "           0     0.3913    0.7500    0.5143        12\n",
      "           1     0.6667    0.3000    0.4138        20\n",
      "\n",
      "    accuracy                         0.4688        32\n",
      "   macro avg     0.5290    0.5250    0.4640        32\n",
      "weighted avg     0.5634    0.4688    0.4515        32\n",
      "\n"
     ]
    },
    {
     "data": {
      "image/png": "[encoded data removed]",
      "text/plain": [
       "<Figure size 640x480 with 2 Axes>"
      ]
     },
     "metadata": {},
     "output_type": "display_data"
    }
   ],
   "source": [
    "import pandas as pd\n",
    "import numpy as np\n",
    "import re\n",
    "from sklearn.metrics import (\n",
    "    accuracy_score,\n",
    "    precision_score,\n",
    "    recall_score,\n",
    "    f1_score,\n",
    "    roc_auc_score,\n",
    "    average_precision_score,\n",
    "    confusion_matrix,\n",
    "    classification_report\n",
    ")\n",
    "\n",
    "\n",
    "\n",
    "# Extract base record_id (remove '-chanX-window')\n",
    "def extract_base_record_id(window_id):\n",
    "    return re.sub(r\"-chan\\d+-\\d+$\", \"\", window_id)\n",
    "\n",
    "df[\"base_record_id\"] = df[\"window_id\"].apply(extract_base_record_id)\n",
    "\n",
    "# Group by base_record_id\n",
    "aggregated = df.groupby(\"base_record_id\").agg({\n",
    "    \"pred_label\": lambda x: np.bincount(x).argmax(),  # Majority vote\n",
    "    \"target\": lambda x: x.iloc[0],                    # Assume all targets are the same per record\n",
    "    \"pred_prob\": \"mean\"                               # Optional: average probability\n",
    "}).reset_index()\n",
    "\n",
    "# Extract final predictions and targets\n",
    "y_pred = aggregated[\"pred_label\"].values\n",
    "y_true = aggregated[\"target\"].values\n",
    "y_probs = aggregated[\"pred_prob\"].values\n",
    "\n",
    "# Compute metrics\n",
    "accuracy = accuracy_score(y_true, y_pred)\n",
    "precision = precision_score(y_true, y_pred, zero_division=0)\n",
    "recall = recall_score(y_true, y_pred, zero_division=0)\n",
    "f1 = f1_score(y_true, y_pred, zero_division=0)\n",
    "try:\n",
    "    auc = roc_auc_score(y_true, y_probs)\n",
    "except ValueError:\n",
    "    auc = \"Undefined (only one class present)\"\n",
    "try:\n",
    "    ap = average_precision_score(y_true, y_probs)\n",
    "except ValueError:\n",
    "    ap = \"Undefined (only one class present)\"\n",
    "cm = confusion_matrix(y_true, y_pred)\n",
    "\n",
    "# Print results\n",
    "print(f\"Number of patients: {len(aggregated)}\")\n",
    "print(f\"Accuracy:  {accuracy:.4f}\")\n",
    "print(f\"Precision: {precision:.4f}\")\n",
    "print(f\"Recall:    {recall:.4f}\")\n",
    "print(f\"F1-score:  {f1:.4f}\")\n",
    "print(f\"AUC:       {auc}\")\n",
    "print(f\"AP Score:  {ap}\")\n",
    "print(\"\\nConfusion Matrix:\")\n",
    "print(cm)\n",
    "\n",
    "# Optional: Full classification report\n",
    "print(\"\\nClassification Report:\")\n",
    "print(classification_report(y_true, y_pred, digits=4))\n",
    "\n",
    "sns.heatmap(cm, annot=True, fmt='d', cmap='Blues', xticklabels=[0,1], yticklabels=[0,1])\n",
    "plt.xlabel('Predicted')\n",
    "plt.ylabel('True')\n",
    "plt.title('Confusion Matrix')\n",
    "plt.show()"
   ]
  },
  {
   "cell_type": "code",
   "execution_count": 13,
   "metadata": {},
   "outputs": [
    {
     "name": "stdout",
     "output_type": "stream",
     "text": [
      "Accuracy:  0.5312\n",
      "Precision: 0.7586\n",
      "Recall:    0.3667\n",
      "F1 Score:  0.4944\n",
      "AUC:       0.5861\n",
      "AP Score:  0.6740\n"
     ]
    }
   ],
   "source": [
    "# from sklearn.metrics import classification_report\n",
    "\n",
    "# # Convert to numpy arrays\n",
    "# y_true = record_targets.values\n",
    "# y_pred = record_preds.values\n",
    "\n",
    "# # Calculate scores\n",
    "# accuracy = accuracy_score(y_true, y_pred)\n",
    "# precision = precision_score(y_true, y_pred, zero_division=0)\n",
    "# recall = recall_score(y_true, y_pred, zero_division=0)\n",
    "# f1 = f1_score(y_true, y_pred, zero_division=0)\n",
    "# auc = roc_auc_score(y_true, y_pred)\n",
    "# ap = average_precision_score(y_true, y_pred)\n",
    "\n",
    "# # Print metrics\n",
    "# print(f\"Accuracy:  {accuracy:.4f}\")\n",
    "# print(f\"Precision: {precision:.4f}\")\n",
    "# print(f\"Recall:    {recall:.4f}\")\n",
    "# print(f\"F1 Score:  {f1:.4f}\")\n",
    "# print(f\"AUC:       {auc:.4f}\")\n",
    "# print(f\"AP Score:  {ap:.4f}\")\n"
   ]
  },
  {
   "cell_type": "code",
   "execution_count": 14,
   "metadata": {},
   "outputs": [
    {
     "data": {
      "image/png": "[encoded data removed]",
      "text/plain": [
       "<Figure size 640x480 with 2 Axes>"
      ]
     },
     "metadata": {},
     "output_type": "display_data"
    }
   ],
   "source": [
    "# import seaborn as sns\n",
    "# import matplotlib.pyplot as plt\n",
    "\n",
    "# cm = confusion_matrix(y_true, y_pred)\n",
    "\n",
    "# sns.heatmap(cm, annot=True, fmt='d', cmap='Blues', xticklabels=[0,1], yticklabels=[0,1])\n",
    "# plt.xlabel('Predicted')\n",
    "# plt.ylabel('True')\n",
    "# plt.title('Confusion Matrix')\n",
    "# plt.show()\n",
    "\n"
   ]
  },
  {
   "cell_type": "code",
   "execution_count": null,
   "metadata": {},
   "outputs": [],
   "source": []
  }
 ],
 "metadata": {
  "kernelspec": {
   "display_name": "base",
   "language": "python",
   "name": "python3"
  },
  "language_info": {
   "codemirror_mode": {
    "name": "ipython",
    "version": 3
   },
   "file_extension": ".py",
   "mimetype": "text/x-python",
   "name": "python",
   "nbconvert_exporter": "python",
   "pygments_lexer": "ipython3",
   "version": "3.12.9"
  }
 },
 "nbformat": 4,
 "nbformat_minor": 2
}
