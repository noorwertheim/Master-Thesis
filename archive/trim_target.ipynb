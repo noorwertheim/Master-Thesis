{
 "cells": [
  {
   "cell_type": "code",
   "execution_count": 1,
   "metadata": {},
   "outputs": [],
   "source": [
    "import sys\n",
    "import os\n",
    "import numpy as np\n",
    "sys.path.insert(1, '../src/')\n",
    "from config import raw_data_path, univariate_data_path, processed_data_path, models_path\n",
    "from preprocessing_modules import EHGRecord, trim_target, filter_target, remove_records, z_normalize_target, check_normalize_target\n",
    "import scipy.io\n",
    "import pandas as pd"
   ]
  },
  {
   "cell_type": "code",
   "execution_count": 2,
   "metadata": {},
   "outputs": [],
   "source": [
    "target_data_path = os.path.join(raw_data_path, 'target_data.npy')\n",
    "target_data = np.load(target_data_path, allow_pickle=True)"
   ]
  },
  {
   "cell_type": "code",
   "execution_count": 3,
   "metadata": {},
   "outputs": [],
   "source": [
    "records_to_remove = [\n",
    "    'Hopper-2022_02_10_06_02_17-0000010181-0012',\n",
    "    'Hopper-2022_10_02_01_32_56-0000010181-0002',\n",
    "    'Hopper-2022_10_23_16_07_47-0000010090-0001'\n",
    "]\n",
    "\n",
    "target_data = remove_records(target_data, records_to_remove)\n",
    "trimmed_data = trim_target(target_data, 'data')\n",
    "\n",
    "save_path = os.path.join(processed_data_path, 'trimmed_target.npy')\n",
    "np.save(save_path, np.array(trimmed_data, dtype=object))\n",
    "\n",
    "\n"
   ]
  },
  {
   "cell_type": "code",
   "execution_count": 4,
   "metadata": {},
   "outputs": [],
   "source": [
    "# save_path = os.path.join(processed_data_path, 'target_preprocessed.npy')\n",
    "# np.save(save_path, np.array(normalized_data, dtype=object))"
   ]
  },
  {
   "cell_type": "code",
   "execution_count": 5,
   "metadata": {},
   "outputs": [],
   "source": [
    "# dataset_name = 'target'\n",
    "# print('Statistics of', dataset_name)\n",
    "# data_path_original = os.path.join(raw_data_path, dataset_name + '_data.npy')\n",
    "# data_original = np.load(data_path_original, allow_pickle=True)\n",
    "# data_path_preprocessed = os.path.join(processed_data_path, dataset_name + \"_preprocessed.npy\")\n",
    "# print(data_path_preprocessed)\n",
    "# data_preprocessed = np.load(data_path_preprocessed, allow_pickle=True)\n",
    "# print('type of data preprocessed: ', type(data_preprocessed))\n",
    "# print(\"Type of data_preprocessed:\", type(data_preprocessed))\n",
    "\n",
    "# if isinstance(data_preprocessed, np.ndarray) and data_preprocessed.shape == ():\n",
    "#     data_preprocessed = data_preprocessed.item()  # Unpack the object\n",
    "\n",
    "# print(\"After unpacking, type:\", type(data_preprocessed))\n",
    "\n",
    "# # If it's a list, access the first entry\n",
    "# if isinstance(data_preprocessed, list):\n",
    "#     print(\"First entry:\", data_preprocessed[0] if data_preprocessed else \"Empty dataset!\")\n",
    "\n",
    "\n",
    "# print(data_preprocessed[0])\n",
    "# print(f\"Total number of entries before: {len(data_original)}\")\n",
    "# print(f\"Total number of entries after: {len(data_preprocessed)}\")\n",
    "# # Extract sequence lengths\n",
    "\n",
    "\n",
    "\n",
    "\n",
    "# sequence_lengths_original = np.array([entry['signal'].shape[0] for entry in data_original])\n",
    "# sequence_lengths_processed = np.array([entry['signal'].shape[0] for entry in data_preprocessed])\n",
    "\n",
    "# # Compute statistics\n",
    "# print(f\"Max sequence length: {np.max(sequence_lengths_original)}\")\n",
    "# print(f\"Min sequence length: {np.min(sequence_lengths_original)}\")\n",
    "# print(f\"Mean sequence length: {np.mean(sequence_lengths_original):.2f}\")\n",
    "# # print(f\"Standard deviation of sequence lengths: {np.std(sequence_lengths):.2f}\")\n",
    "\n",
    "# print(f\"Max sequence length: {np.max(sequence_lengths_processed)}\")\n",
    "# print(f\"Min sequence length: {np.min(sequence_lengths_processed)}\")\n",
    "# print(f\"Mean sequence length: {np.mean(sequence_lengths_processed):.2f}\")"
   ]
  },
  {
   "cell_type": "code",
   "execution_count": null,
   "metadata": {},
   "outputs": [],
   "source": []
  }
 ],
 "metadata": {
  "kernelspec": {
   "display_name": "Python 3",
   "language": "python",
   "name": "python3"
  },
  "language_info": {
   "codemirror_mode": {
    "name": "ipython",
    "version": 3
   },
   "file_extension": ".py",
   "mimetype": "text/x-python",
   "name": "python",
   "nbconvert_exporter": "python",
   "pygments_lexer": "ipython3",
   "version": "3.11.7"
  }
 },
 "nbformat": 4,
 "nbformat_minor": 2
}
